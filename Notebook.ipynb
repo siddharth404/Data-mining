{
 "cells": [
  {
   "cell_type": "code",
   "execution_count": 2,
   "id": "10a7c1b0",
   "metadata": {
    "colab": {
     "base_uri": "https://localhost:8080/"
    },
    "id": "A26tZeQxdesx",
    "outputId": "e5dcee12-4e7c-4806-f8e5-a276bef2904b"
   },
   "outputs": [
    {
     "name": "stdout",
     "output_type": "stream",
     "text": [
      "Mounted at /content/drive\n"
     ]
    }
   ],
   "source": [
    "from google.colab import drive\n",
    "drive.mount('/content/drive')"
   ]
  },
  {
   "cell_type": "code",
   "execution_count": 3,
   "id": "ac430695",
   "metadata": {
    "id": "H5HJnnc8dgRL"
   },
   "outputs": [],
   "source": [
    "path='/content/drive/My Drive/Colab Notebooks/Data_Mining/Toxic Comment Analysis/'"
   ]
  },
  {
   "cell_type": "code",
   "execution_count": 4,
   "id": "f2812f3a",
   "metadata": {
    "colab": {
     "base_uri": "https://localhost:8080/",
     "height": 35
    },
    "id": "-l3eafps5Hkv",
    "outputId": "3426a428-5270-4464-a0a9-a20aacdcae95"
   },
   "outputs": [
    {
     "data": {
      "application/vnd.google.colaboratory.intrinsic+json": {
       "type": "string"
      },
      "text/plain": [
       "\"Un-Comment For Running locally out of colab\\npath='./dataset'\\n\""
      ]
     },
     "execution_count": 4,
     "metadata": {
      "tags": []
     },
     "output_type": "execute_result"
    }
   ],
   "source": [
    "\"\"\"Un-Comment For Running locally out of colab\n",
    "path='./dataset'\n",
    "\"\"\"#Un-Comment For Running locally out of colab "
   ]
  },
  {
   "cell_type": "code",
   "execution_count": 5,
   "id": "2922bc28",
   "metadata": {
    "id": "_Ssu7TV15IXS"
   },
   "outputs": [],
   "source": [
    "import pandas as pd\n",
    "import numpy as np"
   ]
  },
  {
   "cell_type": "code",
   "execution_count": 6,
   "id": "ac115e25",
   "metadata": {
    "id": "8hWmZgPS5Jf2"
   },
   "outputs": [],
   "source": [
    "train = pd.read_csv(path + \"train.csv\")\n",
    "test = pd.read_csv(path + \"test.csv\")\n",
    "labels = pd.read_csv(path + \"test_labels.csv\")"
   ]
  },
  {
   "cell_type": "code",
   "execution_count": 7,
   "id": "b2cc5022",
   "metadata": {
    "colab": {
     "base_uri": "https://localhost:8080/"
    },
    "id": "2YkaLCfF5K5s",
    "outputId": "91b91d87-e193-4b6f-a5b0-3de86a98df76"
   },
   "outputs": [
    {
     "data": {
      "text/plain": [
       "['toxic', 'severe_toxic', 'obscene', 'threat', 'insult', 'identity_hate']"
      ]
     },
     "execution_count": 7,
     "metadata": {
      "tags": []
     },
     "output_type": "execute_result"
    }
   ],
   "source": [
    "train = train[:100000]\n",
    "classes = list(train.columns)[2:]\n",
    "classes"
   ]
  },
  {
   "cell_type": "code",
   "execution_count": 8,
   "id": "a668b6c3",
   "metadata": {
    "id": "rBZavbVK7vjT"
   },
   "outputs": [],
   "source": [
    "links = '(http://.*?\\s)|(http://.*)'\n",
    "ip_addr = '\\d{1,3}\\.\\d{1,3}\\.\\d{1,3}\\.\\d{1,3}'\n",
    "users = '\\[\\[User.*'\n",
    "newline = '\\\\n'\n",
    "def clean(comment):\n",
    "  import re\n",
    "  comment=comment.lower()\n",
    "  comment=re.sub(links,'',comment)\n",
    "  comment=re.sub(ip_addr,'',comment)\n",
    "  comment=re.sub(users,'',comment)\n",
    "  comment=re.sub(newline,'',comment)\n",
    "  return comment"
   ]
  },
  {
   "cell_type": "code",
   "execution_count": 9,
   "id": "01823569",
   "metadata": {
    "id": "ZNKmg0MF7zuI"
   },
   "outputs": [],
   "source": [
    "train['comment_text']=train['comment_text'].map(lambda i:clean(i))\n",
    "test['comment_text']=test['comment_text'].map(lambda i:clean(i))"
   ]
  },
  {
   "cell_type": "code",
   "execution_count": 10,
   "id": "ed0aa758",
   "metadata": {
    "colab": {
     "base_uri": "https://localhost:8080/"
    },
    "id": "cdq9Yog770_r",
    "outputId": "958de07e-294b-4d6b-cc2a-f9d64bda6844"
   },
   "outputs": [
    {
     "name": "stdout",
     "output_type": "stream",
     "text": [
      "(100000,)\n",
      "(100000, 6)\n"
     ]
    }
   ],
   "source": [
    "x=train['comment_text']\n",
    "y=train.iloc[:,2:8]\n",
    "print(x.shape)\n",
    "print(y.shape)"
   ]
  },
  {
   "cell_type": "code",
   "execution_count": 11,
   "id": "6c1c47c1",
   "metadata": {
    "id": "rqXTqDmM73dH"
   },
   "outputs": [],
   "source": [
    "from sklearn.model_selection import train_test_split\n",
    "X_train, X_val, y_train, y_val = train_test_split(x,y,test_size=0.2,random_state=1)"
   ]
  },
  {
   "cell_type": "code",
   "execution_count": 12,
   "id": "3d0b6ad5",
   "metadata": {
    "id": "7NcohrfI746e"
   },
   "outputs": [],
   "source": [
    "labels = pd.read_csv(path + \"test_labels.csv\")\n",
    "labels=labels.iloc[:,1:]\n",
    "sum_labels=np.sum(labels,axis=1)\n",
    "idx=sum_labels>=0"
   ]
  },
  {
   "cell_type": "code",
   "execution_count": 13,
   "id": "2c01e90e",
   "metadata": {
    "colab": {
     "base_uri": "https://localhost:8080/"
    },
    "id": "70AwdsWr76VQ",
    "outputId": "2358ee15-54e0-4dc1-ce57-e127603b7951"
   },
   "outputs": [
    {
     "name": "stdout",
     "output_type": "stream",
     "text": [
      "(63978, 6) (63978,)\n"
     ]
    }
   ],
   "source": [
    "labels_consider=labels[idx]\n",
    "test=test.iloc[:,1:]\n",
    "tests_consider=test[idx].values[:,0]\n",
    "\n",
    "print(labels_consider.shape, tests_consider.shape)"
   ]
  },
  {
   "cell_type": "code",
   "execution_count": 13,
   "id": "8d870504",
   "metadata": {
    "id": "kLZHQv8yYlJd"
   },
   "outputs": [],
   "source": []
  },
  {
   "cell_type": "code",
   "execution_count": 14,
   "id": "cdfc8da4",
   "metadata": {
    "id": "wPBDzdl4YiFx"
   },
   "outputs": [],
   "source": [
    "from sklearn.model_selection import train_test_split\n",
    "X_train, X_val, y_train, y_val = train_test_split(x,y,test_size=0.2,random_state=1)"
   ]
  },
  {
   "cell_type": "code",
   "execution_count": 15,
   "id": "6d7df7f3",
   "metadata": {
    "id": "s5Hu4UOkYIp9"
   },
   "outputs": [],
   "source": [
    "from sklearn.feature_extraction.text import TfidfVectorizer\n",
    "tfidf=TfidfVectorizer(max_features=5000,strip_accents='unicode',stop_words='english',token_pattern=r'\\w{2,}')"
   ]
  },
  {
   "cell_type": "code",
   "execution_count": 16,
   "id": "babaa893",
   "metadata": {
    "colab": {
     "base_uri": "https://localhost:8080/"
    },
    "id": "oJYx-a1lYKWE",
    "outputId": "6022f029-47e1-4638-c13b-573d1f68d155"
   },
   "outputs": [
    {
     "name": "stdout",
     "output_type": "stream",
     "text": [
      "(80000, 5000)\n",
      "(20000, 5000)\n",
      "(63978, 5000)\n"
     ]
    }
   ],
   "source": [
    "tfidf.fit(X_train)\n",
    "X_train_feat=tfidf.fit_transform(X_train)\n",
    "print(X_train_feat.shape)\n",
    "\n",
    "X_val_feat=tfidf.transform(X_val)\n",
    "print(X_val_feat.shape)\n",
    "\n",
    "X_test_feat=tfidf.transform(tests_consider)\n",
    "print(X_test_feat.shape)"
   ]
  },
  {
   "cell_type": "code",
   "execution_count": 17,
   "id": "d7b154b5",
   "metadata": {
    "colab": {
     "base_uri": "https://localhost:8080/"
    },
    "id": "DF-ztK6YZMUA",
    "outputId": "77ecec5c-6895-4422-8117-bd10e7c7eaab"
   },
   "outputs": [
    {
     "name": "stdout",
     "output_type": "stream",
     "text": [
      "Collecting scikit-multilearn\n",
      "\u001b[?25l  Downloading https://files.pythonhosted.org/packages/bb/1f/e6ff649c72a1cdf2c7a1d31eb21705110ce1c5d3e7e26b2cc300e1637272/scikit_multilearn-0.2.0-py3-none-any.whl (89kB)\n",
      "\r",
      "\u001b[K     |███▊                            | 10kB 16.0MB/s eta 0:00:01\r",
      "\u001b[K     |███████▍                        | 20kB 1.3MB/s eta 0:00:01\r",
      "\u001b[K     |███████████                     | 30kB 1.6MB/s eta 0:00:01\r",
      "\u001b[K     |██████████████▊                 | 40kB 1.5MB/s eta 0:00:01\r",
      "\u001b[K     |██████████████████▍             | 51kB 1.8MB/s eta 0:00:01\r",
      "\u001b[K     |██████████████████████          | 61kB 2.0MB/s eta 0:00:01\r",
      "\u001b[K     |█████████████████████████▊      | 71kB 2.2MB/s eta 0:00:01\r",
      "\u001b[K     |█████████████████████████████▍  | 81kB 2.4MB/s eta 0:00:01\r",
      "\u001b[K     |████████████████████████████████| 92kB 2.0MB/s \n",
      "\u001b[?25hInstalling collected packages: scikit-multilearn\n",
      "Successfully installed scikit-multilearn-0.2.0\n"
     ]
    }
   ],
   "source": [
    "!pip install scikit-multilearn"
   ]
  },
  {
   "cell_type": "code",
   "execution_count": 18,
   "id": "883d3ed6",
   "metadata": {
    "colab": {
     "base_uri": "https://localhost:8080/"
    },
    "id": "BHcyCrVnZnRI",
    "outputId": "c1530d7b-f5d6-47a4-bfaa-a6942566ed5a"
   },
   "outputs": [
    {
     "name": "stdout",
     "output_type": "stream",
     "text": [
      "(80000,)\n",
      "(80000, 6)\n"
     ]
    }
   ],
   "source": [
    "print(X_train.shape)\n",
    "print(y_train.shape)"
   ]
  },
  {
   "cell_type": "code",
   "execution_count": 18,
   "id": "a7b75490",
   "metadata": {
    "colab": {
     "base_uri": "https://localhost:8080/"
    },
    "id": "q0jtDEOhYKo-",
    "outputId": "338fe151-23b2-44e0-ad51-02482aeaac22"
   },
   "outputs": [
    {
     "data": {
      "text/plain": [
       "BinaryRelevance(classifier=SVC(C=1.0, break_ties=False, cache_size=200,\n",
       "                               class_weight=None, coef0=0.0,\n",
       "                               decision_function_shape='ovr', degree=3,\n",
       "                               gamma='scale', kernel='rbf', max_iter=-1,\n",
       "                               probability=False, random_state=None,\n",
       "                               shrinking=True, tol=0.001, verbose=False),\n",
       "                require_dense=[False, True])"
      ]
     },
     "execution_count": 18,
     "metadata": {
      "tags": []
     },
     "output_type": "execute_result"
    }
   ],
   "source": [
    "from skmultilearn.problem_transform import BinaryRelevance\n",
    "from sklearn.svm import SVC\n",
    "\n",
    "model_br = BinaryRelevance(classifier = SVC(), require_dense = [False, True])\n",
    "model_br.fit(X_train_feat, y_train)"
   ]
  },
  {
   "cell_type": "code",
   "execution_count": 19,
   "id": "18e601bb",
   "metadata": {
    "id": "cs1n42oyYK9Y"
   },
   "outputs": [],
   "source": [
    "preds_train = model_br.predict(X_train_feat)"
   ]
  },
  {
   "cell_type": "code",
   "execution_count": 36,
   "id": "222bd77f",
   "metadata": {
    "colab": {
     "base_uri": "https://localhost:8080/"
    },
    "id": "IPpOiOIvYLRE",
    "outputId": "c2206caf-4f9d-48b9-e2b6-d169f6b56bde"
   },
   "outputs": [
    {
     "name": "stdout",
     "output_type": "stream",
     "text": [
      "0.7689564894630726\n"
     ]
    }
   ],
   "source": [
    "from sklearn.metrics import roc_auc_score, accuracy_score\n",
    "\n",
    "print(roc_auc_score(y_train, preds_train.toarray()))"
   ]
  },
  {
   "cell_type": "code",
   "execution_count": null,
   "id": "1b496d18",
   "metadata": {
    "id": "ZdmVIUZiYLks"
   },
   "outputs": [],
   "source": [
    "preds_val = model_br.predict(X_val_feat)\n"
   ]
  },
  {
   "cell_type": "code",
   "execution_count": 37,
   "id": "09175494",
   "metadata": {
    "colab": {
     "base_uri": "https://localhost:8080/"
    },
    "id": "XmDmd3FlOCO6",
    "outputId": "166256b5-472e-4f8c-8d0d-d2096b3c6cc1"
   },
   "outputs": [
    {
     "name": "stdout",
     "output_type": "stream",
     "text": [
      "0.6665239237377513\n"
     ]
    }
   ],
   "source": [
    "print(roc_auc_score(y_val, preds_val.toarray()))"
   ]
  },
  {
   "cell_type": "code",
   "execution_count": 22,
   "id": "33761a05",
   "metadata": {
    "id": "BnVqSL9tYMCt"
   },
   "outputs": [],
   "source": [
    "preds_test = model_br.predict(X_test_feat)"
   ]
  },
  {
   "cell_type": "code",
   "execution_count": 38,
   "id": "64af7fc3",
   "metadata": {
    "colab": {
     "base_uri": "https://localhost:8080/"
    },
    "id": "rTbfyOIy8Qav",
    "outputId": "3853a4cd-a128-4774-ed58-60ba4983a162"
   },
   "outputs": [
    {
     "name": "stdout",
     "output_type": "stream",
     "text": [
      "0.6636501540392014\n"
     ]
    }
   ],
   "source": [
    "print(roc_auc_score(labels_consider, preds_test.toarray()))"
   ]
  },
  {
   "cell_type": "code",
   "execution_count": 19,
   "id": "3bc0f614",
   "metadata": {
    "colab": {
     "base_uri": "https://localhost:8080/"
    },
    "id": "5f5uqxeW8VTu",
    "outputId": "6a4b69e1-098a-46f6-e126-bb17ec9dfc9d"
   },
   "outputs": [
    {
     "data": {
      "text/plain": [
       "ClassifierChain(classifier=SVC(C=1.0, break_ties=False, cache_size=200,\n",
       "                               class_weight=None, coef0=0.0,\n",
       "                               decision_function_shape='ovr', degree=3,\n",
       "                               gamma='scale', kernel='rbf', max_iter=-1,\n",
       "                               probability=False, random_state=None,\n",
       "                               shrinking=True, tol=0.001, verbose=False),\n",
       "                order=None, require_dense=[False, True])"
      ]
     },
     "execution_count": 19,
     "metadata": {
      "tags": []
     },
     "output_type": "execute_result"
    }
   ],
   "source": [
    "from skmultilearn.problem_transform import ClassifierChain\n",
    "from sklearn.svm import SVC\n",
    "\n",
    "model_cc = ClassifierChain(classifier = SVC(), require_dense = [False, True])\n",
    "model_cc.fit(X_train_feat, y_train)"
   ]
  },
  {
   "cell_type": "code",
   "execution_count": 20,
   "id": "4f7b5616",
   "metadata": {
    "id": "wVeWDaEw786p"
   },
   "outputs": [],
   "source": [
    "preds_train = model_cc.predict(X_train_feat)\n"
   ]
  },
  {
   "cell_type": "code",
   "execution_count": 30,
   "id": "ff092b48",
   "metadata": {
    "colab": {
     "base_uri": "https://localhost:8080/"
    },
    "id": "XI2zBbZd8K_m",
    "outputId": "67f86dbe-306e-413a-aa31-f900a4de5486"
   },
   "outputs": [
    {
     "name": "stdout",
     "output_type": "stream",
     "text": [
      "0.7645674561502386\n"
     ]
    }
   ],
   "source": [
    "from sklearn.metrics import roc_auc_score, accuracy_score\n",
    "\n",
    "print(roc_auc_score(y_train, preds_train.toarray()))"
   ]
  },
  {
   "cell_type": "code",
   "execution_count": null,
   "id": "7d3db0bf",
   "metadata": {
    "id": "LdnfJy1d83WX"
   },
   "outputs": [],
   "source": [
    "preds_val = model_cc.predict(X_val_feat)\n"
   ]
  },
  {
   "cell_type": "code",
   "execution_count": 34,
   "id": "d140b3bf",
   "metadata": {
    "colab": {
     "base_uri": "https://localhost:8080/"
    },
    "id": "aiwjwQw3N6Ui",
    "outputId": "dc57a562-1e8e-471b-ca5a-fea04b57adf3"
   },
   "outputs": [
    {
     "name": "stdout",
     "output_type": "stream",
     "text": [
      "0.6751504109269661\n"
     ]
    }
   ],
   "source": [
    "print(roc_auc_score(y_val, preds_val.toarray()))"
   ]
  },
  {
   "cell_type": "code",
   "execution_count": 22,
   "id": "fe27f817",
   "metadata": {
    "id": "mY0pffex4EGe"
   },
   "outputs": [],
   "source": [
    "preds_test = model_cc.predict(X_test_feat)"
   ]
  },
  {
   "cell_type": "code",
   "execution_count": 35,
   "id": "0839ede6",
   "metadata": {
    "colab": {
     "base_uri": "https://localhost:8080/"
    },
    "id": "mP6A1DvA4WJu",
    "outputId": "4dfe3026-1227-43a7-f5c0-0e70464db3a5"
   },
   "outputs": [
    {
     "name": "stdout",
     "output_type": "stream",
     "text": [
      "0.6718590534519624\n"
     ]
    }
   ],
   "source": [
    "print(roc_auc_score(labels_consider, preds_test.toarray()))"
   ]
  },
  {
   "cell_type": "code",
   "execution_count": null,
   "id": "7c87e0d5",
   "metadata": {
    "id": "Y_pVEd0Y4XvN"
   },
   "outputs": [],
   "source": []
  },
  {
   "cell_type": "code",
   "execution_count": 1,
   "id": "6a0805a3",
   "metadata": {
    "colab": {
     "base_uri": "https://localhost:8080/"
    },
    "id": "VNMFWmoDsBx8",
    "outputId": "4249b632-1c8d-4730-f1f1-11edbc8dd6e1"
   },
   "outputs": [
    {
     "name": "stdout",
     "output_type": "stream",
     "text": [
      "Mounted at /content/drive\n"
     ]
    }
   ],
   "source": [
    "from google.colab import drive\n",
    "drive.mount('/content/drive')"
   ]
  },
  {
   "cell_type": "code",
   "execution_count": 2,
   "id": "c6db275c",
   "metadata": {
    "id": "dmooG68RseQG"
   },
   "outputs": [],
   "source": [
    "path='/content/drive/My Drive/Colab Notebooks/Data_Mining/Toxic Comment Analysis/'"
   ]
  },
  {
   "cell_type": "code",
   "execution_count": 3,
   "id": "089f7a93",
   "metadata": {
    "colab": {
     "base_uri": "https://localhost:8080/",
     "height": 35
    },
    "id": "erJA49Pns7PN",
    "outputId": "5297f411-0ce6-49c1-afba-36f513b2812a"
   },
   "outputs": [
    {
     "data": {
      "application/vnd.google.colaboratory.intrinsic+json": {
       "type": "string"
      },
      "text/plain": [
       "\"Un-Comment For Running locally out of colab\\npath='./dataset'\\n\""
      ]
     },
     "execution_count": 3,
     "metadata": {
      "tags": []
     },
     "output_type": "execute_result"
    }
   ],
   "source": [
    "\"\"\"Un-Comment For Running locally out of colab\n",
    "path='./dataset'\n",
    "\"\"\"#Un-Comment For Running locally out of colab "
   ]
  },
  {
   "cell_type": "code",
   "execution_count": 4,
   "id": "f9d17617",
   "metadata": {
    "id": "NC2nlqYdtDRw"
   },
   "outputs": [],
   "source": [
    "import pandas as pd"
   ]
  },
  {
   "cell_type": "code",
   "execution_count": 5,
   "id": "5c83be96",
   "metadata": {
    "id": "tm1w-jons7oD"
   },
   "outputs": [],
   "source": [
    "train = pd.read_csv(path + \"train.csv\")\n",
    "test = pd.read_csv(path + \"test.csv\")"
   ]
  },
  {
   "cell_type": "code",
   "execution_count": 6,
   "id": "fe2029e6",
   "metadata": {
    "colab": {
     "base_uri": "https://localhost:8080/",
     "height": 204
    },
    "id": "4WzwTlIZtKzs",
    "outputId": "4d2532f6-468d-4ece-83d5-2edf5d1f5315"
   },
   "outputs": [
    {
     "data": {
      "text/html": [
       "<div>\n",
       "<style scoped>\n",
       "    .dataframe tbody tr th:only-of-type {\n",
       "        vertical-align: middle;\n",
       "    }\n",
       "\n",
       "    .dataframe tbody tr th {\n",
       "        vertical-align: top;\n",
       "    }\n",
       "\n",
       "    .dataframe thead th {\n",
       "        text-align: right;\n",
       "    }\n",
       "</style>\n",
       "<table border=\"1\" class=\"dataframe\">\n",
       "  <thead>\n",
       "    <tr style=\"text-align: right;\">\n",
       "      <th></th>\n",
       "      <th>id</th>\n",
       "      <th>comment_text</th>\n",
       "      <th>toxic</th>\n",
       "      <th>severe_toxic</th>\n",
       "      <th>obscene</th>\n",
       "      <th>threat</th>\n",
       "      <th>insult</th>\n",
       "      <th>identity_hate</th>\n",
       "    </tr>\n",
       "  </thead>\n",
       "  <tbody>\n",
       "    <tr>\n",
       "      <th>0</th>\n",
       "      <td>0000997932d777bf</td>\n",
       "      <td>Explanation\\nWhy the edits made under my usern...</td>\n",
       "      <td>0</td>\n",
       "      <td>0</td>\n",
       "      <td>0</td>\n",
       "      <td>0</td>\n",
       "      <td>0</td>\n",
       "      <td>0</td>\n",
       "    </tr>\n",
       "    <tr>\n",
       "      <th>1</th>\n",
       "      <td>000103f0d9cfb60f</td>\n",
       "      <td>D'aww! He matches this background colour I'm s...</td>\n",
       "      <td>0</td>\n",
       "      <td>0</td>\n",
       "      <td>0</td>\n",
       "      <td>0</td>\n",
       "      <td>0</td>\n",
       "      <td>0</td>\n",
       "    </tr>\n",
       "    <tr>\n",
       "      <th>2</th>\n",
       "      <td>000113f07ec002fd</td>\n",
       "      <td>Hey man, I'm really not trying to edit war. It...</td>\n",
       "      <td>0</td>\n",
       "      <td>0</td>\n",
       "      <td>0</td>\n",
       "      <td>0</td>\n",
       "      <td>0</td>\n",
       "      <td>0</td>\n",
       "    </tr>\n",
       "    <tr>\n",
       "      <th>3</th>\n",
       "      <td>0001b41b1c6bb37e</td>\n",
       "      <td>\"\\nMore\\nI can't make any real suggestions on ...</td>\n",
       "      <td>0</td>\n",
       "      <td>0</td>\n",
       "      <td>0</td>\n",
       "      <td>0</td>\n",
       "      <td>0</td>\n",
       "      <td>0</td>\n",
       "    </tr>\n",
       "    <tr>\n",
       "      <th>4</th>\n",
       "      <td>0001d958c54c6e35</td>\n",
       "      <td>You, sir, are my hero. Any chance you remember...</td>\n",
       "      <td>0</td>\n",
       "      <td>0</td>\n",
       "      <td>0</td>\n",
       "      <td>0</td>\n",
       "      <td>0</td>\n",
       "      <td>0</td>\n",
       "    </tr>\n",
       "  </tbody>\n",
       "</table>\n",
       "</div>"
      ],
      "text/plain": [
       "                 id  ... identity_hate\n",
       "0  0000997932d777bf  ...             0\n",
       "1  000103f0d9cfb60f  ...             0\n",
       "2  000113f07ec002fd  ...             0\n",
       "3  0001b41b1c6bb37e  ...             0\n",
       "4  0001d958c54c6e35  ...             0\n",
       "\n",
       "[5 rows x 8 columns]"
      ]
     },
     "execution_count": 6,
     "metadata": {
      "tags": []
     },
     "output_type": "execute_result"
    }
   ],
   "source": [
    "train.head()"
   ]
  },
  {
   "cell_type": "code",
   "execution_count": 7,
   "id": "295e12d6",
   "metadata": {
    "colab": {
     "base_uri": "https://localhost:8080/",
     "height": 297
    },
    "id": "fnbHIARvtMDF",
    "outputId": "bc7fced1-d295-484e-ea67-848812dfa547"
   },
   "outputs": [
    {
     "data": {
      "text/html": [
       "<div>\n",
       "<style scoped>\n",
       "    .dataframe tbody tr th:only-of-type {\n",
       "        vertical-align: middle;\n",
       "    }\n",
       "\n",
       "    .dataframe tbody tr th {\n",
       "        vertical-align: top;\n",
       "    }\n",
       "\n",
       "    .dataframe thead th {\n",
       "        text-align: right;\n",
       "    }\n",
       "</style>\n",
       "<table border=\"1\" class=\"dataframe\">\n",
       "  <thead>\n",
       "    <tr style=\"text-align: right;\">\n",
       "      <th></th>\n",
       "      <th>toxic</th>\n",
       "      <th>severe_toxic</th>\n",
       "      <th>obscene</th>\n",
       "      <th>threat</th>\n",
       "      <th>insult</th>\n",
       "      <th>identity_hate</th>\n",
       "    </tr>\n",
       "  </thead>\n",
       "  <tbody>\n",
       "    <tr>\n",
       "      <th>count</th>\n",
       "      <td>100000.000000</td>\n",
       "      <td>100000.00000</td>\n",
       "      <td>100000.000000</td>\n",
       "      <td>100000.000000</td>\n",
       "      <td>100000.000000</td>\n",
       "      <td>100000.000000</td>\n",
       "    </tr>\n",
       "    <tr>\n",
       "      <th>mean</th>\n",
       "      <td>0.096120</td>\n",
       "      <td>0.00999</td>\n",
       "      <td>0.053270</td>\n",
       "      <td>0.003140</td>\n",
       "      <td>0.049670</td>\n",
       "      <td>0.008540</td>\n",
       "    </tr>\n",
       "    <tr>\n",
       "      <th>std</th>\n",
       "      <td>0.294757</td>\n",
       "      <td>0.09945</td>\n",
       "      <td>0.224573</td>\n",
       "      <td>0.055948</td>\n",
       "      <td>0.217263</td>\n",
       "      <td>0.092017</td>\n",
       "    </tr>\n",
       "    <tr>\n",
       "      <th>min</th>\n",
       "      <td>0.000000</td>\n",
       "      <td>0.00000</td>\n",
       "      <td>0.000000</td>\n",
       "      <td>0.000000</td>\n",
       "      <td>0.000000</td>\n",
       "      <td>0.000000</td>\n",
       "    </tr>\n",
       "    <tr>\n",
       "      <th>25%</th>\n",
       "      <td>0.000000</td>\n",
       "      <td>0.00000</td>\n",
       "      <td>0.000000</td>\n",
       "      <td>0.000000</td>\n",
       "      <td>0.000000</td>\n",
       "      <td>0.000000</td>\n",
       "    </tr>\n",
       "    <tr>\n",
       "      <th>50%</th>\n",
       "      <td>0.000000</td>\n",
       "      <td>0.00000</td>\n",
       "      <td>0.000000</td>\n",
       "      <td>0.000000</td>\n",
       "      <td>0.000000</td>\n",
       "      <td>0.000000</td>\n",
       "    </tr>\n",
       "    <tr>\n",
       "      <th>75%</th>\n",
       "      <td>0.000000</td>\n",
       "      <td>0.00000</td>\n",
       "      <td>0.000000</td>\n",
       "      <td>0.000000</td>\n",
       "      <td>0.000000</td>\n",
       "      <td>0.000000</td>\n",
       "    </tr>\n",
       "    <tr>\n",
       "      <th>max</th>\n",
       "      <td>1.000000</td>\n",
       "      <td>1.00000</td>\n",
       "      <td>1.000000</td>\n",
       "      <td>1.000000</td>\n",
       "      <td>1.000000</td>\n",
       "      <td>1.000000</td>\n",
       "    </tr>\n",
       "  </tbody>\n",
       "</table>\n",
       "</div>"
      ],
      "text/plain": [
       "               toxic  severe_toxic  ...         insult  identity_hate\n",
       "count  100000.000000  100000.00000  ...  100000.000000  100000.000000\n",
       "mean        0.096120       0.00999  ...       0.049670       0.008540\n",
       "std         0.294757       0.09945  ...       0.217263       0.092017\n",
       "min         0.000000       0.00000  ...       0.000000       0.000000\n",
       "25%         0.000000       0.00000  ...       0.000000       0.000000\n",
       "50%         0.000000       0.00000  ...       0.000000       0.000000\n",
       "75%         0.000000       0.00000  ...       0.000000       0.000000\n",
       "max         1.000000       1.00000  ...       1.000000       1.000000\n",
       "\n",
       "[8 rows x 6 columns]"
      ]
     },
     "execution_count": 7,
     "metadata": {
      "tags": []
     },
     "output_type": "execute_result"
    }
   ],
   "source": [
    "train = train[:100000]\n",
    "train.describe()"
   ]
  },
  {
   "cell_type": "code",
   "execution_count": 8,
   "id": "c4c5d94e",
   "metadata": {
    "colab": {
     "base_uri": "https://localhost:8080/"
    },
    "id": "N_zaT_NFuE8P",
    "outputId": "abfbbe1e-eeab-47ec-a1ef-d1c03b9f9e53"
   },
   "outputs": [
    {
     "data": {
      "text/plain": [
       "['toxic', 'severe_toxic', 'obscene', 'threat', 'insult', 'identity_hate']"
      ]
     },
     "execution_count": 8,
     "metadata": {
      "tags": []
     },
     "output_type": "execute_result"
    }
   ],
   "source": [
    "classes = list(train.columns)[2:]\n",
    "classes"
   ]
  },
  {
   "cell_type": "code",
   "execution_count": 9,
   "id": "f9e4a6c9",
   "metadata": {
    "colab": {
     "base_uri": "https://localhost:8080/"
    },
    "id": "oM9QIfLVu7uE",
    "outputId": "03a7510c-17f0-494b-bd36-a167741b6408"
   },
   "outputs": [
    {
     "data": {
      "text/plain": [
       "toxic            9612\n",
       "severe_toxic      999\n",
       "obscene          5327\n",
       "threat            314\n",
       "insult           4967\n",
       "identity_hate     854\n",
       "dtype: int64"
      ]
     },
     "execution_count": 9,
     "metadata": {
      "tags": []
     },
     "output_type": "execute_result"
    }
   ],
   "source": [
    "train[classes].sum()"
   ]
  },
  {
   "cell_type": "code",
   "execution_count": 10,
   "id": "3013612f",
   "metadata": {
    "colab": {
     "base_uri": "https://localhost:8080/"
    },
    "id": "4fOjK066KSjg",
    "outputId": "a79e313c-6255-443a-a882-d8d04ddb42a1"
   },
   "outputs": [
    {
     "name": "stderr",
     "output_type": "stream",
     "text": [
      "/usr/local/lib/python3.6/dist-packages/pandas/core/strings.py:2001: UserWarning: This pattern has match groups. To actually get the groups, use str.extract.\n",
      "  return func(self, *args, **kwargs)\n"
     ]
    },
    {
     "name": "stdout",
     "output_type": "stream",
     "text": [
      "2766\n",
      "6313\n",
      "196\n",
      "59357\n"
     ]
    }
   ],
   "source": [
    "links = '(http://.*?\\s)|(http://.*)'\n",
    "ip_addr = '\\d{1,3}\\.\\d{1,3}\\.\\d{1,3}\\.\\d{1,3}'\n",
    "users = '\\[\\[User.*'\n",
    "newline = '\\\\n'\n",
    "print(train['comment_text'].str.contains(links).sum())\n",
    "print(train['comment_text'].str.contains(ip_addr).sum())\n",
    "print(train['comment_text'].str.contains(users).sum())\n",
    "print(train['comment_text'].str.contains(newline).sum())"
   ]
  },
  {
   "cell_type": "code",
   "execution_count": 11,
   "id": "ed69b3d7",
   "metadata": {
    "id": "m07mORZILlL7"
   },
   "outputs": [],
   "source": [
    "def clean(comment):\n",
    "  import re\n",
    "  comment=comment.lower()\n",
    "  comment=re.sub(links,'',comment)\n",
    "  comment=re.sub(ip_addr,'',comment)\n",
    "  comment=re.sub(users,'',comment)\n",
    "  comment=re.sub(newline,'',comment)\n",
    "  return comment"
   ]
  },
  {
   "cell_type": "code",
   "execution_count": 12,
   "id": "0db90137",
   "metadata": {
    "id": "K12p5jE5NJ7R"
   },
   "outputs": [],
   "source": [
    "train['comment_text']=train['comment_text'].map(lambda i:clean(i))\n",
    "test['comment_text']=test['comment_text'].map(lambda i:clean(i))"
   ]
  },
  {
   "cell_type": "code",
   "execution_count": 13,
   "id": "c9422853",
   "metadata": {
    "colab": {
     "base_uri": "https://localhost:8080/"
    },
    "id": "qH8sc6RHNjzd",
    "outputId": "d18b2aff-d780-41a4-a075-03fcd4a434ef"
   },
   "outputs": [
    {
     "name": "stderr",
     "output_type": "stream",
     "text": [
      "/usr/local/lib/python3.6/dist-packages/pandas/core/strings.py:2001: UserWarning: This pattern has match groups. To actually get the groups, use str.extract.\n",
      "  return func(self, *args, **kwargs)\n"
     ]
    },
    {
     "name": "stdout",
     "output_type": "stream",
     "text": [
      "0\n",
      "0\n",
      "0\n",
      "0\n"
     ]
    }
   ],
   "source": [
    "print(train['comment_text'].str.contains(links).sum())\n",
    "print(train['comment_text'].str.contains(ip_addr).sum())\n",
    "print(train['comment_text'].str.contains(users).sum())\n",
    "print(train['comment_text'].str.contains(newline).sum())"
   ]
  },
  {
   "cell_type": "code",
   "execution_count": 13,
   "id": "2c26ee29",
   "metadata": {
    "id": "aaMK6BUWNoxu"
   },
   "outputs": [],
   "source": []
  },
  {
   "cell_type": "code",
   "execution_count": 13,
   "id": "07f56da6",
   "metadata": {
    "id": "cHKDqonvNujj"
   },
   "outputs": [],
   "source": []
  },
  {
   "cell_type": "code",
   "execution_count": 14,
   "id": "20ae5995",
   "metadata": {
    "colab": {
     "base_uri": "https://localhost:8080/"
    },
    "id": "MKP-Yq7tPYGu",
    "outputId": "18945a0c-b29b-4a42-a6d9-6f51829419ca"
   },
   "outputs": [
    {
     "name": "stdout",
     "output_type": "stream",
     "text": [
      "(100000,)\n",
      "(100000, 6)\n"
     ]
    }
   ],
   "source": [
    "x=train['comment_text']\n",
    "y=train.iloc[:,2:8]\n",
    "print(x.shape)\n",
    "print(y.shape)"
   ]
  },
  {
   "cell_type": "code",
   "execution_count": 15,
   "id": "b7561667",
   "metadata": {
    "id": "f6gBY2YROeW0"
   },
   "outputs": [],
   "source": [
    "from sklearn.model_selection import train_test_split\n",
    "X_train, X_val, y_train, y_val = train_test_split(x,y,test_size=0.2,random_state=1)"
   ]
  },
  {
   "cell_type": "code",
   "execution_count": 16,
   "id": "6012a7f2",
   "metadata": {
    "id": "C9eJhCPEO5Mu"
   },
   "outputs": [],
   "source": [
    "from sklearn.feature_extraction.text import TfidfVectorizer"
   ]
  },
  {
   "cell_type": "code",
   "execution_count": 17,
   "id": "c18268db",
   "metadata": {
    "id": "fV35kZ6lPsWr"
   },
   "outputs": [],
   "source": [
    "tfidf=TfidfVectorizer(max_features=5000,strip_accents='unicode',stop_words='english',token_pattern=r'\\w{2,}')"
   ]
  },
  {
   "cell_type": "code",
   "execution_count": 18,
   "id": "bc372590",
   "metadata": {
    "colab": {
     "base_uri": "https://localhost:8080/"
    },
    "id": "OhuFSlyWPt7C",
    "outputId": "a97349c4-7721-4316-df89-c004187c9820"
   },
   "outputs": [
    {
     "data": {
      "text/plain": [
       "(80000, 5000)"
      ]
     },
     "execution_count": 18,
     "metadata": {
      "tags": []
     },
     "output_type": "execute_result"
    }
   ],
   "source": [
    "tfidf.fit(X_train)\n",
    "X_train_feat=tfidf.fit_transform(X_train)\n",
    "X_train_feat.shape"
   ]
  },
  {
   "cell_type": "code",
   "execution_count": 18,
   "id": "9602c9bc",
   "metadata": {
    "id": "DsycMB0jQdtE"
   },
   "outputs": [],
   "source": []
  },
  {
   "cell_type": "code",
   "execution_count": 19,
   "id": "b3581c83",
   "metadata": {
    "colab": {
     "base_uri": "https://localhost:8080/"
    },
    "id": "Btj0-pI_RkRp",
    "outputId": "a4f3a684-aae0-4940-98a3-effb986704ba"
   },
   "outputs": [
    {
     "data": {
      "text/plain": [
       "(20000, 5000)"
      ]
     },
     "execution_count": 19,
     "metadata": {
      "tags": []
     },
     "output_type": "execute_result"
    }
   ],
   "source": [
    "X_val_feat=tfidf.transform(X_val)\n",
    "X_val_feat.shape"
   ]
  },
  {
   "cell_type": "code",
   "execution_count": 19,
   "id": "a7367228",
   "metadata": {
    "id": "LSPxmRSzolyP"
   },
   "outputs": [],
   "source": []
  },
  {
   "cell_type": "code",
   "execution_count": 20,
   "id": "d424482e",
   "metadata": {
    "id": "Q1ao7bo2omFK"
   },
   "outputs": [],
   "source": [
    "import numpy as np\n",
    "\n",
    "labels = pd.read_csv(path + \"test_labels.csv\")\n",
    "labels=labels.iloc[:,1:]\n",
    "sum_labels=np.sum(labels,axis=1)\n",
    "idx=sum_labels>=0"
   ]
  },
  {
   "cell_type": "code",
   "execution_count": 21,
   "id": "b802c8e9",
   "metadata": {
    "colab": {
     "base_uri": "https://localhost:8080/"
    },
    "id": "xzuFClKaomfm",
    "outputId": "101fddfb-721c-4cd5-e385-5a54f00ff238"
   },
   "outputs": [
    {
     "name": "stdout",
     "output_type": "stream",
     "text": [
      "(63978, 6) (63978,)\n"
     ]
    }
   ],
   "source": [
    "labels_consider=labels[idx]\n",
    "test=test.iloc[:,1:]\n",
    "tests_consider=test[idx].values[:,0]\n",
    "\n",
    "print(labels_consider.shape, tests_consider.shape)"
   ]
  },
  {
   "cell_type": "code",
   "execution_count": 22,
   "id": "f9708eb6",
   "metadata": {
    "colab": {
     "base_uri": "https://localhost:8080/"
    },
    "id": "vY4jY1ZsovHZ",
    "outputId": "f7feb8da-61ec-4ee2-8434-71fd74937c1e"
   },
   "outputs": [
    {
     "data": {
      "text/plain": [
       "(63978, 5000)"
      ]
     },
     "execution_count": 22,
     "metadata": {
      "tags": []
     },
     "output_type": "execute_result"
    }
   ],
   "source": [
    "X_test_feat=tfidf.transform(tests_consider)\n",
    "X_test_feat.shape"
   ]
  },
  {
   "cell_type": "code",
   "execution_count": 22,
   "id": "ec43fbed",
   "metadata": {
    "id": "AzLv5hJH3pqf"
   },
   "outputs": [],
   "source": []
  },
  {
   "cell_type": "code",
   "execution_count": 22,
   "id": "15b4edce",
   "metadata": {
    "id": "WqXyGH1E3p7-"
   },
   "outputs": [],
   "source": []
  },
  {
   "cell_type": "code",
   "execution_count": 23,
   "id": "5e79753e",
   "metadata": {
    "id": "BTn-o8A2SEqA"
   },
   "outputs": [],
   "source": [
    "from sklearn.linear_model import LogisticRegression\n",
    "from sklearn.metrics import roc_auc_score\n",
    "\n",
    "model=LogisticRegression(C=20.0, max_iter=1000000)"
   ]
  },
  {
   "cell_type": "code",
   "execution_count": 24,
   "id": "40878e54",
   "metadata": {
    "id": "2hz4KhQ_Wyrv"
   },
   "outputs": [],
   "source": [
    "## Binary Relevance"
   ]
  },
  {
   "cell_type": "code",
   "execution_count": 25,
   "id": "18ec6e70",
   "metadata": {
    "colab": {
     "base_uri": "https://localhost:8080/"
    },
    "id": "UbSEmpvTTWYQ",
    "outputId": "348fa479-9daa-4904-f6a7-a45b477a3b80"
   },
   "outputs": [
    {
     "name": "stdout",
     "output_type": "stream",
     "text": [
      "Class: toxic\n",
      "Train ROC AUC Score: 0.8641180051831711\n",
      "Val ROC AUC Score: 0.8207180907734924\n",
      "Test ROC AUC Score: 0.8417549380219865\n",
      "\n",
      "Class: severe_toxic\n",
      "Train ROC AUC Score: 0.7354769544912093\n",
      "Val ROC AUC Score: 0.6133964600570482\n",
      "Test ROC AUC Score: 0.6809342308240435\n",
      "\n",
      "Class: obscene\n",
      "Train ROC AUC Score: 0.8928312440198478\n",
      "Val ROC AUC Score: 0.848488716614316\n",
      "Test ROC AUC Score: 0.8235366774921389\n",
      "\n",
      "Class: threat\n",
      "Train ROC AUC Score: 0.8161114861718565\n",
      "Val ROC AUC Score: 0.6307964702177707\n",
      "Test ROC AUC Score: 0.6367507462186276\n",
      "\n",
      "Class: insult\n",
      "Train ROC AUC Score: 0.8373195677328823\n",
      "Val ROC AUC Score: 0.7741099340770253\n",
      "Test ROC AUC Score: 0.7691786795569605\n",
      "\n",
      "Class: identity_hate\n",
      "Train ROC AUC Score: 0.7554634080871397\n",
      "Val ROC AUC Score: 0.6637757907724186\n",
      "Test ROC AUC Score: 0.6410308739237967\n",
      "\n",
      "0.732197691006259\n"
     ]
    }
   ],
   "source": [
    "scores_roc_aoc = []\n",
    "\n",
    "for label_name in classes:\n",
    "    print('Class:', label_name)\n",
    "\n",
    "    model.fit(X_train_feat, y_train[label_name])\n",
    "    preds_train = model.predict(X_train_feat)\n",
    "    train_roc_auc = roc_auc_score(y_train[label_name], preds_train)\n",
    "    print('Train ROC AUC Score:', train_roc_auc)\n",
    "\n",
    "    preds_val = model.predict(X_val_feat)\n",
    "    val_roc_auc = roc_auc_score(y_val[label_name], preds_val)\n",
    "    print('Val ROC AUC Score:', val_roc_auc)\n",
    "\n",
    "    preds_test = model.predict(X_test_feat)\n",
    "    test_roc_auc = roc_auc_score(labels_consider[label_name], preds_test)\n",
    "    print('Test ROC AUC Score:', test_roc_auc)\n",
    "    scores_roc_aoc.append(test_roc_auc)\n",
    "\n",
    "    print()\n",
    "\n",
    "\n",
    "print(np.mean(scores_roc_aoc))"
   ]
  },
  {
   "cell_type": "code",
   "execution_count": 100,
   "id": "2549ad10",
   "metadata": {
    "id": "CArUWeW6jcNN"
   },
   "outputs": [],
   "source": []
  },
  {
   "cell_type": "code",
   "execution_count": 101,
   "id": "ce7bfd09",
   "metadata": {
    "id": "g-I9iwL1VW91"
   },
   "outputs": [],
   "source": [
    "## Classifier chains"
   ]
  },
  {
   "cell_type": "code",
   "execution_count": 26,
   "id": "cebaf29e",
   "metadata": {
    "id": "JcgwvHDXW3q6"
   },
   "outputs": [],
   "source": [
    "from scipy.sparse import hstack, csr_matrix\n",
    "\n",
    "def add_feat(x, feat):\n",
    "  return hstack([x, csr_matrix(feat).T], 'csr')"
   ]
  },
  {
   "cell_type": "code",
   "execution_count": 27,
   "id": "bc4b34ce",
   "metadata": {
    "colab": {
     "base_uri": "https://localhost:8080/"
    },
    "id": "QmcS6jd0XU8E",
    "outputId": "02641ab7-3a95-499f-96c3-3a19d2eb460e"
   },
   "outputs": [
    {
     "name": "stdout",
     "output_type": "stream",
     "text": [
      "Class: toxic\n",
      "Train ROC AUC Score: 0.8641180051831711\n",
      "Val ROC AUC Score: 0.8207180907734924\n",
      "Test ROC AUC Score: 0.8417549380219865\n",
      "(80000, 5001)\n",
      "(20000, 5001)\n",
      "(63978, 5001)\n",
      "\n",
      "Class: severe_toxic\n",
      "Train ROC AUC Score: 0.7721650129423699\n",
      "Val ROC AUC Score: 0.6035140679772546\n",
      "Test ROC AUC Score: 0.6590887040469968\n",
      "(80000, 5002)\n",
      "(20000, 5002)\n",
      "(63978, 5002)\n",
      "\n",
      "Class: obscene\n",
      "Train ROC AUC Score: 0.9234533404235623\n",
      "Val ROC AUC Score: 0.8675645938826668\n",
      "Test ROC AUC Score: 0.8500987669308729\n",
      "(80000, 5003)\n",
      "(20000, 5003)\n",
      "(63978, 5003)\n",
      "\n",
      "Class: threat\n",
      "Train ROC AUC Score: 0.8675074250380068\n",
      "Val ROC AUC Score: 0.6390182680125203\n",
      "Test ROC AUC Score: 0.6559903698573234\n",
      "(80000, 5004)\n",
      "(20000, 5004)\n",
      "(63978, 5004)\n",
      "\n",
      "Class: insult\n",
      "Train ROC AUC Score: 0.9184486401928967\n",
      "Val ROC AUC Score: 0.8533773949449052\n",
      "Test ROC AUC Score: 0.8562945106040277\n",
      "(80000, 5005)\n",
      "(20000, 5005)\n",
      "(63978, 5005)\n",
      "\n",
      "Class: identity_hate\n",
      "Train ROC AUC Score: 0.8589558179147085\n",
      "Val ROC AUC Score: 0.7046630405520065\n",
      "Test ROC AUC Score: 0.6991051382125834\n",
      "(80000, 5006)\n",
      "(20000, 5006)\n",
      "(63978, 5006)\n",
      "\n",
      "0.7603887379456319\n"
     ]
    }
   ],
   "source": [
    "scores_roc_aoc = []\n",
    "\n",
    "for label_name in classes:\n",
    "    print('Class:', label_name)\n",
    "\n",
    "    model.fit(X_train_feat, y_train[label_name])\n",
    "    preds_train = model.predict(X_train_feat)\n",
    "    train_roc_auc = roc_auc_score(y_train[label_name], preds_train)\n",
    "    print('Train ROC AUC Score:', train_roc_auc)\n",
    "\n",
    "    preds_val = model.predict(X_val_feat)\n",
    "    val_roc_auc = roc_auc_score(y_val[label_name], preds_val)\n",
    "    print('Val ROC AUC Score:', val_roc_auc)\n",
    "\n",
    "    preds_test = model.predict(X_test_feat)\n",
    "    test_roc_auc = roc_auc_score(labels_consider[label_name], preds_test)\n",
    "    print('Test ROC AUC Score:', test_roc_auc)\n",
    "    scores_roc_aoc.append(test_roc_auc)\n",
    "\n",
    "    X_train_feat = add_feat(X_train_feat, y_train[label_name])\n",
    "    X_val_feat = add_feat(X_val_feat, y_val[label_name])\n",
    "    X_test_feat = add_feat(X_test_feat, labels_consider[label_name])\n",
    "    print(X_train_feat.shape)\n",
    "    print(X_val_feat.shape)\n",
    "    print(X_test_feat.shape)\n",
    "    print()\n",
    "\n",
    "print(np.mean(scores_roc_aoc))"
   ]
  },
  {
   "cell_type": "code",
   "execution_count": 103,
   "id": "13ebadae",
   "metadata": {
    "id": "qJgo5z04Y2Ca"
   },
   "outputs": [],
   "source": []
  },
  {
   "cell_type": "code",
   "execution_count": 103,
   "id": "80c0c827",
   "metadata": {
    "id": "dP_ZEGCekqaF"
   },
   "outputs": [],
   "source": []
  },
  {
   "cell_type": "code",
   "execution_count": 103,
   "id": "32135a2a",
   "metadata": {
    "id": "gkRjLEplmGtM"
   },
   "outputs": [],
   "source": []
  },
  {
   "cell_type": "code",
   "execution_count": 103,
   "id": "e45ea66c",
   "metadata": {
    "id": "mbsr6l-hm3Ws"
   },
   "outputs": [],
   "source": []
  },
  {
   "cell_type": "code",
   "execution_count": null,
   "id": "8dc372e0",
   "metadata": {
    "id": "RSuvpi6ZshWr"
   },
   "outputs": [],
   "source": [
    "path_train='/content/drive/My Drive/Colab_data/Data_Mining/Data-Mining-Project/dataset/train.csv'\n",
    "path_test='/content/drive/My Drive/Colab_data/Data_Mining/Data-Mining-Project/dataset/test.csv'"
   ]
  },
  {
   "cell_type": "code",
   "execution_count": null,
   "id": "6efe9e01",
   "metadata": {
    "id": "ubXqMFbhssDE"
   },
   "outputs": [],
   "source": [
    "import pandas as pd"
   ]
  },
  {
   "cell_type": "code",
   "execution_count": null,
   "id": "a75c02c8",
   "metadata": {
    "id": "VApe5SnyvYJH"
   },
   "outputs": [],
   "source": [
    "class_names = ['toxic', 'severe_toxic', 'obscene', 'threat', 'insult', 'identity_hate']"
   ]
  },
  {
   "cell_type": "code",
   "execution_count": null,
   "id": "c59b3295",
   "metadata": {
    "id": "IpIxC4Tqson2"
   },
   "outputs": [],
   "source": [
    "train = pd.read_csv(path_train)\n",
    "test = pd.read_csv(path_test)"
   ]
  },
  {
   "cell_type": "code",
   "execution_count": null,
   "id": "d86961c0",
   "metadata": {
    "id": "0cZIGxqnsqv1"
   },
   "outputs": [],
   "source": [
    "vocab = pd.concat([train['comment_text'],  test['comment_text']])"
   ]
  },
  {
   "cell_type": "code",
   "execution_count": null,
   "id": "7a122ba3",
   "metadata": {
    "id": "Wn1uf45fs1ZQ"
   },
   "outputs": [],
   "source": [
    "clean_word_dict={'ａ': 'a',\n",
    " '！': ' !',\n",
    " '＋': ' +',\n",
    " '－': ' -',\n",
    " '．': ' .',\n",
    " '０': '0',\n",
    " '１': '1',\n",
    " '２': '2',\n",
    " '３': '3',\n",
    " '４': '4',\n",
    " '５': '5',\n",
    " '６': '6',\n",
    " '７': '7',\n",
    " '８': '8',\n",
    " '９': '9',\n",
    " '＝': ' =',\n",
    " '？': ' ?',\n",
    " 'Ａ': 'a',\n",
    " 'Ｂ': 'b',\n",
    " 'Ｃ': 'c',\n",
    " 'Ｄ': 'd',\n",
    " 'Ｅ': 'e',\n",
    " 'Ｆ': 'f',\n",
    " 'Ｇ': 'g',\n",
    " 'Ｈ': 'h',\n",
    " 'Ｉ': 'i',\n",
    " 'Ｊ': 'j',\n",
    " 'Ｋ': 'k',\n",
    " 'Ｌ': 'l',\n",
    " 'Ｍ': 'm',\n",
    " 'Ｎ': 'n',\n",
    " 'Ｏ': 'o',\n",
    " 'Ｐ': 'p',\n",
    " 'Ｑ': 'q',\n",
    " 'Ｒ': 'r',\n",
    " 'Ｓ': 's',\n",
    " 'Ｔ': 't',\n",
    " 'Ｕ': 'u',\n",
    " 'Ｖ': 'v',\n",
    " 'Ｗ': 'w',\n",
    " 'Ｘ': 'x',\n",
    " 'Ｙ': 'y',\n",
    " 'Ｚ': 'z',\n",
    " 'ｂ': 'b',\n",
    " 'ｃ': 'c',\n",
    " 'ｄ': 'd',\n",
    " 'ｅ': 'e',\n",
    " 'ｆ': 'f',\n",
    " 'ｇ': 'g',\n",
    " 'ｈ': 'h',\n",
    " 'ｉ': 'i',\n",
    " 'ｊ': 'j',\n",
    " 'ｋ': 'k',\n",
    " 'ｌ': 'l',\n",
    " 'ｍ': 'm',\n",
    " 'ｎ': 'n',\n",
    " 'ｏ': 'o',\n",
    " 'ｐ': 'p',\n",
    " 'ｑ': 'q',\n",
    " 'ｒ': 'r',\n",
    " 'ｓ': 's',\n",
    " 'ｔ': 't',\n",
    " 'ｕ': 'u',\n",
    " 'ｖ': 'v',\n",
    " 'ｗ': 'w',\n",
    " 'ｘ': 'x',\n",
    " 'ｙ': 'y',\n",
    " 'ｚ': 'z'}"
   ]
  },
  {
   "cell_type": "code",
   "execution_count": null,
   "id": "97efd7ba",
   "metadata": {
    "id": "j-Hc73KEs3Ex"
   },
   "outputs": [],
   "source": [
    "import re\n",
    "import string\n",
    "def clean_dataset(word):\n",
    "    word = word.lower()\n",
    "    word = re.sub(r\"https?:\\/\\/(www\\.)?[-a-zA-Z0-9@:%._\\+~#=]{2,256}\\.[a-z]{2,6}\\b([-a-zA-Z0-9@:%_\\+.~#?&//=]*)\", \"\", word)\n",
    "    word = re.sub(r\"(25[0-5]|2[0-4][0-9]|[01]?[0-9][0-9]?)(\\.(25[0-5]|2[0-4][0-9]|[01]?[0-9][0-9]?)){3}\", \"\", word)\n",
    "    for typo, correct in clean_word_dict.items():\n",
    "        word = re.sub(typo, \" \" + correct + \" \", word)\n",
    "    symbols = re.compile(f'([{string.punctuation}“”¨«»®´·º½¾¿¡§£₤‘’])')\n",
    "    word=symbols.sub(r' \\1 ', word)\n",
    "    return word\n",
    "\n",
    "train_comments = []\n",
    "test_comments = []\n",
    "for comment in train['comment_text']:\n",
    "    train_comments.append(clean_dataset(comment))\n",
    "    \n",
    "for comment in test['comment_text']:\n",
    "    test_comments.append(clean_dataset(comment))"
   ]
  },
  {
   "cell_type": "code",
   "execution_count": null,
   "id": "d91b2775",
   "metadata": {
    "id": "a4mg5vsitWcJ"
   },
   "outputs": [],
   "source": [
    "transform_function = TfidfVectorizer(\n",
    "    sublinear_tf=1,\n",
    "    strip_accents='unicode',\n",
    "    analyzer='word',\n",
    "    token_pattern=r'\\w{1,}',\n",
    "    ngram_range=(1, 2),\n",
    "    max_features=10000)"
   ]
  },
  {
   "cell_type": "code",
   "execution_count": null,
   "id": "9c260d4c",
   "metadata": {
    "colab": {
     "base_uri": "https://localhost:8080/"
    },
    "id": "IeT74ue7v4M0",
    "outputId": "c1d55dd4-1f9a-4dc5-8eda-e6aa8c147d04"
   },
   "outputs": [
    {
     "data": {
      "text/plain": [
       "TfidfVectorizer(analyzer='word', binary=False, decode_error='strict',\n",
       "                dtype=<class 'numpy.float64'>, encoding='utf-8',\n",
       "                input='content', lowercase=True, max_df=1.0, max_features=10000,\n",
       "                min_df=1, ngram_range=(1, 2), norm='l2', preprocessor=None,\n",
       "                smooth_idf=True, stop_words=None, strip_accents='unicode',\n",
       "                sublinear_tf=1, token_pattern='\\\\w{1,}', tokenizer=None,\n",
       "                use_idf=True, vocabulary=None)"
      ]
     },
     "execution_count": 48,
     "metadata": {
      "tags": []
     },
     "output_type": "execute_result"
    }
   ],
   "source": [
    "transform_function.fit(vocab)"
   ]
  },
  {
   "cell_type": "code",
   "execution_count": null,
   "id": "a411a5dc",
   "metadata": {
    "id": "S0lr6UXcuxKl"
   },
   "outputs": [],
   "source": [
    "comments_train = transform_function.transform(train_comments)\n",
    "comments_test = transform_function.transform(test_comments)"
   ]
  },
  {
   "cell_type": "code",
   "execution_count": null,
   "id": "7478c353",
   "metadata": {
    "id": "0lPMYMW6vd5F"
   },
   "outputs": [],
   "source": [
    "import numpy as np"
   ]
  },
  {
   "cell_type": "code",
   "execution_count": null,
   "id": "b29fe8a1",
   "metadata": {
    "id": "FHpJ4V2zviF9"
   },
   "outputs": [],
   "source": [
    "from sklearn.model_selection import cross_val_score"
   ]
  },
  {
   "cell_type": "code",
   "execution_count": null,
   "id": "06bf1da7",
   "metadata": {
    "colab": {
     "base_uri": "https://localhost:8080/"
    },
    "id": "zPc4-0d5u5bY",
    "outputId": "da19a58f-7a04-492e-ae74-9a51f594e100"
   },
   "outputs": [
    {
     "name": "stdout",
     "output_type": "stream",
     "text": [
      "toxic 0.9483975859448478\n",
      "severe_toxic 0.9356866512204218\n",
      "obscene 0.972690700510528\n",
      "threat 0.8646456662150368\n",
      "insult 0.9551477410459125\n",
      "identity_hate 0.8819367764977541\n"
     ]
    }
   ],
   "source": [
    "from sklearn.ensemble import ExtraTreesClassifier\n",
    "\n",
    "losses = []\n",
    "predictions = []\n",
    "for class_name in class_names:\n",
    "    train_target = train[class_name]\n",
    "    classifier = ExtraTreesClassifier(n_estimators=30) \n",
    "    score = np.mean(cross_val_score(classifier, comments_train, train_target, cv=2, scoring='roc_auc'))\n",
    "    print(class_name, score)  \n",
    "    classifier.fit(comments_train, train_target)\n",
    "    predictions.append(classifier.predict_proba(comments_test)[:, 1])"
   ]
  },
  {
   "cell_type": "code",
   "execution_count": null,
   "id": "03bceedb",
   "metadata": {
    "id": "aUD1Wa0PvTe_"
   },
   "outputs": [],
   "source": [
    "labels=pd.read_csv('/content/drive/My Drive/Colab_data/Data_Mining/Data-Mining-Project/dataset/test_labels.csv')\n",
    "labels=np.array(labels.iloc[:,1:])\n",
    "sum_labels=np.sum(labels,axis=1)\n",
    "idx=sum_labels>=0"
   ]
  },
  {
   "cell_type": "code",
   "execution_count": null,
   "id": "21618181",
   "metadata": {
    "colab": {
     "base_uri": "https://localhost:8080/"
    },
    "id": "lYEc3j839bcs",
    "outputId": "eccbbffc-b4d2-46b9-c07a-f8b93c571520"
   },
   "outputs": [
    {
     "data": {
      "text/plain": [
       "((6, 63978), (63978, 6))"
      ]
     },
     "execution_count": 56,
     "metadata": {
      "tags": []
     },
     "output_type": "execute_result"
    }
   ],
   "source": [
    "preds_consider=np.array(predictions)[:,idx]\n",
    "labels_consider= labels[idx]\n",
    "preds_consider.shape,labels_consider.shape"
   ]
  },
  {
   "cell_type": "code",
   "execution_count": null,
   "id": "9530c0ff",
   "metadata": {
    "colab": {
     "base_uri": "https://localhost:8080/"
    },
    "id": "rfsrc_GO9bnn",
    "outputId": "da8c79e4-d6ea-4dec-c2e0-e403ea785e70"
   },
   "outputs": [
    {
     "data": {
      "text/plain": [
       "0.9323676675669743"
      ]
     },
     "execution_count": 57,
     "metadata": {
      "tags": []
     },
     "output_type": "execute_result"
    }
   ],
   "source": [
    "from sklearn.metrics import roc_auc_score\n",
    "scores=[]\n",
    "for i in range(6):\n",
    "  scores.append(roc_auc_score(labels_consider[:,i],preds_consider[i,:]))\n",
    "np.mean(scores)"
   ]
  },
  {
   "cell_type": "code",
   "execution_count": null,
   "id": "dd6925ae",
   "metadata": {
    "id": "EyKCAvIe9bif"
   },
   "outputs": [],
   "source": []
  },
  {
   "cell_type": "code",
   "execution_count": null,
   "id": "13f13e27",
   "metadata": {
    "id": "Nn5VsRCk9bW9"
   },
   "outputs": [],
   "source": []
  },
  {
   "cell_type": "code",
   "execution_count": null,
   "id": "9b62655d",
   "metadata": {
    "id": "woO5Nq2PlAhk"
   },
   "outputs": [],
   "source": [
    "import numpy as np"
   ]
  },
  {
   "cell_type": "code",
   "execution_count": null,
   "id": "f6e7ac1d",
   "metadata": {
    "id": "9vde1JQjR68y"
   },
   "outputs": [],
   "source": [
    "path_train='/content/drive/My Drive/Colab_data/Data_Mining/Data-Mining-Project/dataset/train.csv'\n",
    "path_test='/content/drive/My Drive/Colab_data/Data_Mining/Data-Mining-Project/dataset/test.csv'"
   ]
  },
  {
   "cell_type": "code",
   "execution_count": null,
   "id": "435fca07",
   "metadata": {
    "id": "azQqlpKc2Vb5"
   },
   "outputs": [],
   "source": [
    "import pandas as pd\n",
    "train = pd.read_csv(path_train)\n",
    "test = pd.read_csv(path_test)"
   ]
  },
  {
   "cell_type": "code",
   "execution_count": null,
   "id": "9a4a7601",
   "metadata": {
    "id": "vCFj-fg_STpU"
   },
   "outputs": [],
   "source": [
    "from sklearn.model_selection import train_test_split"
   ]
  },
  {
   "cell_type": "code",
   "execution_count": null,
   "id": "f9679fba",
   "metadata": {
    "id": "zQ7SBxBiR65c"
   },
   "outputs": [],
   "source": [
    "train_x, val_x, train_y, val_y = train_test_split(train['comment_text'],train[['toxic', 'severe_toxic', 'obscene', 'threat', 'insult', 'identity_hate']], test_size=0.2, random_state=2)"
   ]
  },
  {
   "cell_type": "code",
   "execution_count": null,
   "id": "5f040c33",
   "metadata": {
    "id": "FVTVTyNOR62k"
   },
   "outputs": [],
   "source": [
    "import re, string\n",
    "symbols = re.compile(f'([{string.punctuation}“”¨«»®´·º½¾¿¡§£₤‘’])')\n",
    "def tokenize(s): return symbols.sub(r' \\1 ', s).split()"
   ]
  },
  {
   "cell_type": "code",
   "execution_count": null,
   "id": "ddfec5ee",
   "metadata": {
    "colab": {
     "base_uri": "https://localhost:8080/"
    },
    "id": "TAYo_K9QR6z-",
    "outputId": "76c06365-be7d-4a6c-e574-01a2d6be09d7"
   },
   "outputs": [
    {
     "name": "stderr",
     "output_type": "stream",
     "text": [
      "/usr/local/lib/python3.6/dist-packages/sklearn/feature_extraction/text.py:507: UserWarning: The parameter 'token_pattern' will not be used since 'tokenizer' is not None'\n",
      "  warnings.warn(\"The parameter 'token_pattern' will not be used\"\n"
     ]
    }
   ],
   "source": [
    "from sklearn.feature_extraction.text import TfidfVectorizer\n",
    "transform_function = TfidfVectorizer(ngram_range=(1,2), tokenizer=tokenize,\n",
    "               min_df=3, max_df=0.9, strip_accents='unicode', use_idf=1,\n",
    "               smooth_idf=1, sublinear_tf=1).fit(train['comment_text'])"
   ]
  },
  {
   "cell_type": "code",
   "execution_count": null,
   "id": "f9cf6a73",
   "metadata": {
    "id": "D6ntC0_sR6xP"
   },
   "outputs": [],
   "source": [
    "comments_train = transform_function.transform(train_x)\n",
    "comments_val = transform_function.transform(val_x)\n",
    "comments_test = transform_function.transform(test['comment_text'])"
   ]
  },
  {
   "cell_type": "code",
   "execution_count": null,
   "id": "97a4c67c",
   "metadata": {
    "id": "deaFpbaCR6vE"
   },
   "outputs": [],
   "source": [
    "train_x = pd.DataFrame(train_x)\n",
    "val_x = pd.DataFrame(val_x)"
   ]
  },
  {
   "cell_type": "code",
   "execution_count": null,
   "id": "cb50e569",
   "metadata": {
    "id": "dMvD6b_cR6sy"
   },
   "outputs": [],
   "source": [
    "combined = [train_x, val_x, test]"
   ]
  },
  {
   "cell_type": "code",
   "execution_count": null,
   "id": "9f2a0133",
   "metadata": {
    "id": "nLWZ3FOaTlYU"
   },
   "outputs": [],
   "source": [
    "col = ['total_length', 'capitals', 'caps_vs_length','num_exclamation_marks', 'num_question_marks', 'num_punctuation','num_symbols', 'num_words', 'num_unique_words', 'words_vs_unique','num_smilies']"
   ]
  },
  {
   "cell_type": "code",
   "execution_count": null,
   "id": "a5d8147f",
   "metadata": {
    "id": "8isuiSRWR6qt"
   },
   "outputs": [],
   "source": [
    "for data in combined:\n",
    "    data['total_length'] = data['comment_text'].apply(len)\n",
    "    data['capitals'] = data['comment_text'].apply(lambda x: sum(1 for c in x if c.isupper()))\n",
    "    data['caps_vs_length'] = data.apply(lambda row: float(row['capitals'])/float(row['total_length']),\n",
    "                                axis=1)\n",
    "    data['num_exclamation_marks'] = data['comment_text'].apply(lambda x: x.count('!'))\n",
    "    data['num_question_marks'] = data['comment_text'].apply(lambda x: x.count('?'))\n",
    "    data['num_punctuation'] = data['comment_text'].apply(lambda x: sum(x.count(w) for w in '.,;:'))\n",
    "    data['num_symbols'] = data['comment_text'].apply(lambda x: sum(x.count(w) for w in '*&$%'))\n",
    "    data['num_words'] = data['comment_text'].apply(lambda x: len(x.split()))\n",
    "    data['num_unique_words'] = data['comment_text'].apply(lambda x: len(set(w for w in x.split())))\n",
    "    data['words_vs_unique'] = data['num_unique_words'] / data['num_words']\n",
    "    data['num_smilies'] = data['comment_text'].apply(lambda x: sum(x.count(w) for w in (':-)', ':)', ';-)', ';)')))"
   ]
  },
  {
   "cell_type": "code",
   "execution_count": null,
   "id": "dd6e397a",
   "metadata": {
    "id": "9WgFoleOR6n0"
   },
   "outputs": [],
   "source": [
    "import scipy\n",
    "train_x = scipy.sparse.csr_matrix(train_x[col].values)\n",
    "val_x = scipy.sparse.csr_matrix(val_x[col].values)\n",
    "test = scipy.sparse.csr_matrix(test[col].values)"
   ]
  },
  {
   "cell_type": "code",
   "execution_count": null,
   "id": "d6a319ee",
   "metadata": {
    "id": "OKdHhp2tR6lM"
   },
   "outputs": [],
   "source": [
    "comments_train = scipy.sparse.hstack([train_x.tocsr(),comments_train.tocsr()])\n",
    "comments_val = scipy.sparse.hstack([val_x,comments_val])\n",
    "comments_test = scipy.sparse.hstack([test,comments_test])"
   ]
  },
  {
   "cell_type": "code",
   "execution_count": null,
   "id": "667e7626",
   "metadata": {
    "id": "kuOZ0PFVTux7"
   },
   "outputs": [],
   "source": [
    "import xgboost as xgb"
   ]
  },
  {
   "cell_type": "code",
   "execution_count": null,
   "id": "7a96b8d9",
   "metadata": {
    "id": "tG3bov9KTyxK"
   },
   "outputs": [],
   "source": [
    "def run(train_X, train_y, test_X, test_y=None, feature_names=None):\n",
    "    dic = {}\n",
    "    dic['objective'] = 'binary:logistic'\n",
    "    dic['eta'] = 0.1\n",
    "    dic['max_depth'] = 6\n",
    "    dic['silent'] = 1\n",
    "    dic['eval_metric'] = 'auc'\n",
    "    dic['min_child_weight'] = 1\n",
    "    dic['subsample'] = 0.7\n",
    "    dic['colsample_bytree'] = 0.7\n",
    "    num = 100\n",
    "    list_dic = list(dic.items())\n",
    "\n",
    "    xgtrain = xgb.DMatrix(train_X, label=train_y)\n",
    "    xgtest = xgb.DMatrix(test_X, label=test_y)\n",
    "\n",
    "    model = xgb.train(list_dic, xgtrain, num, [ (xgtrain,'train'), (xgtest, 'test') ], early_stopping_rounds=10)\n",
    "\n",
    "    return model "
   ]
  },
  {
   "cell_type": "code",
   "execution_count": null,
   "id": "d8b3cd1f",
   "metadata": {
    "colab": {
     "base_uri": "https://localhost:8080/"
    },
    "id": "CKxk6nGsTy9Y",
    "outputId": "da5eaf7b-813c-45ea-dee6-c08245efb1a5"
   },
   "outputs": [
    {
     "name": "stdout",
     "output_type": "stream",
     "text": [
      "fit toxic\n",
      "[0]\ttrain-auc:0.701894\ttest-auc:0.699906\n",
      "Multiple eval metrics have been passed: 'test-auc' will be used for early stopping.\n",
      "\n",
      "Will train until test-auc hasn't improved in 10 rounds.\n",
      "[1]\ttrain-auc:0.720606\ttest-auc:0.71772\n",
      "[2]\ttrain-auc:0.761526\ttest-auc:0.756648\n",
      "[3]\ttrain-auc:0.812048\ttest-auc:0.803294\n",
      "[4]\ttrain-auc:0.820223\ttest-auc:0.813418\n",
      "[5]\ttrain-auc:0.82538\ttest-auc:0.81726\n",
      "[6]\ttrain-auc:0.853074\ttest-auc:0.845996\n",
      "[7]\ttrain-auc:0.85293\ttest-auc:0.845771\n",
      "[8]\ttrain-auc:0.864441\ttest-auc:0.855824\n",
      "[9]\ttrain-auc:0.873903\ttest-auc:0.866073\n",
      "[10]\ttrain-auc:0.881353\ttest-auc:0.873859\n",
      "[11]\ttrain-auc:0.885842\ttest-auc:0.879595\n",
      "[12]\ttrain-auc:0.887051\ttest-auc:0.881328\n",
      "[13]\ttrain-auc:0.894386\ttest-auc:0.889244\n",
      "[14]\ttrain-auc:0.899532\ttest-auc:0.894405\n",
      "[15]\ttrain-auc:0.903192\ttest-auc:0.897181\n",
      "[16]\ttrain-auc:0.904132\ttest-auc:0.896953\n",
      "[17]\ttrain-auc:0.906056\ttest-auc:0.898806\n",
      "[18]\ttrain-auc:0.906139\ttest-auc:0.89896\n",
      "[19]\ttrain-auc:0.909253\ttest-auc:0.901529\n",
      "[20]\ttrain-auc:0.911407\ttest-auc:0.903636\n",
      "[21]\ttrain-auc:0.912831\ttest-auc:0.904764\n",
      "[22]\ttrain-auc:0.91514\ttest-auc:0.90806\n",
      "[23]\ttrain-auc:0.915426\ttest-auc:0.908502\n",
      "[24]\ttrain-auc:0.917384\ttest-auc:0.909912\n",
      "[25]\ttrain-auc:0.919089\ttest-auc:0.911478\n",
      "[26]\ttrain-auc:0.921042\ttest-auc:0.9125\n",
      "[27]\ttrain-auc:0.922422\ttest-auc:0.913782\n",
      "[28]\ttrain-auc:0.923181\ttest-auc:0.914354\n",
      "[29]\ttrain-auc:0.924369\ttest-auc:0.915116\n",
      "[30]\ttrain-auc:0.926397\ttest-auc:0.91703\n",
      "[31]\ttrain-auc:0.927327\ttest-auc:0.917422\n",
      "[32]\ttrain-auc:0.929052\ttest-auc:0.919077\n",
      "[33]\ttrain-auc:0.929871\ttest-auc:0.919623\n",
      "[34]\ttrain-auc:0.930872\ttest-auc:0.920428\n",
      "[35]\ttrain-auc:0.932677\ttest-auc:0.922096\n",
      "[36]\ttrain-auc:0.93414\ttest-auc:0.923229\n",
      "[37]\ttrain-auc:0.934629\ttest-auc:0.923634\n",
      "[38]\ttrain-auc:0.936204\ttest-auc:0.925096\n",
      "[39]\ttrain-auc:0.936732\ttest-auc:0.925553\n",
      "[40]\ttrain-auc:0.937377\ttest-auc:0.926241\n",
      "[41]\ttrain-auc:0.938074\ttest-auc:0.926916\n",
      "[42]\ttrain-auc:0.939264\ttest-auc:0.927297\n",
      "[43]\ttrain-auc:0.939876\ttest-auc:0.927519\n",
      "[44]\ttrain-auc:0.941155\ttest-auc:0.928289\n",
      "[45]\ttrain-auc:0.942281\ttest-auc:0.92906\n",
      "[46]\ttrain-auc:0.942451\ttest-auc:0.929336\n",
      "[47]\ttrain-auc:0.943252\ttest-auc:0.929384\n",
      "[48]\ttrain-auc:0.943805\ttest-auc:0.930255\n",
      "[49]\ttrain-auc:0.944724\ttest-auc:0.930791\n",
      "[50]\ttrain-auc:0.945366\ttest-auc:0.931483\n",
      "[51]\ttrain-auc:0.946022\ttest-auc:0.932169\n",
      "[52]\ttrain-auc:0.947111\ttest-auc:0.932834\n",
      "[53]\ttrain-auc:0.947899\ttest-auc:0.933239\n",
      "[54]\ttrain-auc:0.948079\ttest-auc:0.933486\n",
      "[55]\ttrain-auc:0.9486\ttest-auc:0.934113\n",
      "[56]\ttrain-auc:0.949457\ttest-auc:0.934957\n",
      "[57]\ttrain-auc:0.950048\ttest-auc:0.935665\n",
      "[58]\ttrain-auc:0.950728\ttest-auc:0.936325\n",
      "[59]\ttrain-auc:0.951404\ttest-auc:0.936887\n",
      "[60]\ttrain-auc:0.951711\ttest-auc:0.937186\n",
      "[61]\ttrain-auc:0.951973\ttest-auc:0.937136\n",
      "[62]\ttrain-auc:0.952646\ttest-auc:0.937833\n",
      "[63]\ttrain-auc:0.953176\ttest-auc:0.938489\n",
      "[64]\ttrain-auc:0.953269\ttest-auc:0.938705\n",
      "[65]\ttrain-auc:0.953604\ttest-auc:0.939019\n",
      "[66]\ttrain-auc:0.953807\ttest-auc:0.939302\n",
      "[67]\ttrain-auc:0.954148\ttest-auc:0.939638\n",
      "[68]\ttrain-auc:0.954712\ttest-auc:0.939857\n",
      "[69]\ttrain-auc:0.955199\ttest-auc:0.940216\n",
      "[70]\ttrain-auc:0.955428\ttest-auc:0.940353\n",
      "[71]\ttrain-auc:0.956037\ttest-auc:0.940975\n",
      "[72]\ttrain-auc:0.956599\ttest-auc:0.941262\n",
      "[73]\ttrain-auc:0.957099\ttest-auc:0.941424\n",
      "[74]\ttrain-auc:0.957297\ttest-auc:0.941744\n",
      "[75]\ttrain-auc:0.957682\ttest-auc:0.941989\n",
      "[76]\ttrain-auc:0.958085\ttest-auc:0.942317\n",
      "[77]\ttrain-auc:0.95823\ttest-auc:0.942496\n",
      "[78]\ttrain-auc:0.958509\ttest-auc:0.942828\n",
      "[79]\ttrain-auc:0.958707\ttest-auc:0.943063\n",
      "[80]\ttrain-auc:0.959259\ttest-auc:0.943471\n",
      "[81]\ttrain-auc:0.959564\ttest-auc:0.943765\n",
      "[82]\ttrain-auc:0.959919\ttest-auc:0.944146\n",
      "[83]\ttrain-auc:0.960405\ttest-auc:0.944735\n",
      "[84]\ttrain-auc:0.96057\ttest-auc:0.945002\n",
      "[85]\ttrain-auc:0.960983\ttest-auc:0.945248\n",
      "[86]\ttrain-auc:0.961288\ttest-auc:0.945479\n",
      "[87]\ttrain-auc:0.961691\ttest-auc:0.946005\n",
      "[88]\ttrain-auc:0.961932\ttest-auc:0.946261\n",
      "[89]\ttrain-auc:0.962141\ttest-auc:0.946352\n",
      "[90]\ttrain-auc:0.962298\ttest-auc:0.946566\n",
      "[91]\ttrain-auc:0.962675\ttest-auc:0.946798\n",
      "[92]\ttrain-auc:0.962949\ttest-auc:0.947074\n",
      "[93]\ttrain-auc:0.9634\ttest-auc:0.947419\n",
      "[94]\ttrain-auc:0.963536\ttest-auc:0.947545\n",
      "[95]\ttrain-auc:0.963953\ttest-auc:0.947727\n",
      "[96]\ttrain-auc:0.964317\ttest-auc:0.947817\n",
      "[97]\ttrain-auc:0.964496\ttest-auc:0.947898\n",
      "[98]\ttrain-auc:0.964942\ttest-auc:0.948239\n",
      "[99]\ttrain-auc:0.965163\ttest-auc:0.948404\n",
      "fit severe_toxic\n",
      "[0]\ttrain-auc:0.831071\ttest-auc:0.840753\n",
      "Multiple eval metrics have been passed: 'test-auc' will be used for early stopping.\n",
      "\n",
      "Will train until test-auc hasn't improved in 10 rounds.\n",
      "[1]\ttrain-auc:0.891213\ttest-auc:0.894695\n",
      "[2]\ttrain-auc:0.898317\ttest-auc:0.903001\n",
      "[3]\ttrain-auc:0.907718\ttest-auc:0.915782\n",
      "[4]\ttrain-auc:0.910706\ttest-auc:0.91854\n",
      "[5]\ttrain-auc:0.920492\ttest-auc:0.935176\n",
      "[6]\ttrain-auc:0.929334\ttest-auc:0.936455\n",
      "[7]\ttrain-auc:0.931712\ttest-auc:0.938023\n",
      "[8]\ttrain-auc:0.937165\ttest-auc:0.943422\n",
      "[9]\ttrain-auc:0.93766\ttest-auc:0.943773\n",
      "[10]\ttrain-auc:0.940243\ttest-auc:0.94654\n",
      "[11]\ttrain-auc:0.940734\ttest-auc:0.946785\n",
      "[12]\ttrain-auc:0.944263\ttest-auc:0.953746\n",
      "[13]\ttrain-auc:0.947766\ttest-auc:0.960726\n",
      "[14]\ttrain-auc:0.947877\ttest-auc:0.960526\n",
      "[15]\ttrain-auc:0.947885\ttest-auc:0.960483\n",
      "[16]\ttrain-auc:0.949922\ttest-auc:0.960488\n",
      "[17]\ttrain-auc:0.954196\ttest-auc:0.964836\n",
      "[18]\ttrain-auc:0.95432\ttest-auc:0.965281\n",
      "[19]\ttrain-auc:0.957889\ttest-auc:0.965367\n",
      "[20]\ttrain-auc:0.957898\ttest-auc:0.965319\n",
      "[21]\ttrain-auc:0.959567\ttest-auc:0.966661\n",
      "[22]\ttrain-auc:0.959664\ttest-auc:0.966691\n",
      "[23]\ttrain-auc:0.967835\ttest-auc:0.969916\n",
      "[24]\ttrain-auc:0.967935\ttest-auc:0.969785\n",
      "[25]\ttrain-auc:0.96805\ttest-auc:0.969661\n",
      "[26]\ttrain-auc:0.968182\ttest-auc:0.969864\n",
      "[27]\ttrain-auc:0.969422\ttest-auc:0.971202\n",
      "[28]\ttrain-auc:0.969439\ttest-auc:0.971052\n",
      "[29]\ttrain-auc:0.969865\ttest-auc:0.972221\n",
      "[30]\ttrain-auc:0.9702\ttest-auc:0.972085\n",
      "[31]\ttrain-auc:0.970524\ttest-auc:0.971806\n",
      "[32]\ttrain-auc:0.971915\ttest-auc:0.971544\n",
      "[33]\ttrain-auc:0.971908\ttest-auc:0.971275\n",
      "[34]\ttrain-auc:0.97201\ttest-auc:0.971253\n",
      "[35]\ttrain-auc:0.975734\ttest-auc:0.974516\n",
      "[36]\ttrain-auc:0.976151\ttest-auc:0.974307\n",
      "[37]\ttrain-auc:0.976216\ttest-auc:0.974166\n",
      "[38]\ttrain-auc:0.982236\ttest-auc:0.980084\n",
      "[39]\ttrain-auc:0.983473\ttest-auc:0.982365\n",
      "[40]\ttrain-auc:0.98489\ttest-auc:0.982188\n",
      "[41]\ttrain-auc:0.984943\ttest-auc:0.982033\n",
      "[42]\ttrain-auc:0.984977\ttest-auc:0.981846\n",
      "[43]\ttrain-auc:0.984994\ttest-auc:0.981618\n",
      "[44]\ttrain-auc:0.985666\ttest-auc:0.982251\n",
      "[45]\ttrain-auc:0.985854\ttest-auc:0.982399\n",
      "[46]\ttrain-auc:0.986482\ttest-auc:0.98298\n",
      "[47]\ttrain-auc:0.987104\ttest-auc:0.982994\n",
      "[48]\ttrain-auc:0.987233\ttest-auc:0.983089\n",
      "[49]\ttrain-auc:0.987761\ttest-auc:0.983151\n",
      "[50]\ttrain-auc:0.987666\ttest-auc:0.983142\n",
      "[51]\ttrain-auc:0.988888\ttest-auc:0.983017\n",
      "[52]\ttrain-auc:0.989573\ttest-auc:0.983497\n",
      "[53]\ttrain-auc:0.98996\ttest-auc:0.983637\n",
      "[54]\ttrain-auc:0.990532\ttest-auc:0.983782\n",
      "[55]\ttrain-auc:0.990817\ttest-auc:0.983928\n",
      "[56]\ttrain-auc:0.99118\ttest-auc:0.98389\n",
      "[57]\ttrain-auc:0.991352\ttest-auc:0.983881\n",
      "[58]\ttrain-auc:0.991462\ttest-auc:0.984001\n",
      "[59]\ttrain-auc:0.991705\ttest-auc:0.984006\n",
      "[60]\ttrain-auc:0.991842\ttest-auc:0.984044\n",
      "[61]\ttrain-auc:0.992139\ttest-auc:0.984093\n",
      "[62]\ttrain-auc:0.992235\ttest-auc:0.98429\n",
      "[63]\ttrain-auc:0.992324\ttest-auc:0.984531\n",
      "[64]\ttrain-auc:0.992514\ttest-auc:0.984562\n",
      "[65]\ttrain-auc:0.992638\ttest-auc:0.984618\n",
      "[66]\ttrain-auc:0.992846\ttest-auc:0.984487\n",
      "[67]\ttrain-auc:0.992963\ttest-auc:0.984484\n",
      "[68]\ttrain-auc:0.993085\ttest-auc:0.984431\n",
      "[69]\ttrain-auc:0.993148\ttest-auc:0.984363\n",
      "[70]\ttrain-auc:0.993251\ttest-auc:0.984458\n",
      "[71]\ttrain-auc:0.993352\ttest-auc:0.984647\n",
      "[72]\ttrain-auc:0.993513\ttest-auc:0.984646\n",
      "[73]\ttrain-auc:0.993667\ttest-auc:0.984646\n",
      "[74]\ttrain-auc:0.993719\ttest-auc:0.984569\n",
      "[75]\ttrain-auc:0.99381\ttest-auc:0.984658\n",
      "[76]\ttrain-auc:0.99394\ttest-auc:0.984714\n",
      "[77]\ttrain-auc:0.993982\ttest-auc:0.984735\n",
      "[78]\ttrain-auc:0.994022\ttest-auc:0.984836\n",
      "[79]\ttrain-auc:0.994079\ttest-auc:0.984831\n",
      "[80]\ttrain-auc:0.994172\ttest-auc:0.984794\n",
      "[81]\ttrain-auc:0.994294\ttest-auc:0.984838\n",
      "[82]\ttrain-auc:0.994368\ttest-auc:0.984852\n",
      "[83]\ttrain-auc:0.994433\ttest-auc:0.98486\n",
      "[84]\ttrain-auc:0.994498\ttest-auc:0.984988\n",
      "[85]\ttrain-auc:0.994563\ttest-auc:0.985077\n",
      "[86]\ttrain-auc:0.994606\ttest-auc:0.985136\n",
      "[87]\ttrain-auc:0.994661\ttest-auc:0.985162\n",
      "[88]\ttrain-auc:0.994728\ttest-auc:0.98516\n",
      "[89]\ttrain-auc:0.994774\ttest-auc:0.985166\n",
      "[90]\ttrain-auc:0.994827\ttest-auc:0.985153\n",
      "[91]\ttrain-auc:0.994854\ttest-auc:0.985164\n",
      "[92]\ttrain-auc:0.994928\ttest-auc:0.985295\n",
      "[93]\ttrain-auc:0.994976\ttest-auc:0.985374\n",
      "[94]\ttrain-auc:0.995028\ttest-auc:0.985313\n",
      "[95]\ttrain-auc:0.995064\ttest-auc:0.985326\n",
      "[96]\ttrain-auc:0.99512\ttest-auc:0.985456\n",
      "[97]\ttrain-auc:0.99518\ttest-auc:0.985517\n",
      "[98]\ttrain-auc:0.995248\ttest-auc:0.985527\n",
      "[99]\ttrain-auc:0.995285\ttest-auc:0.985548\n",
      "fit obscene\n",
      "[0]\ttrain-auc:0.799077\ttest-auc:0.801081\n",
      "Multiple eval metrics have been passed: 'test-auc' will be used for early stopping.\n",
      "\n",
      "Will train until test-auc hasn't improved in 10 rounds.\n",
      "[1]\ttrain-auc:0.812435\ttest-auc:0.812791\n",
      "[2]\ttrain-auc:0.814146\ttest-auc:0.813748\n",
      "[3]\ttrain-auc:0.823\ttest-auc:0.822766\n",
      "[4]\ttrain-auc:0.841938\ttest-auc:0.839896\n",
      "[5]\ttrain-auc:0.842302\ttest-auc:0.841005\n",
      "[6]\ttrain-auc:0.842368\ttest-auc:0.841075\n",
      "[7]\ttrain-auc:0.847933\ttest-auc:0.843733\n",
      "[8]\ttrain-auc:0.848006\ttest-auc:0.843834\n",
      "[9]\ttrain-auc:0.854326\ttest-auc:0.851099\n",
      "[10]\ttrain-auc:0.888064\ttest-auc:0.88071\n",
      "[11]\ttrain-auc:0.888205\ttest-auc:0.880997\n",
      "[12]\ttrain-auc:0.888753\ttest-auc:0.882185\n",
      "[13]\ttrain-auc:0.900826\ttest-auc:0.893126\n",
      "[14]\ttrain-auc:0.901281\ttest-auc:0.893637\n",
      "[15]\ttrain-auc:0.901319\ttest-auc:0.893675\n",
      "[16]\ttrain-auc:0.906994\ttest-auc:0.899197\n",
      "[17]\ttrain-auc:0.936673\ttest-auc:0.929834\n",
      "[18]\ttrain-auc:0.940159\ttest-auc:0.932378\n",
      "[19]\ttrain-auc:0.940453\ttest-auc:0.932885\n",
      "[20]\ttrain-auc:0.94079\ttest-auc:0.933301\n",
      "[21]\ttrain-auc:0.945666\ttest-auc:0.936528\n",
      "[22]\ttrain-auc:0.947904\ttest-auc:0.938813\n",
      "[23]\ttrain-auc:0.948423\ttest-auc:0.939197\n",
      "[24]\ttrain-auc:0.949629\ttest-auc:0.940598\n",
      "[25]\ttrain-auc:0.95427\ttest-auc:0.944958\n",
      "[26]\ttrain-auc:0.954621\ttest-auc:0.9461\n",
      "[27]\ttrain-auc:0.956498\ttest-auc:0.948031\n",
      "[28]\ttrain-auc:0.956374\ttest-auc:0.947917\n",
      "[29]\ttrain-auc:0.958105\ttest-auc:0.94889\n",
      "[30]\ttrain-auc:0.961523\ttest-auc:0.954195\n",
      "[31]\ttrain-auc:0.962494\ttest-auc:0.954644\n",
      "[32]\ttrain-auc:0.965734\ttest-auc:0.957306\n",
      "[33]\ttrain-auc:0.966642\ttest-auc:0.957195\n",
      "[34]\ttrain-auc:0.967678\ttest-auc:0.958709\n",
      "[35]\ttrain-auc:0.96864\ttest-auc:0.95919\n",
      "[36]\ttrain-auc:0.969627\ttest-auc:0.959775\n",
      "[37]\ttrain-auc:0.970116\ttest-auc:0.960648\n",
      "[38]\ttrain-auc:0.970748\ttest-auc:0.960827\n",
      "[39]\ttrain-auc:0.971405\ttest-auc:0.961355\n",
      "[40]\ttrain-auc:0.972128\ttest-auc:0.962005\n",
      "[41]\ttrain-auc:0.972783\ttest-auc:0.962977\n",
      "[42]\ttrain-auc:0.972809\ttest-auc:0.962995\n",
      "[43]\ttrain-auc:0.973783\ttest-auc:0.963148\n",
      "[44]\ttrain-auc:0.974036\ttest-auc:0.963426\n",
      "[45]\ttrain-auc:0.974446\ttest-auc:0.964015\n",
      "[46]\ttrain-auc:0.974902\ttest-auc:0.964744\n",
      "[47]\ttrain-auc:0.975522\ttest-auc:0.964946\n",
      "[48]\ttrain-auc:0.975963\ttest-auc:0.965282\n",
      "[49]\ttrain-auc:0.976263\ttest-auc:0.965547\n",
      "[50]\ttrain-auc:0.976613\ttest-auc:0.965916\n",
      "[51]\ttrain-auc:0.97699\ttest-auc:0.966148\n",
      "[52]\ttrain-auc:0.977474\ttest-auc:0.966467\n",
      "[53]\ttrain-auc:0.978132\ttest-auc:0.966917\n",
      "[54]\ttrain-auc:0.978197\ttest-auc:0.967091\n",
      "[55]\ttrain-auc:0.978536\ttest-auc:0.967384\n",
      "[56]\ttrain-auc:0.978811\ttest-auc:0.96762\n",
      "[57]\ttrain-auc:0.979143\ttest-auc:0.967993\n",
      "[58]\ttrain-auc:0.979522\ttest-auc:0.968762\n",
      "[59]\ttrain-auc:0.979851\ttest-auc:0.969231\n",
      "[60]\ttrain-auc:0.980471\ttest-auc:0.969598\n",
      "[61]\ttrain-auc:0.980671\ttest-auc:0.970332\n",
      "[62]\ttrain-auc:0.981118\ttest-auc:0.970811\n",
      "[63]\ttrain-auc:0.981245\ttest-auc:0.970992\n",
      "[64]\ttrain-auc:0.9813\ttest-auc:0.971368\n",
      "[65]\ttrain-auc:0.981722\ttest-auc:0.971318\n",
      "[66]\ttrain-auc:0.982115\ttest-auc:0.971728\n",
      "[67]\ttrain-auc:0.982463\ttest-auc:0.971977\n",
      "[68]\ttrain-auc:0.982679\ttest-auc:0.972076\n",
      "[69]\ttrain-auc:0.982931\ttest-auc:0.972324\n",
      "[70]\ttrain-auc:0.983301\ttest-auc:0.972702\n",
      "[71]\ttrain-auc:0.983335\ttest-auc:0.972897\n",
      "[72]\ttrain-auc:0.983508\ttest-auc:0.972924\n",
      "[73]\ttrain-auc:0.983779\ttest-auc:0.973119\n",
      "[74]\ttrain-auc:0.983936\ttest-auc:0.973239\n",
      "[75]\ttrain-auc:0.984221\ttest-auc:0.97327\n",
      "[76]\ttrain-auc:0.984516\ttest-auc:0.973532\n",
      "[77]\ttrain-auc:0.98476\ttest-auc:0.973616\n",
      "[78]\ttrain-auc:0.985028\ttest-auc:0.974234\n",
      "[79]\ttrain-auc:0.985188\ttest-auc:0.974279\n",
      "[80]\ttrain-auc:0.985473\ttest-auc:0.974491\n",
      "[81]\ttrain-auc:0.985658\ttest-auc:0.974962\n",
      "[82]\ttrain-auc:0.985772\ttest-auc:0.9752\n",
      "[83]\ttrain-auc:0.98578\ttest-auc:0.975124\n",
      "[84]\ttrain-auc:0.98592\ttest-auc:0.975483\n",
      "[85]\ttrain-auc:0.986041\ttest-auc:0.975495\n",
      "[86]\ttrain-auc:0.986135\ttest-auc:0.975705\n",
      "[87]\ttrain-auc:0.986209\ttest-auc:0.975986\n",
      "[88]\ttrain-auc:0.986288\ttest-auc:0.976129\n",
      "[89]\ttrain-auc:0.986477\ttest-auc:0.976391\n",
      "[90]\ttrain-auc:0.986609\ttest-auc:0.9764\n",
      "[91]\ttrain-auc:0.986679\ttest-auc:0.976505\n",
      "[92]\ttrain-auc:0.986798\ttest-auc:0.976711\n",
      "[93]\ttrain-auc:0.986839\ttest-auc:0.976682\n",
      "[94]\ttrain-auc:0.986891\ttest-auc:0.976823\n",
      "[95]\ttrain-auc:0.986985\ttest-auc:0.976857\n",
      "[96]\ttrain-auc:0.987211\ttest-auc:0.976944\n",
      "[97]\ttrain-auc:0.987297\ttest-auc:0.976951\n",
      "[98]\ttrain-auc:0.987447\ttest-auc:0.977142\n",
      "[99]\ttrain-auc:0.987648\ttest-auc:0.97728\n",
      "fit threat\n",
      "[0]\ttrain-auc:0.696553\ttest-auc:0.738119\n",
      "Multiple eval metrics have been passed: 'test-auc' will be used for early stopping.\n",
      "\n",
      "Will train until test-auc hasn't improved in 10 rounds.\n",
      "[1]\ttrain-auc:0.727355\ttest-auc:0.754696\n",
      "[2]\ttrain-auc:0.742835\ttest-auc:0.754635\n",
      "[3]\ttrain-auc:0.759571\ttest-auc:0.76575\n",
      "[4]\ttrain-auc:0.772448\ttest-auc:0.765705\n",
      "[5]\ttrain-auc:0.787724\ttest-auc:0.776591\n",
      "[6]\ttrain-auc:0.792808\ttest-auc:0.782095\n",
      "[7]\ttrain-auc:0.825941\ttest-auc:0.798191\n",
      "[8]\ttrain-auc:0.834845\ttest-auc:0.798068\n",
      "[9]\ttrain-auc:0.842522\ttest-auc:0.798013\n",
      "[10]\ttrain-auc:0.842507\ttest-auc:0.797963\n",
      "[11]\ttrain-auc:0.851263\ttest-auc:0.808621\n",
      "[12]\ttrain-auc:0.852477\ttest-auc:0.80868\n",
      "[13]\ttrain-auc:0.85757\ttest-auc:0.814091\n",
      "[14]\ttrain-auc:0.861399\ttest-auc:0.819613\n",
      "[15]\ttrain-auc:0.867816\ttest-auc:0.819573\n",
      "[16]\ttrain-auc:0.872958\ttest-auc:0.830546\n",
      "[17]\ttrain-auc:0.872863\ttest-auc:0.830462\n",
      "[18]\ttrain-auc:0.889836\ttest-auc:0.840093\n",
      "[19]\ttrain-auc:0.89351\ttest-auc:0.839783\n",
      "[20]\ttrain-auc:0.89351\ttest-auc:0.839835\n",
      "[21]\ttrain-auc:0.893568\ttest-auc:0.839952\n",
      "[22]\ttrain-auc:0.897325\ttest-auc:0.839878\n",
      "[23]\ttrain-auc:0.905825\ttest-auc:0.88823\n",
      "[24]\ttrain-auc:0.905908\ttest-auc:0.888509\n",
      "[25]\ttrain-auc:0.918703\ttest-auc:0.894068\n",
      "[26]\ttrain-auc:0.920061\ttest-auc:0.894211\n",
      "[27]\ttrain-auc:0.925114\ttest-auc:0.893759\n",
      "[28]\ttrain-auc:0.925115\ttest-auc:0.893857\n",
      "[29]\ttrain-auc:0.925132\ttest-auc:0.894206\n",
      "[30]\ttrain-auc:0.932433\ttest-auc:0.904422\n",
      "[31]\ttrain-auc:0.936094\ttest-auc:0.904029\n",
      "[32]\ttrain-auc:0.940008\ttest-auc:0.904137\n",
      "[33]\ttrain-auc:0.9435\ttest-auc:0.91938\n",
      "[34]\ttrain-auc:0.945834\ttest-auc:0.924438\n",
      "[35]\ttrain-auc:0.945815\ttest-auc:0.924336\n",
      "[36]\ttrain-auc:0.948283\ttest-auc:0.929473\n",
      "[37]\ttrain-auc:0.950532\ttest-auc:0.934546\n",
      "[38]\ttrain-auc:0.950553\ttest-auc:0.935103\n",
      "[39]\ttrain-auc:0.96508\ttest-auc:0.944233\n",
      "[40]\ttrain-auc:0.967865\ttest-auc:0.950447\n",
      "[41]\ttrain-auc:0.969236\ttest-auc:0.950072\n",
      "[42]\ttrain-auc:0.969338\ttest-auc:0.950161\n",
      "[43]\ttrain-auc:0.969238\ttest-auc:0.949741\n",
      "[44]\ttrain-auc:0.971321\ttest-auc:0.951281\n",
      "[45]\ttrain-auc:0.977098\ttest-auc:0.957161\n",
      "[46]\ttrain-auc:0.980963\ttest-auc:0.959456\n",
      "[47]\ttrain-auc:0.987472\ttest-auc:0.968196\n",
      "[48]\ttrain-auc:0.988166\ttest-auc:0.970525\n",
      "[49]\ttrain-auc:0.988086\ttest-auc:0.969753\n",
      "[50]\ttrain-auc:0.9881\ttest-auc:0.971063\n",
      "[51]\ttrain-auc:0.988388\ttest-auc:0.977591\n",
      "[52]\ttrain-auc:0.988764\ttest-auc:0.978013\n",
      "[53]\ttrain-auc:0.98926\ttest-auc:0.977261\n",
      "[54]\ttrain-auc:0.989546\ttest-auc:0.978864\n",
      "[55]\ttrain-auc:0.988832\ttest-auc:0.972493\n",
      "[56]\ttrain-auc:0.988915\ttest-auc:0.973175\n",
      "[57]\ttrain-auc:0.989115\ttest-auc:0.972983\n",
      "[58]\ttrain-auc:0.990964\ttest-auc:0.975528\n",
      "[59]\ttrain-auc:0.991095\ttest-auc:0.97533\n",
      "[60]\ttrain-auc:0.991529\ttest-auc:0.975299\n",
      "[61]\ttrain-auc:0.993882\ttest-auc:0.979717\n",
      "[62]\ttrain-auc:0.994271\ttest-auc:0.979651\n",
      "[63]\ttrain-auc:0.994383\ttest-auc:0.979955\n",
      "[64]\ttrain-auc:0.994922\ttest-auc:0.980675\n",
      "[65]\ttrain-auc:0.994965\ttest-auc:0.980765\n",
      "[66]\ttrain-auc:0.995025\ttest-auc:0.980303\n",
      "[67]\ttrain-auc:0.995344\ttest-auc:0.981395\n",
      "[68]\ttrain-auc:0.995362\ttest-auc:0.980877\n",
      "[69]\ttrain-auc:0.995456\ttest-auc:0.980268\n",
      "[70]\ttrain-auc:0.995446\ttest-auc:0.979878\n",
      "[71]\ttrain-auc:0.995502\ttest-auc:0.979527\n",
      "[72]\ttrain-auc:0.995538\ttest-auc:0.979761\n",
      "[73]\ttrain-auc:0.995729\ttest-auc:0.97979\n",
      "[74]\ttrain-auc:0.995789\ttest-auc:0.979502\n",
      "[75]\ttrain-auc:0.995899\ttest-auc:0.979996\n",
      "[76]\ttrain-auc:0.996218\ttest-auc:0.979538\n",
      "[77]\ttrain-auc:0.996383\ttest-auc:0.97869\n",
      "Stopping. Best iteration:\n",
      "[67]\ttrain-auc:0.995344\ttest-auc:0.981395\n",
      "\n",
      "fit insult\n",
      "[0]\ttrain-auc:0.731254\ttest-auc:0.732504\n",
      "Multiple eval metrics have been passed: 'test-auc' will be used for early stopping.\n",
      "\n",
      "Will train until test-auc hasn't improved in 10 rounds.\n",
      "[1]\ttrain-auc:0.800369\ttest-auc:0.796942\n",
      "[2]\ttrain-auc:0.801509\ttest-auc:0.798355\n",
      "[3]\ttrain-auc:0.801562\ttest-auc:0.798376\n",
      "[4]\ttrain-auc:0.818774\ttest-auc:0.82412\n",
      "[5]\ttrain-auc:0.824014\ttest-auc:0.831024\n",
      "[6]\ttrain-auc:0.836278\ttest-auc:0.839453\n",
      "[7]\ttrain-auc:0.836335\ttest-auc:0.839562\n",
      "[8]\ttrain-auc:0.83639\ttest-auc:0.839601\n",
      "[9]\ttrain-auc:0.844333\ttest-auc:0.848537\n",
      "[10]\ttrain-auc:0.864957\ttest-auc:0.864457\n",
      "[11]\ttrain-auc:0.890281\ttest-auc:0.887136\n",
      "[12]\ttrain-auc:0.890561\ttest-auc:0.887422\n",
      "[13]\ttrain-auc:0.891725\ttest-auc:0.887351\n",
      "[14]\ttrain-auc:0.897781\ttest-auc:0.894104\n",
      "[15]\ttrain-auc:0.91785\ttest-auc:0.912968\n",
      "[16]\ttrain-auc:0.923476\ttest-auc:0.917829\n",
      "[17]\ttrain-auc:0.928945\ttest-auc:0.924655\n",
      "[18]\ttrain-auc:0.930264\ttest-auc:0.925461\n",
      "[19]\ttrain-auc:0.933734\ttest-auc:0.927819\n",
      "[20]\ttrain-auc:0.934466\ttest-auc:0.929676\n",
      "[21]\ttrain-auc:0.937132\ttest-auc:0.931962\n",
      "[22]\ttrain-auc:0.939109\ttest-auc:0.932602\n",
      "[23]\ttrain-auc:0.940497\ttest-auc:0.933452\n",
      "[24]\ttrain-auc:0.942613\ttest-auc:0.934657\n",
      "[25]\ttrain-auc:0.945354\ttest-auc:0.93749\n",
      "[26]\ttrain-auc:0.947609\ttest-auc:0.93988\n",
      "[27]\ttrain-auc:0.948021\ttest-auc:0.939282\n",
      "[28]\ttrain-auc:0.949791\ttest-auc:0.941962\n",
      "[29]\ttrain-auc:0.951589\ttest-auc:0.943634\n",
      "[30]\ttrain-auc:0.951791\ttest-auc:0.943542\n",
      "[31]\ttrain-auc:0.953073\ttest-auc:0.945001\n",
      "[32]\ttrain-auc:0.954437\ttest-auc:0.946286\n",
      "[33]\ttrain-auc:0.955144\ttest-auc:0.94636\n",
      "[34]\ttrain-auc:0.956289\ttest-auc:0.946634\n",
      "[35]\ttrain-auc:0.956809\ttest-auc:0.946712\n",
      "[36]\ttrain-auc:0.957728\ttest-auc:0.947708\n",
      "[37]\ttrain-auc:0.958054\ttest-auc:0.947964\n",
      "[38]\ttrain-auc:0.958664\ttest-auc:0.94881\n",
      "[39]\ttrain-auc:0.959626\ttest-auc:0.949108\n",
      "[40]\ttrain-auc:0.960291\ttest-auc:0.949797\n",
      "[41]\ttrain-auc:0.961136\ttest-auc:0.950629\n",
      "[42]\ttrain-auc:0.962224\ttest-auc:0.951028\n",
      "[43]\ttrain-auc:0.962541\ttest-auc:0.9512\n",
      "[44]\ttrain-auc:0.962745\ttest-auc:0.951124\n",
      "[45]\ttrain-auc:0.963141\ttest-auc:0.951354\n",
      "[46]\ttrain-auc:0.964124\ttest-auc:0.951426\n",
      "[47]\ttrain-auc:0.964931\ttest-auc:0.951997\n",
      "[48]\ttrain-auc:0.965618\ttest-auc:0.952651\n",
      "[49]\ttrain-auc:0.96589\ttest-auc:0.952877\n",
      "[50]\ttrain-auc:0.966337\ttest-auc:0.953234\n",
      "[51]\ttrain-auc:0.96679\ttest-auc:0.953925\n",
      "[52]\ttrain-auc:0.967279\ttest-auc:0.954081\n",
      "[53]\ttrain-auc:0.967525\ttest-auc:0.954472\n",
      "[54]\ttrain-auc:0.967934\ttest-auc:0.955274\n",
      "[55]\ttrain-auc:0.968046\ttest-auc:0.955454\n",
      "[56]\ttrain-auc:0.968588\ttest-auc:0.955811\n",
      "[57]\ttrain-auc:0.968823\ttest-auc:0.956182\n",
      "[58]\ttrain-auc:0.969171\ttest-auc:0.956541\n",
      "[59]\ttrain-auc:0.969477\ttest-auc:0.95709\n",
      "[60]\ttrain-auc:0.970015\ttest-auc:0.957634\n",
      "[61]\ttrain-auc:0.970211\ttest-auc:0.95765\n",
      "[62]\ttrain-auc:0.97075\ttest-auc:0.957635\n",
      "[63]\ttrain-auc:0.971096\ttest-auc:0.957975\n",
      "[64]\ttrain-auc:0.97148\ttest-auc:0.958433\n",
      "[65]\ttrain-auc:0.972018\ttest-auc:0.958925\n",
      "[66]\ttrain-auc:0.972382\ttest-auc:0.959217\n",
      "[67]\ttrain-auc:0.972529\ttest-auc:0.959466\n",
      "[68]\ttrain-auc:0.972854\ttest-auc:0.959914\n",
      "[69]\ttrain-auc:0.973183\ttest-auc:0.960173\n",
      "[70]\ttrain-auc:0.973422\ttest-auc:0.960388\n",
      "[71]\ttrain-auc:0.9739\ttest-auc:0.960424\n",
      "[72]\ttrain-auc:0.97402\ttest-auc:0.960534\n",
      "[73]\ttrain-auc:0.974324\ttest-auc:0.960627\n",
      "[74]\ttrain-auc:0.974631\ttest-auc:0.96099\n",
      "[75]\ttrain-auc:0.97491\ttest-auc:0.96111\n",
      "[76]\ttrain-auc:0.975143\ttest-auc:0.9615\n",
      "[77]\ttrain-auc:0.975544\ttest-auc:0.961722\n",
      "[78]\ttrain-auc:0.975741\ttest-auc:0.961914\n",
      "[79]\ttrain-auc:0.976066\ttest-auc:0.962268\n",
      "[80]\ttrain-auc:0.976285\ttest-auc:0.962566\n",
      "[81]\ttrain-auc:0.976417\ttest-auc:0.962736\n",
      "[82]\ttrain-auc:0.976461\ttest-auc:0.962947\n",
      "[83]\ttrain-auc:0.976754\ttest-auc:0.963054\n",
      "[84]\ttrain-auc:0.977087\ttest-auc:0.963126\n",
      "[85]\ttrain-auc:0.9773\ttest-auc:0.963216\n",
      "[86]\ttrain-auc:0.977518\ttest-auc:0.963449\n",
      "[87]\ttrain-auc:0.977708\ttest-auc:0.963536\n",
      "[88]\ttrain-auc:0.977818\ttest-auc:0.963609\n",
      "[89]\ttrain-auc:0.97798\ttest-auc:0.963773\n",
      "[90]\ttrain-auc:0.978064\ttest-auc:0.963972\n",
      "[91]\ttrain-auc:0.978243\ttest-auc:0.96407\n",
      "[92]\ttrain-auc:0.978408\ttest-auc:0.964077\n",
      "[93]\ttrain-auc:0.978718\ttest-auc:0.964283\n",
      "[94]\ttrain-auc:0.978819\ttest-auc:0.964421\n",
      "[95]\ttrain-auc:0.978988\ttest-auc:0.964718\n",
      "[96]\ttrain-auc:0.979183\ttest-auc:0.964796\n",
      "[97]\ttrain-auc:0.979274\ttest-auc:0.964882\n",
      "[98]\ttrain-auc:0.979504\ttest-auc:0.965091\n",
      "[99]\ttrain-auc:0.979578\ttest-auc:0.965227\n",
      "fit identity_hate\n",
      "[0]\ttrain-auc:0.701645\ttest-auc:0.681689\n",
      "Multiple eval metrics have been passed: 'test-auc' will be used for early stopping.\n",
      "\n",
      "Will train until test-auc hasn't improved in 10 rounds.\n",
      "[1]\ttrain-auc:0.735671\ttest-auc:0.710479\n",
      "[2]\ttrain-auc:0.791913\ttest-auc:0.754689\n",
      "[3]\ttrain-auc:0.819865\ttest-auc:0.783287\n",
      "[4]\ttrain-auc:0.82167\ttest-auc:0.784698\n",
      "[5]\ttrain-auc:0.825264\ttest-auc:0.784559\n",
      "[6]\ttrain-auc:0.830302\ttest-auc:0.790103\n",
      "[7]\ttrain-auc:0.831645\ttest-auc:0.793952\n",
      "[8]\ttrain-auc:0.831594\ttest-auc:0.793837\n",
      "[9]\ttrain-auc:0.83819\ttest-auc:0.795725\n",
      "[10]\ttrain-auc:0.860004\ttest-auc:0.803808\n",
      "[11]\ttrain-auc:0.861838\ttest-auc:0.803877\n",
      "[12]\ttrain-auc:0.861875\ttest-auc:0.803888\n",
      "[13]\ttrain-auc:0.863079\ttest-auc:0.803865\n",
      "[14]\ttrain-auc:0.880252\ttest-auc:0.822543\n",
      "[15]\ttrain-auc:0.880611\ttest-auc:0.824398\n",
      "[16]\ttrain-auc:0.880555\ttest-auc:0.824443\n",
      "[17]\ttrain-auc:0.880585\ttest-auc:0.82447\n",
      "[18]\ttrain-auc:0.880583\ttest-auc:0.824456\n",
      "[19]\ttrain-auc:0.887367\ttest-auc:0.83166\n",
      "[20]\ttrain-auc:0.892083\ttest-auc:0.842546\n",
      "[21]\ttrain-auc:0.892488\ttest-auc:0.84252\n",
      "[22]\ttrain-auc:0.892932\ttest-auc:0.842478\n",
      "[23]\ttrain-auc:0.893039\ttest-auc:0.842579\n",
      "[24]\ttrain-auc:0.893108\ttest-auc:0.84234\n",
      "[25]\ttrain-auc:0.893198\ttest-auc:0.842295\n",
      "[26]\ttrain-auc:0.898745\ttest-auc:0.847015\n",
      "[27]\ttrain-auc:0.911622\ttest-auc:0.853449\n",
      "[28]\ttrain-auc:0.912527\ttest-auc:0.853434\n",
      "[29]\ttrain-auc:0.91292\ttest-auc:0.853373\n",
      "[30]\ttrain-auc:0.913336\ttest-auc:0.85341\n",
      "[31]\ttrain-auc:0.918022\ttest-auc:0.852243\n",
      "[32]\ttrain-auc:0.918492\ttest-auc:0.852204\n",
      "[33]\ttrain-auc:0.918505\ttest-auc:0.851896\n",
      "[34]\ttrain-auc:0.918722\ttest-auc:0.85181\n",
      "[35]\ttrain-auc:0.924115\ttest-auc:0.857146\n",
      "[36]\ttrain-auc:0.934611\ttest-auc:0.865736\n",
      "[37]\ttrain-auc:0.934821\ttest-auc:0.868745\n",
      "[38]\ttrain-auc:0.936204\ttest-auc:0.870575\n",
      "[39]\ttrain-auc:0.948846\ttest-auc:0.909\n",
      "[40]\ttrain-auc:0.950288\ttest-auc:0.911653\n",
      "[41]\ttrain-auc:0.954197\ttest-auc:0.910506\n",
      "[42]\ttrain-auc:0.956314\ttest-auc:0.910574\n",
      "[43]\ttrain-auc:0.961073\ttest-auc:0.917543\n",
      "[44]\ttrain-auc:0.964026\ttest-auc:0.922039\n",
      "[45]\ttrain-auc:0.964944\ttest-auc:0.924416\n",
      "[46]\ttrain-auc:0.965739\ttest-auc:0.924177\n",
      "[47]\ttrain-auc:0.965585\ttest-auc:0.925537\n",
      "[48]\ttrain-auc:0.965922\ttest-auc:0.925996\n",
      "[49]\ttrain-auc:0.969382\ttest-auc:0.93148\n",
      "[50]\ttrain-auc:0.970509\ttest-auc:0.934244\n",
      "[51]\ttrain-auc:0.971185\ttest-auc:0.934929\n",
      "[52]\ttrain-auc:0.972252\ttest-auc:0.938469\n",
      "[53]\ttrain-auc:0.973934\ttest-auc:0.939501\n",
      "[54]\ttrain-auc:0.974276\ttest-auc:0.940756\n",
      "[55]\ttrain-auc:0.975102\ttest-auc:0.942367\n",
      "[56]\ttrain-auc:0.976273\ttest-auc:0.944018\n",
      "[57]\ttrain-auc:0.977313\ttest-auc:0.944858\n",
      "[58]\ttrain-auc:0.977438\ttest-auc:0.945596\n",
      "[59]\ttrain-auc:0.978242\ttest-auc:0.945981\n",
      "[60]\ttrain-auc:0.979035\ttest-auc:0.946063\n",
      "[61]\ttrain-auc:0.979439\ttest-auc:0.945179\n",
      "[62]\ttrain-auc:0.979602\ttest-auc:0.947239\n",
      "[63]\ttrain-auc:0.979749\ttest-auc:0.9481\n",
      "[64]\ttrain-auc:0.980253\ttest-auc:0.949247\n",
      "[65]\ttrain-auc:0.980587\ttest-auc:0.950353\n",
      "[66]\ttrain-auc:0.980709\ttest-auc:0.95033\n",
      "[67]\ttrain-auc:0.981392\ttest-auc:0.950329\n",
      "[68]\ttrain-auc:0.982005\ttest-auc:0.950755\n",
      "[69]\ttrain-auc:0.982269\ttest-auc:0.951186\n",
      "[70]\ttrain-auc:0.982673\ttest-auc:0.951405\n",
      "[71]\ttrain-auc:0.982842\ttest-auc:0.951946\n",
      "[72]\ttrain-auc:0.98282\ttest-auc:0.951555\n",
      "[73]\ttrain-auc:0.983548\ttest-auc:0.951174\n",
      "[74]\ttrain-auc:0.983682\ttest-auc:0.951707\n",
      "[75]\ttrain-auc:0.983733\ttest-auc:0.952397\n",
      "[76]\ttrain-auc:0.984375\ttest-auc:0.95241\n",
      "[77]\ttrain-auc:0.984923\ttest-auc:0.952805\n",
      "[78]\ttrain-auc:0.985312\ttest-auc:0.952489\n",
      "[79]\ttrain-auc:0.985845\ttest-auc:0.953464\n",
      "[80]\ttrain-auc:0.985905\ttest-auc:0.953975\n",
      "[81]\ttrain-auc:0.986425\ttest-auc:0.954124\n",
      "[82]\ttrain-auc:0.986657\ttest-auc:0.954379\n",
      "[83]\ttrain-auc:0.986672\ttest-auc:0.954494\n",
      "[84]\ttrain-auc:0.986852\ttest-auc:0.954871\n",
      "[85]\ttrain-auc:0.98706\ttest-auc:0.954539\n",
      "[86]\ttrain-auc:0.987236\ttest-auc:0.954615\n",
      "[87]\ttrain-auc:0.987458\ttest-auc:0.954534\n",
      "[88]\ttrain-auc:0.987581\ttest-auc:0.954901\n",
      "[89]\ttrain-auc:0.987626\ttest-auc:0.954618\n",
      "[90]\ttrain-auc:0.987815\ttest-auc:0.954498\n",
      "[91]\ttrain-auc:0.988089\ttest-auc:0.954479\n",
      "[92]\ttrain-auc:0.988233\ttest-auc:0.954476\n",
      "[93]\ttrain-auc:0.988429\ttest-auc:0.954583\n",
      "[94]\ttrain-auc:0.98853\ttest-auc:0.954673\n",
      "[95]\ttrain-auc:0.988698\ttest-auc:0.95555\n",
      "[96]\ttrain-auc:0.988818\ttest-auc:0.956044\n",
      "[97]\ttrain-auc:0.988875\ttest-auc:0.956358\n",
      "[98]\ttrain-auc:0.988923\ttest-auc:0.956253\n",
      "[99]\ttrain-auc:0.989011\ttest-auc:0.956358\n"
     ]
    }
   ],
   "source": [
    "col = ['toxic', 'severe_toxic', 'obscene', 'threat', 'insult', 'identity_hate']\n",
    "preds = np.zeros((test.shape[0], len(col)))\n",
    "\n",
    "for i, j in enumerate(col):\n",
    "    print('fit '+j)\n",
    "    model = run(comments_train, train_y[j], comments_val,val_y[j])\n",
    "    preds[:,i] = model.predict(xgb.DMatrix(comments_test), ntree_limit = model.best_ntree_limit)\n",
    "    gc.collect()"
   ]
  },
  {
   "cell_type": "code",
   "execution_count": null,
   "id": "92bcc8c3",
   "metadata": {
    "id": "VQ0r9yq2Tuqp"
   },
   "outputs": [],
   "source": [
    "labels=pd.read_csv('/content/drive/My Drive/Colab_data/Data_Mining/Data-Mining-Project/dataset/test_labels.csv')\n",
    "labels=np.array(labels.iloc[:,1:])\n",
    "sum_labels=np.sum(labels,axis=1)\n",
    "idx=sum_labels>=0"
   ]
  },
  {
   "cell_type": "code",
   "execution_count": null,
   "id": "7cc5f78d",
   "metadata": {
    "colab": {
     "base_uri": "https://localhost:8080/"
    },
    "id": "9C4D8OzKR6il",
    "outputId": "1b4a9c97-d5b7-48c3-f4c8-34bb18f40ba8"
   },
   "outputs": [
    {
     "data": {
      "text/plain": [
       "((63978, 6), (63978, 6))"
      ]
     },
     "execution_count": 123,
     "metadata": {
      "tags": []
     },
     "output_type": "execute_result"
    }
   ],
   "source": [
    "preds_consider=preds[idx]\n",
    "labels_consider= labels[idx]\n",
    "preds_consider.shape,labels_consider.shape"
   ]
  },
  {
   "cell_type": "code",
   "execution_count": null,
   "id": "da9f465d",
   "metadata": {
    "colab": {
     "base_uri": "https://localhost:8080/"
    },
    "id": "n4-yBayJaJ8B",
    "outputId": "6210ff92-26f9-4751-eb6d-bf16ffdf4f11"
   },
   "outputs": [
    {
     "data": {
      "text/plain": [
       "0.9635699477762086"
      ]
     },
     "execution_count": 124,
     "metadata": {
      "tags": []
     },
     "output_type": "execute_result"
    }
   ],
   "source": [
    "from sklearn.metrics import roc_auc_score\n",
    "scores=[]\n",
    "for i in range(6):\n",
    "  scores.append(roc_auc_score(labels_consider[:,i],preds_consider[:,i]))\n",
    "np.mean(scores)"
   ]
  },
  {
   "cell_type": "code",
   "execution_count": null,
   "id": "3f74c069",
   "metadata": {
    "id": "w9QwnNRmgER2"
   },
   "outputs": [],
   "source": []
  },
  {
   "cell_type": "code",
   "execution_count": null,
   "id": "abd12794",
   "metadata": {
    "id": "O8q_JeLPro5c"
   },
   "outputs": [],
   "source": [
    "path='/content/drive/My Drive/Colab_data/Data_Mining/Data-Mining-Project/dataset/'"
   ]
  },
  {
   "cell_type": "code",
   "execution_count": null,
   "id": "e30213dd",
   "metadata": {
    "id": "V-Rx7bkbuwu6"
   },
   "outputs": [],
   "source": [
    "\"\"\"Un-Comment For Running locally out of colab\n",
    "path='./dataset'\n",
    "\"\"\"#Un-Comment For Running locally out of colab "
   ]
  },
  {
   "cell_type": "code",
   "execution_count": null,
   "id": "c7698c9a",
   "metadata": {
    "id": "jZt0yg0Nu06H"
   },
   "outputs": [],
   "source": [
    "import pandas as pd\n",
    "import numpy as np"
   ]
  },
  {
   "cell_type": "code",
   "execution_count": null,
   "id": "458d11fd",
   "metadata": {
    "id": "U90qalIbvdYb"
   },
   "outputs": [],
   "source": [
    "train = pd.read_csv(path+\"train.csv\")\n",
    "test = pd.read_csv(path+\"test.csv\")\n",
    "labels = pd.read_csv(path+\"test_labels.csv\")"
   ]
  },
  {
   "cell_type": "code",
   "execution_count": null,
   "id": "0d5bffff",
   "metadata": {
    "colab": {
     "base_uri": "https://localhost:8080/",
     "height": 195
    },
    "id": "KzRHrShevjWs",
    "outputId": "f1416d13-1e50-45d8-9675-9ceddaf1818f"
   },
   "outputs": [
    {
     "data": {
      "text/html": [
       "<div>\n",
       "<style scoped>\n",
       "    .dataframe tbody tr th:only-of-type {\n",
       "        vertical-align: middle;\n",
       "    }\n",
       "\n",
       "    .dataframe tbody tr th {\n",
       "        vertical-align: top;\n",
       "    }\n",
       "\n",
       "    .dataframe thead th {\n",
       "        text-align: right;\n",
       "    }\n",
       "</style>\n",
       "<table border=\"1\" class=\"dataframe\">\n",
       "  <thead>\n",
       "    <tr style=\"text-align: right;\">\n",
       "      <th></th>\n",
       "      <th>id</th>\n",
       "      <th>comment_text</th>\n",
       "      <th>toxic</th>\n",
       "      <th>severe_toxic</th>\n",
       "      <th>obscene</th>\n",
       "      <th>threat</th>\n",
       "      <th>insult</th>\n",
       "      <th>identity_hate</th>\n",
       "    </tr>\n",
       "  </thead>\n",
       "  <tbody>\n",
       "    <tr>\n",
       "      <th>0</th>\n",
       "      <td>0000997932d777bf</td>\n",
       "      <td>Explanation\\r\\nWhy the edits made under my use...</td>\n",
       "      <td>0</td>\n",
       "      <td>0</td>\n",
       "      <td>0</td>\n",
       "      <td>0</td>\n",
       "      <td>0</td>\n",
       "      <td>0</td>\n",
       "    </tr>\n",
       "    <tr>\n",
       "      <th>1</th>\n",
       "      <td>000103f0d9cfb60f</td>\n",
       "      <td>D'aww! He matches this background colour I'm s...</td>\n",
       "      <td>0</td>\n",
       "      <td>0</td>\n",
       "      <td>0</td>\n",
       "      <td>0</td>\n",
       "      <td>0</td>\n",
       "      <td>0</td>\n",
       "    </tr>\n",
       "    <tr>\n",
       "      <th>2</th>\n",
       "      <td>000113f07ec002fd</td>\n",
       "      <td>Hey man, I'm really not trying to edit war. It...</td>\n",
       "      <td>0</td>\n",
       "      <td>0</td>\n",
       "      <td>0</td>\n",
       "      <td>0</td>\n",
       "      <td>0</td>\n",
       "      <td>0</td>\n",
       "    </tr>\n",
       "    <tr>\n",
       "      <th>3</th>\n",
       "      <td>0001b41b1c6bb37e</td>\n",
       "      <td>\"\\r\\nMore\\r\\nI can't make any real suggestions...</td>\n",
       "      <td>0</td>\n",
       "      <td>0</td>\n",
       "      <td>0</td>\n",
       "      <td>0</td>\n",
       "      <td>0</td>\n",
       "      <td>0</td>\n",
       "    </tr>\n",
       "    <tr>\n",
       "      <th>4</th>\n",
       "      <td>0001d958c54c6e35</td>\n",
       "      <td>You, sir, are my hero. Any chance you remember...</td>\n",
       "      <td>0</td>\n",
       "      <td>0</td>\n",
       "      <td>0</td>\n",
       "      <td>0</td>\n",
       "      <td>0</td>\n",
       "      <td>0</td>\n",
       "    </tr>\n",
       "  </tbody>\n",
       "</table>\n",
       "</div>"
      ],
      "text/plain": [
       "                 id  ... identity_hate\n",
       "0  0000997932d777bf  ...             0\n",
       "1  000103f0d9cfb60f  ...             0\n",
       "2  000113f07ec002fd  ...             0\n",
       "3  0001b41b1c6bb37e  ...             0\n",
       "4  0001d958c54c6e35  ...             0\n",
       "\n",
       "[5 rows x 8 columns]"
      ]
     },
     "execution_count": 4,
     "metadata": {
      "tags": []
     },
     "output_type": "execute_result"
    }
   ],
   "source": [
    "train.head()"
   ]
  },
  {
   "cell_type": "markdown",
   "id": "39f9468f",
   "metadata": {
    "id": "mkCZOswCvlJ5"
   },
   "source": [
    "Check for Null Values in the dataset"
   ]
  },
  {
   "cell_type": "code",
   "execution_count": null,
   "id": "eaec2ff2",
   "metadata": {
    "colab": {
     "base_uri": "https://localhost:8080/"
    },
    "id": "qjgCdwu_wEH2",
    "outputId": "d1a7f035-0ccb-45ff-e676-dd21186c209f"
   },
   "outputs": [
    {
     "data": {
      "text/plain": [
       "(id               False\n",
       " comment_text     False\n",
       " toxic            False\n",
       " severe_toxic     False\n",
       " obscene          False\n",
       " threat           False\n",
       " insult           False\n",
       " identity_hate    False\n",
       " dtype: bool, id              False\n",
       " comment_text    False\n",
       " dtype: bool)"
      ]
     },
     "execution_count": 5,
     "metadata": {
      "tags": []
     },
     "output_type": "execute_result"
    }
   ],
   "source": [
    "train.isnull().any(),test.isnull().any()"
   ]
  },
  {
   "cell_type": "markdown",
   "id": "07eca58b",
   "metadata": {
    "id": "0Ts539SRxuQ0"
   },
   "source": [
    "Add Lemmatisation"
   ]
  },
  {
   "cell_type": "code",
   "execution_count": null,
   "id": "d83eebd2",
   "metadata": {
    "id": "3yTPrbvbwyfw"
   },
   "outputs": [],
   "source": [
    "classes = [\"toxic\", \"severe_toxic\", \"obscene\", \"threat\", \"insult\", \"identity_hate\"]\n",
    "y = train[classes].values\n",
    "list_sentences_train = train[\"comment_text\"]\n",
    "list_sentences_test = test[\"comment_text\"]"
   ]
  },
  {
   "cell_type": "code",
   "execution_count": null,
   "id": "ca8a470e",
   "metadata": {
    "id": "qzM7nxcyyK1K"
   },
   "outputs": [],
   "source": [
    "from keras.preprocessing.text import Tokenizer"
   ]
  },
  {
   "cell_type": "code",
   "execution_count": null,
   "id": "937385bb",
   "metadata": {
    "id": "FuqusZwTyct8"
   },
   "outputs": [],
   "source": [
    "max_features = 20000\n",
    "tokenizer = Tokenizer(num_words=max_features)\n",
    "tokenizer.fit_on_texts(list(list_sentences_train))\n",
    "list_tokenized_train = tokenizer.texts_to_sequences(list_sentences_train)\n",
    "list_tokenized_test = tokenizer.texts_to_sequences(list_sentences_test)"
   ]
  },
  {
   "cell_type": "code",
   "execution_count": null,
   "id": "144a732b",
   "metadata": {
    "colab": {
     "base_uri": "https://localhost:8080/"
    },
    "id": "E3r2AXUByupd",
    "outputId": "03110827-2285-4a64-e722-5c3a71034a37"
   },
   "outputs": [
    {
     "data": {
      "text/plain": [
       "OrderedDict([('explanation\\r', 9),\n",
       "             ('why', 17810),\n",
       "             ('the', 496418),\n",
       "             ('edits', 9891),\n",
       "             ('made', 9672),\n",
       "             ('under', 7000),\n",
       "             ('my', 45610),\n",
       "             ('username', 1816),\n",
       "             ('hardcore', 166),\n",
       "             ('metallica', 35),\n",
       "             ('fan', 1020),\n",
       "             ('were', 15417),\n",
       "             ('reverted', 3893),\n",
       "             ('they', 27309),\n",
       "             (\"weren't\", 424),\n",
       "             ('vandalisms', 38),\n",
       "             ('just', 27804),\n",
       "             ('closure', 87),\n",
       "             ('on', 89904),\n",
       "             ('some', 22581),\n",
       "             ('gas', 331),\n",
       "             ('after', 8487),\n",
       "             ('i', 204349),\n",
       "             ('voted', 302),\n",
       "             ('at', 39508),\n",
       "             ('new', 10659),\n",
       "             ('york', 896),\n",
       "             ('dolls', 23),\n",
       "             ('fac', 313),\n",
       "             ('and', 224021),\n",
       "             ('please', 29742),\n",
       "             (\"don't\", 22913),\n",
       "             ('remove', 5134),\n",
       "             ('template', 3545),\n",
       "             ('from', 41489),\n",
       "             ('talk', 36392),\n",
       "             ('page', 45185),\n",
       "             ('since', 8681),\n",
       "             (\"i'm\", 17874),\n",
       "             ('retired', 239),\n",
       "             ('now', 14701),\n",
       "             ('89', 281),\n",
       "             ('205', 161),\n",
       "             ('38', 421),\n",
       "             ('27', 1166),\n",
       "             (\"d'aww\", 1),\n",
       "             ('he', 26799),\n",
       "             ('matches', 348),\n",
       "             ('this', 97516),\n",
       "             ('background', 2226),\n",
       "             ('colour', 210),\n",
       "             ('seemingly', 164),\n",
       "             ('stuck', 339),\n",
       "             ('with', 59587),\n",
       "             ('thanks', 13738),\n",
       "             ('21', 1488),\n",
       "             ('51', 341),\n",
       "             ('january', 1166),\n",
       "             ('11', 2084),\n",
       "             ('2016', 63),\n",
       "             ('utc', 6829),\n",
       "             ('hey', 3129),\n",
       "             ('man', 2912),\n",
       "             ('really', 9208),\n",
       "             ('not', 93697),\n",
       "             ('trying', 4985),\n",
       "             ('to', 297354),\n",
       "             ('edit', 18197),\n",
       "             ('war', 4008),\n",
       "             (\"it's\", 17542),\n",
       "             ('that', 154425),\n",
       "             ('guy', 1974),\n",
       "             ('is', 176403),\n",
       "             ('constantly', 423),\n",
       "             ('removing', 2545),\n",
       "             ('relevant', 2491),\n",
       "             ('information', 12102),\n",
       "             ('talking', 2028),\n",
       "             ('me', 36946),\n",
       "             ('through', 3927),\n",
       "             ('instead', 3612),\n",
       "             ('of', 224973),\n",
       "             ('seems', 6067),\n",
       "             ('care', 2964),\n",
       "             ('more', 23406),\n",
       "             ('about', 37184),\n",
       "             ('formatting', 394),\n",
       "             ('than', 13927),\n",
       "             ('actual', 1651),\n",
       "             ('info', 2664),\n",
       "             ('\\r', 350271),\n",
       "             ('more\\r', 37),\n",
       "             (\"can't\", 5381),\n",
       "             ('make', 12988),\n",
       "             ('any', 25113),\n",
       "             ('real', 3897),\n",
       "             ('suggestions', 759),\n",
       "             ('improvement', 460),\n",
       "             ('wondered', 108),\n",
       "             ('if', 58587),\n",
       "             ('section', 10062),\n",
       "             ('statistics', 366),\n",
       "             ('should', 23694),\n",
       "             ('be', 83441),\n",
       "             ('later', 2432),\n",
       "             ('or', 53356),\n",
       "             ('a', 215678),\n",
       "             ('subsection', 179),\n",
       "             ('types', 832),\n",
       "             ('accidents', 49),\n",
       "             ('think', 20060),\n",
       "             ('references', 4410),\n",
       "             ('may', 15604),\n",
       "             ('need', 10178),\n",
       "             ('tidying', 28),\n",
       "             ('so', 36571),\n",
       "             ('are', 72002),\n",
       "             ('all', 31544),\n",
       "             ('in', 145514),\n",
       "             ('exact', 749),\n",
       "             ('same', 8989),\n",
       "             ('format', 878),\n",
       "             ('ie', 460),\n",
       "             ('date', 3022),\n",
       "             ('etc', 3999),\n",
       "             ('can', 34065),\n",
       "             ('do', 40039),\n",
       "             ('no', 29260),\n",
       "             ('one', 28774),\n",
       "             ('else', 4071),\n",
       "             ('does', 11998),\n",
       "             ('first', 10962),\n",
       "             ('you', 205818),\n",
       "             ('have', 72205),\n",
       "             ('preferences', 169),\n",
       "             ('for', 102921),\n",
       "             ('style', 3761),\n",
       "             ('want', 11604),\n",
       "             ('it', 130221),\n",
       "             ('yourself', 6061),\n",
       "             ('let', 4701),\n",
       "             ('know', 19093),\n",
       "             ('there', 31941),\n",
       "             ('appears', 2274),\n",
       "             ('backlog', 109),\n",
       "             ('articles', 16446),\n",
       "             ('review', 3360),\n",
       "             ('guess', 1922),\n",
       "             ('delay', 497),\n",
       "             ('until', 3472),\n",
       "             ('reviewer', 283),\n",
       "             ('turns', 262),\n",
       "             ('up', 17662),\n",
       "             ('listed', 3043),\n",
       "             ('form', 1927),\n",
       "             ('eg', 229),\n",
       "             ('wikipedia', 44677),\n",
       "             ('good', 12764),\n",
       "             ('article', 55004),\n",
       "             ('nominations', 232),\n",
       "             ('transport', 145),\n",
       "             ('sir', 620),\n",
       "             ('hero', 229),\n",
       "             ('chance', 1083),\n",
       "             ('remember', 2125),\n",
       "             ('what', 34082),\n",
       "             (\"that's\", 6091),\n",
       "             ('congratulations', 341),\n",
       "             ('as', 77392),\n",
       "             ('well', 12400),\n",
       "             ('use', 16659),\n",
       "             ('tools', 432),\n",
       "             ('\\xa0·', 30),\n",
       "             ('cocksucker', 544),\n",
       "             ('before', 8508),\n",
       "             ('piss', 238),\n",
       "             ('around', 3960),\n",
       "             ('work', 8769),\n",
       "             ('your', 63357),\n",
       "             ('vandalism', 5983),\n",
       "             ('matt', 226),\n",
       "             ('shirvington', 1),\n",
       "             ('has', 30709),\n",
       "             ('been', 24973),\n",
       "             ('again', 9938),\n",
       "             ('will', 30453),\n",
       "             ('banned', 1851),\n",
       "             ('sorry', 4704),\n",
       "             ('word', 4294),\n",
       "             (\"'nonsense'\", 6),\n",
       "             ('was', 54547),\n",
       "             ('offensive', 717),\n",
       "             ('anyway', 2550),\n",
       "             ('intending', 55),\n",
       "             ('write', 3902),\n",
       "             ('anything', 5902),\n",
       "             ('wow', 730),\n",
       "             ('would', 29236),\n",
       "             ('jump', 308),\n",
       "             ('merely', 1103),\n",
       "             ('requesting', 1094),\n",
       "             ('encyclopedic', 789),\n",
       "             ('school', 2560),\n",
       "             ('reference', 4578),\n",
       "             ('selective', 149),\n",
       "             ('breeding', 66),\n",
       "             ('but', 51072),\n",
       "             ('almost', 1829),\n",
       "             ('stub', 794),\n",
       "             ('points', 1765),\n",
       "             (\"'animal\", 1),\n",
       "             (\"breeding'\", 1),\n",
       "             ('which', 25340),\n",
       "             ('short', 1731),\n",
       "             ('messy', 72),\n",
       "             ('gives', 1050),\n",
       "             ('must', 4918),\n",
       "             ('someone', 7842),\n",
       "             ('expertise', 230),\n",
       "             ('eugenics', 28),\n",
       "             ('93', 239),\n",
       "             ('161', 162),\n",
       "             ('107', 202),\n",
       "             ('169', 147),\n",
       "             ('alignment', 39),\n",
       "             ('subject', 5183),\n",
       "             ('contrary', 572),\n",
       "             ('those', 8704),\n",
       "             ('dulithgow', 2),\n",
       "             ('fair', 4667),\n",
       "             ('rationale', 1299),\n",
       "             ('image', 10507),\n",
       "             ('wonju', 4),\n",
       "             ('jpg\\r', 686),\n",
       "             ('uploading', 806),\n",
       "             ('jpg', 2147),\n",
       "             ('notice', 3083),\n",
       "             ('specifies', 335),\n",
       "             ('being', 14470),\n",
       "             ('used', 9208),\n",
       "             ('explanation', 1762),\n",
       "             ('its', 11475),\n",
       "             ('constitutes', 391),\n",
       "             ('addition', 1509),\n",
       "             ('boilerplate', 72),\n",
       "             ('also', 20591),\n",
       "             ('out', 17253),\n",
       "             ('description', 1760),\n",
       "             ('specific', 2508),\n",
       "             ('using', 6075),\n",
       "             ('each', 3042),\n",
       "             ('consistent', 535),\n",
       "             ('go', 10318),\n",
       "             ('include', 2839),\n",
       "             ('uploaded', 1770),\n",
       "             ('other', 22319),\n",
       "             ('media', 3547),\n",
       "             ('consider', 3414),\n",
       "             ('checking', 820),\n",
       "             ('specified', 515),\n",
       "             ('pages', 10029),\n",
       "             ('too', 7772),\n",
       "             ('find', 8993),\n",
       "             ('list', 7589),\n",
       "             (\"'image'\", 420),\n",
       "             ('edited', 2162),\n",
       "             ('by', 41412),\n",
       "             ('clicking', 698),\n",
       "             ('contributions', 3984),\n",
       "             ('link', 7567),\n",
       "             ('located', 603),\n",
       "             ('very', 12280),\n",
       "             ('top', 4141),\n",
       "             ('when', 16596),\n",
       "             ('logged', 667),\n",
       "             ('then', 16184),\n",
       "             ('selecting', 291),\n",
       "             ('dropdown', 251),\n",
       "             ('box', 1250),\n",
       "             ('note', 6466),\n",
       "             ('images', 3712),\n",
       "             ('4', 3478),\n",
       "             ('2006', 2105),\n",
       "             ('lacking', 372),\n",
       "             ('such', 11409),\n",
       "             ('an', 44863),\n",
       "             ('deleted', 9091),\n",
       "             ('week', 1683),\n",
       "             ('described', 1231),\n",
       "             ('criteria', 3359),\n",
       "             ('speedy', 4856),\n",
       "             ('deletion', 11443),\n",
       "             ('questions', 5129),\n",
       "             ('ask', 6036),\n",
       "             ('them', 14850),\n",
       "             ('copyright', 5059),\n",
       "             ('thank', 9893),\n",
       "             ('•', 5035),\n",
       "             ('contribs', 2529),\n",
       "             ('unspecified', 97),\n",
       "             ('source', 10347),\n",
       "             ('noticed', 1953),\n",
       "             (\"file's\", 115),\n",
       "             ('currently', 2376),\n",
       "             (\"doesn't\", 6281),\n",
       "             ('specify', 480),\n",
       "             ('who', 21894),\n",
       "             ('created', 4159),\n",
       "             ('content', 7158),\n",
       "             ('status', 1827),\n",
       "             ('unclear', 450),\n",
       "             ('did', 14927),\n",
       "             ('create', 2838),\n",
       "             ('file', 2426),\n",
       "             ('owner', 420),\n",
       "             ('obtained', 242),\n",
       "             ('website', 3266),\n",
       "             ('taken', 2339),\n",
       "             ('together', 1517),\n",
       "             ('restatement', 92),\n",
       "             (\"website's\", 200),\n",
       "             ('terms', 1772),\n",
       "             ('usually', 1402),\n",
       "             ('sufficient', 593),\n",
       "             ('however', 6425),\n",
       "             ('holder', 478),\n",
       "             ('different', 4634),\n",
       "             ('publisher', 326),\n",
       "             ('their', 14297),\n",
       "             ('acknowledged', 261),\n",
       "             ('adding', 4200),\n",
       "             ('add', 8403),\n",
       "             ('proper', 1529),\n",
       "             ('licensing', 271),\n",
       "             ('tag', 5043),\n",
       "             ('already', 5357),\n",
       "             ('took', 1971),\n",
       "             ('picture', 2489),\n",
       "             ('audio', 279),\n",
       "             ('video', 1446),\n",
       "             ('release', 1207),\n",
       "             ('gfdl', 455),\n",
       "             ('believe', 5859),\n",
       "             ('meets', 893),\n",
       "             ('tags', 1711),\n",
       "             ('see', 21532),\n",
       "             ('full', 2463),\n",
       "             ('files', 782),\n",
       "             ('tagged', 1375),\n",
       "             ('following', 3076),\n",
       "             ('unsourced', 911),\n",
       "             ('untagged', 171),\n",
       "             ('copyrighted', 692),\n",
       "             ('non', 4455),\n",
       "             ('free', 6404),\n",
       "             ('license', 1059),\n",
       "             ('per', 2496),\n",
       "             ('48', 577),\n",
       "             ('hours', 1552),\n",
       "             ('bbq', 12),\n",
       "             ('lets', 446),\n",
       "             ('discuss', 2385),\n",
       "             ('maybe', 3660),\n",
       "             ('over', 8125),\n",
       "             ('phone', 313),\n",
       "             ('exclusive', 174),\n",
       "             ('group', 3093),\n",
       "             ('wp', 10881),\n",
       "             ('talibans', 6),\n",
       "             ('destroying', 127),\n",
       "             ('self', 2256),\n",
       "             ('appointed', 184),\n",
       "             ('purist', 3),\n",
       "             ('gang', 216),\n",
       "             ('asks', 126),\n",
       "             ('abt', 20),\n",
       "             ('anti', 2237),\n",
       "             ('social', 950),\n",
       "             ('destructive', 124),\n",
       "             ('contribution', 895),\n",
       "             ('sityush', 3),\n",
       "             ('clean', 723),\n",
       "             ('his', 20441),\n",
       "             ('behavior', 1292),\n",
       "             ('issue', 4788),\n",
       "             ('nonsensical', 90),\n",
       "             ('warnings', 901),\n",
       "             ('start', 2919),\n",
       "             ('throwing', 197),\n",
       "             ('accusations', 841),\n",
       "             ('itself', 2248),\n",
       "             ('making', 4621),\n",
       "             ('ad', 719),\n",
       "             ('hominem', 185),\n",
       "             ('attacks', 2353),\n",
       "             (\"isn't\", 4249),\n",
       "             ('going', 7406),\n",
       "             ('strengthen', 31),\n",
       "             ('argument', 1998),\n",
       "             ('look', 8237),\n",
       "             ('like', 27971),\n",
       "             ('abusing', 404),\n",
       "             ('power', 2042),\n",
       "             ('admin', 3853),\n",
       "             ('probably', 4231),\n",
       "             ('single', 2301),\n",
       "             ('most', 9119),\n",
       "             ('talked', 256),\n",
       "             ('event', 1009),\n",
       "             ('int', 66),\n",
       "             ('news', 2529),\n",
       "             ('late', 822),\n",
       "             ('absence', 199),\n",
       "             ('notable', 4036),\n",
       "             ('only', 17551),\n",
       "             ('living', 1446),\n",
       "             ('ex', 267),\n",
       "             ('president', 866),\n",
       "             ('attend', 149),\n",
       "             ('certainly', 2264),\n",
       "             ('dedicating', 6),\n",
       "             ('aircracft', 1),\n",
       "             ('carrier', 60),\n",
       "             ('intend', 371),\n",
       "             ('revert', 3652),\n",
       "             ('hopes', 126),\n",
       "             ('attracting', 24),\n",
       "             ('attention', 1598),\n",
       "             ('willing', 895),\n",
       "             ('throw', 348),\n",
       "             ('quite', 3492),\n",
       "             ('liberally', 26),\n",
       "             ('perhaps', 3492),\n",
       "             ('achieve', 265),\n",
       "             ('level', 1478),\n",
       "             ('civility', 502),\n",
       "             ('where', 9834),\n",
       "             ('we', 23233),\n",
       "             ('rational', 208),\n",
       "             ('discussion', 9031),\n",
       "             ('topic', 2918),\n",
       "             ('resolve', 468),\n",
       "             ('matter', 3875),\n",
       "             ('peacefully', 24),\n",
       "             ('oh', 3517),\n",
       "             ('girl', 506),\n",
       "             ('above', 4901),\n",
       "             ('started', 2549),\n",
       "             ('her', 6611),\n",
       "             ('arguments', 1161),\n",
       "             ('she', 5750),\n",
       "             ('nose', 182),\n",
       "             ('belong', 798),\n",
       "             ('between', 3918),\n",
       "             ('yvesnimmo', 1),\n",
       "             ('said', 7485),\n",
       "             ('situation', 1338),\n",
       "             ('settled', 239),\n",
       "             ('apologized', 105),\n",
       "             ('juelz', 5),\n",
       "             ('santanas', 1),\n",
       "             ('age\\r', 11),\n",
       "             ('2002', 400),\n",
       "             ('santana', 11),\n",
       "             ('18', 1536),\n",
       "             ('years', 4669),\n",
       "             ('old', 3707),\n",
       "             ('came', 2105),\n",
       "             ('february', 959),\n",
       "             ('18th', 109),\n",
       "             ('makes', 3233),\n",
       "             ('turn', 763),\n",
       "             ('19', 1490),\n",
       "             ('songs', 503),\n",
       "             ('diplomats', 7),\n",
       "             ('third', 1555),\n",
       "             ('neff', 6),\n",
       "             ('signed', 497),\n",
       "             (\"cam's\", 1),\n",
       "             ('label', 500),\n",
       "             ('roc', 75),\n",
       "             ('fella', 19),\n",
       "             ('2003', 600),\n",
       "             ('20', 2245),\n",
       "             ('coming', 1150),\n",
       "             ('own', 7552),\n",
       "             ('singles', 212),\n",
       "             (\"santana's\", 3),\n",
       "             ('town', 642),\n",
       "             ('down', 3861),\n",
       "             ('yes', 3972),\n",
       "             ('born', 1237),\n",
       "             ('1983', 100),\n",
       "             ('how', 18753),\n",
       "             ('could', 11926),\n",
       "             ('older', 420),\n",
       "             ('lloyd', 58),\n",
       "             ('banks', 108),\n",
       "             ('22', 1441),\n",
       "             ('birthday', 187),\n",
       "             ('passed', 451),\n",
       "             ('homie', 22),\n",
       "             ('23', 1473),\n",
       "             ('death', 1520),\n",
       "             ('god', 2205),\n",
       "             ('forbid', 53),\n",
       "             ('thinking', 1145),\n",
       "             ('equals', 83),\n",
       "             ('caculator', 1),\n",
       "             ('stop', 7252),\n",
       "             ('changing', 1286),\n",
       "             ('year', 3170),\n",
       "             ('birth', 583),\n",
       "             ('bye', 440),\n",
       "             ('come', 4588),\n",
       "             ('comming', 21),\n",
       "             ('back', 7876),\n",
       "             ('tosser', 25),\n",
       "             ('redirect', 2641),\n",
       "             ('voydan', 1),\n",
       "             ('pop', 503),\n",
       "             ('georgiev', 3),\n",
       "             ('chernodrinski', 2),\n",
       "             ('mitsurugi', 1),\n",
       "             ('point', 8595),\n",
       "             ('sense', 2733),\n",
       "             ('argue', 847),\n",
       "             ('hindi', 164),\n",
       "             ('ryo', 3),\n",
       "             (\"sakazaki's\", 1),\n",
       "             ('mean', 4485),\n",
       "             ('bother', 722),\n",
       "             (\"you're\", 7243),\n",
       "             ('writing', 2369),\n",
       "             ('something', 7422),\n",
       "             ('regarding', 2975),\n",
       "             ('posted', 2043),\n",
       "             ('here', 21494),\n",
       "             ('acctually', 4),\n",
       "             ('even', 13439),\n",
       "             ('better', 6092),\n",
       "             (\"i'd\", 3448),\n",
       "             ('take', 8009),\n",
       "             ('closer', 305),\n",
       "             ('premature', 72),\n",
       "             ('wrestling', 255),\n",
       "             ('deaths', 203),\n",
       "             ('catagory', 11),\n",
       "             ('men', 974),\n",
       "             ('surely', 682),\n",
       "             ('these', 11009),\n",
       "             ('besides', 698),\n",
       "             ('delting', 2),\n",
       "             ('recent', 2452),\n",
       "             ('once', 3388),\n",
       "             ('read', 8290),\n",
       "             ('filmplot', 5),\n",
       "             ('editing', 10286),\n",
       "             ('film', 1811),\n",
       "             ('simply', 4175),\n",
       "             ('entirely', 1106),\n",
       "             ('many', 9567),\n",
       "             ('unnecessary', 483),\n",
       "             ('details', 1368),\n",
       "             ('bad', 3749),\n",
       "             ('further', 3508),\n",
       "             ('damage', 435),\n",
       "             (\"''''''the\", 22),\n",
       "             (\"'45\", 25),\n",
       "             ('yeah', 1399),\n",
       "             ('studying', 151),\n",
       "             ('deepu', 5),\n",
       "             ('snowflakes', 2),\n",
       "             ('always', 3535),\n",
       "             ('symmetrical', 11),\n",
       "             ('geometry', 72),\n",
       "             ('stated', 1823),\n",
       "             ('snowflake', 5),\n",
       "             ('six', 661),\n",
       "             ('symmetric', 13),\n",
       "             ('arms', 377),\n",
       "             ('assertion', 429),\n",
       "             ('true', 3513),\n",
       "             ('according', 2205),\n",
       "             ('kenneth', 58),\n",
       "             ('libbrecht', 1),\n",
       "             ('rather', 4701),\n",
       "             ('unattractive', 8),\n",
       "             ('irregular', 25),\n",
       "             ('crystals', 5),\n",
       "             ('far', 4035),\n",
       "             ('common', 2215),\n",
       "             ('variety', 290),\n",
       "             ('http', 6949),\n",
       "             ('www', 3927),\n",
       "             ('caltech', 8),\n",
       "             ('edu', 230),\n",
       "             ('atomic', 69),\n",
       "             ('snowcrystals', 1),\n",
       "             ('myths', 123),\n",
       "             ('htm', 288),\n",
       "             ('perfection', 41),\n",
       "             ('site', 4175),\n",
       "             ('get', 13384),\n",
       "             ('facts', 2984),\n",
       "             ('off', 5955),\n",
       "             ('because', 19156),\n",
       "             ('still', 7935),\n",
       "             ('decent', 310),\n",
       "             ('number', 3570),\n",
       "             ('falsities', 3),\n",
       "             ('forgive', 241),\n",
       "             ('im', 1490),\n",
       "             ('dont', 2832),\n",
       "             ('signpost', 210),\n",
       "             ('24', 2160),\n",
       "             ('september', 1006),\n",
       "             ('2012', 1124),\n",
       "             ('full\\r', 14),\n",
       "             ('page\\r', 1083),\n",
       "             ('unsubscribe\\r', 12),\n",
       "             ('re', 3823),\n",
       "             ('considering', 857),\n",
       "             ('1st', 381),\n",
       "             ('paragraph', 1986),\n",
       "             ('understand', 4912),\n",
       "             ('reasons', 1931),\n",
       "             (\"'s\", 380),\n",
       "             ('sure', 6382),\n",
       "             ('data', 1313),\n",
       "             ('necessarily', 502),\n",
       "             ('wrong', 5199),\n",
       "             ('persuaded', 34),\n",
       "             ('strategy', 172),\n",
       "             ('introducing', 174),\n",
       "             ('academic', 843),\n",
       "             ('honors', 41),\n",
       "             ('unhelpful', 145),\n",
       "             ('approach', 715),\n",
       "             ('sitting', 215),\n",
       "             ('justices', 16),\n",
       "             ('similarly', 278),\n",
       "             ('enhanced', 39),\n",
       "             ('changes', 3154),\n",
       "             ('support', 3712),\n",
       "             ('view', 3943),\n",
       "             ('invite', 293),\n",
       "             ('anyone', 4854),\n",
       "             ('visit', 571),\n",
       "             ('written', 3530),\n",
       "             ('pairs', 37),\n",
       "             ('jurists', 9),\n",
       "             ('a1', 120),\n",
       "             ('benjamin', 65),\n",
       "             ('cardozo\\r', 2),\n",
       "             ('a2', 40),\n",
       "             ('learned', 436),\n",
       "             ('hand\\r', 20),\n",
       "             ('b1', 24),\n",
       "             ('john', 1571),\n",
       "             ('marshall', 56),\n",
       "             ('harlan\\r', 2),\n",
       "             ('b2', 27),\n",
       "             ('harlan', 12),\n",
       "             ('ii\\r', 20),\n",
       "             ('question', 5816),\n",
       "             ('becomes', 439),\n",
       "             ('current', 3105),\n",
       "             ('version', 3367),\n",
       "             ('either', 4112),\n",
       "             ('pair', 134),\n",
       "             ('improved', 466),\n",
       "             ('credentials', 137),\n",
       "             ('introductory', 92),\n",
       "             ('helps', 567),\n",
       "             ('repeat', 612),\n",
       "             ('wry', 5),\n",
       "             ('kathleen', 14),\n",
       "             ('sullivan', 21),\n",
       "             ('stanford', 60),\n",
       "             ('law', 1855),\n",
       "             ('suggests', 444),\n",
       "             ('harvard', 151),\n",
       "             ('faculty', 81),\n",
       "             ('wonder', 921),\n",
       "             ('antonin', 6),\n",
       "             ('scalia', 7),\n",
       "             ('avoided', 214),\n",
       "             ('learning', 473),\n",
       "             ('others', 4745),\n",
       "             ('managed', 296),\n",
       "             ('grasp', 153),\n",
       "             ('processes', 176),\n",
       "             ('judging', 179),\n",
       "             ('hope', 5574),\n",
       "             ('anecdote', 31),\n",
       "             ('gently', 23),\n",
       "             ('illustrates', 129),\n",
       "             ('less', 2811),\n",
       "             ('humorous', 61),\n",
       "             ('stronger', 142),\n",
       "             ('clarence', 17),\n",
       "             ('thomas', 399),\n",
       "             ('mentions', 599),\n",
       "             ('wanting', 258),\n",
       "             ('return', 741),\n",
       "             ('degree', 572),\n",
       "             ('yale', 65),\n",
       "             ('minimum', 274),\n",
       "             ('questioning', 175),\n",
       "             ('deserves', 422),\n",
       "             ('reconsidered', 11),\n",
       "             ('radial', 37),\n",
       "             ('symmetry', 20),\n",
       "             ('several', 3236),\n",
       "             ('extinct', 65),\n",
       "             ('lineages', 25),\n",
       "             ('included', 2541),\n",
       "             ('echinodermata', 1),\n",
       "             ('bilateral', 8),\n",
       "             ('homostelea', 1),\n",
       "             ('asymmetrical', 9),\n",
       "             ('cothurnocystis', 1),\n",
       "             ('stylophora', 1),\n",
       "             (\"there's\", 3166),\n",
       "             ('apologize', 663),\n",
       "             ('reconciling', 4),\n",
       "             ('knowledge', 1830),\n",
       "             ('sources', 11136),\n",
       "             (\"you've\", 2392),\n",
       "             ('done', 6271),\n",
       "             ('history', 6857),\n",
       "             ('studies', 666),\n",
       "             ('archaeology', 59),\n",
       "             ('scan', 133),\n",
       "             ('e', 4052),\n",
       "             ('mail', 803),\n",
       "             ('translate', 270),\n",
       "             ('mother', 1028),\n",
       "             ('child', 767),\n",
       "             ('case', 6268),\n",
       "             ('against', 5493),\n",
       "             ('michael', 675),\n",
       "             ('jackson', 240),\n",
       "             ('studied', 185),\n",
       "             ('motives', 208),\n",
       "             ('reasonings', 7),\n",
       "             ('judged', 98),\n",
       "             ('upon', 1410),\n",
       "             ('character', 1180),\n",
       "             ('harshly', 18),\n",
       "             ('wacko', 17),\n",
       "             ('jacko', 8),\n",
       "             ('himself', 1482),\n",
       "             ('tell', 3669),\n",
       "             ('ignore', 918),\n",
       "             ('incriminate', 3),\n",
       "             ('myself', 2643),\n",
       "             ('am', 18232),\n",
       "             ('continue', 4443),\n",
       "             ('refuting', 33),\n",
       "             ('bullshit', 867),\n",
       "             ('jayjg', 85),\n",
       "             ('keeps', 603),\n",
       "             ('01', 758),\n",
       "             ('16', 1625),\n",
       "             ('jun', 522),\n",
       "             ('2005', 2593),\n",
       "             ('ok', 2753),\n",
       "             ('bit', 3462),\n",
       "             ('example', 3996),\n",
       "             ('base', 449),\n",
       "             ('duck', 150),\n",
       "             ('barnstar', 989),\n",
       "             ('life', 4094),\n",
       "             ('us', 6237),\n",
       "             ('stars\\r', 4),\n",
       "             ('post', 4100),\n",
       "             ('block', 6998),\n",
       "             ('expires', 151),\n",
       "             ('funny', 848),\n",
       "             ('thing', 5315),\n",
       "             ('uncivil', 435),\n",
       "             ('heading', 430),\n",
       "             (\"'fight\", 2),\n",
       "             (\"freedom'\", 1),\n",
       "             ('contain', 619),\n",
       "             ('praise', 132),\n",
       "             ('looked', 1081),\n",
       "             ('6', 2282),\n",
       "             ('months', 1410),\n",
       "             ('ago', 2026),\n",
       "             ('much', 9467),\n",
       "             ('able', 2352),\n",
       "             ('quickly', 629),\n",
       "             ('had', 12509),\n",
       "             ('text', 4510),\n",
       "             ('hard', 2194),\n",
       "             ('drive', 462),\n",
       "             (\"i've\", 8681),\n",
       "             ('meaning', 1454),\n",
       "             ('updating', 238),\n",
       "             ('sound', 1046),\n",
       "             ('time', 15755),\n",
       "             ('generating', 44),\n",
       "             ('interest', 2437),\n",
       "             ('spent', 529),\n",
       "             ('four', 2609),\n",
       "             ('drum', 54),\n",
       "             ('freely', 397),\n",
       "             ('licensed', 399),\n",
       "             ('length', 542),\n",
       "             ('classical', 273),\n",
       "             ('music', 1819),\n",
       "             ('unfortunately', 1076),\n",
       "             ('attempts', 584),\n",
       "             ('failed', 774),\n",
       "             ('effectively', 220),\n",
       "             ('wikiproject', 1823),\n",
       "             ('interested', 2362),\n",
       "             ('archive', 1202),\n",
       "             ('5', 3501),\n",
       "             ('help', 10581),\n",
       "             ('21wikipedia', 1),\n",
       "             ('3', 5167),\n",
       "             ('helpwikipedia', 1),\n",
       "             ('2', 7146),\n",
       "             ('raulbot', 1),\n",
       "             ('2c', 116),\n",
       "             ('given', 3814),\n",
       "             ('featured', 1108),\n",
       "             ('digg', 27),\n",
       "             ('while', 5988),\n",
       "             ('com', 5056),\n",
       "             ('downloads', 31),\n",
       "             ('got', 4257),\n",
       "             ('1600', 19),\n",
       "             ('diggs', 5),\n",
       "             ('imo', 320),\n",
       "             ('impressive', 119),\n",
       "             ('process', 2153),\n",
       "             ('things', 5779),\n",
       "             ('subpages', 75),\n",
       "             ('rfa', 750),\n",
       "             (\"noseptember's\", 2),\n",
       "             ('2004', 1655),\n",
       "             ('differences', 450),\n",
       "             ('el', 383),\n",
       "             ('c', 3167),\n",
       "             ('surprised', 576),\n",
       "             ('left', 3080),\n",
       "             ('t', 2497),\n",
       "             ('straw', 174),\n",
       "             ('never', 6298),\n",
       "             ('claimed', 825),\n",
       "             (\"o'donohue\", 2),\n",
       "             ('position', 2303),\n",
       "             ('practitioners', 68),\n",
       "             ('researchers', 187),\n",
       "             ('field', 1219),\n",
       "             ('ignored', 544),\n",
       "             ('dsm', 31),\n",
       "             ('exactly', 1994),\n",
       "             ('quote', 2050),\n",
       "             ('says', 4276),\n",
       "             ('agrees', 217),\n",
       "             ('combating', 12),\n",
       "             ('notion', 232),\n",
       "             ('absurd', 320),\n",
       "             ('part', 5654),\n",
       "             ('claim', 3405),\n",
       "             ('pedophilia', 53),\n",
       "             ('sexual', 748),\n",
       "             ('orientation', 114),\n",
       "             ('hold', 847),\n",
       "             ('unfair', 355),\n",
       "             ('call', 2768),\n",
       "             ('disorder', 154),\n",
       "             ('divided', 154),\n",
       "             ('end', 2825),\n",
       "             ('day', 4155),\n",
       "             ('value', 889),\n",
       "             ('judgment', 234),\n",
       "             ('cantor', 21),\n",
       "             ('pointed', 685),\n",
       "             ('earlier', 1201),\n",
       "             ('thread', 602),\n",
       "             ('scientific', 1163),\n",
       "             ('judgement', 305),\n",
       "             ('choose', 738),\n",
       "             ('clearly', 3738),\n",
       "             ('pretend', 251),\n",
       "             ('basis', 964),\n",
       "             ('mainland', 71),\n",
       "             ('asia', 380),\n",
       "             ('includes', 745),\n",
       "             ('lower', 505),\n",
       "             ('basin', 38),\n",
       "             (\"china's\", 14),\n",
       "             ('yangtze', 4),\n",
       "             ('river', 416),\n",
       "             ('korea', 312),\n",
       "             ('fine', 1800),\n",
       "             ('found', 4418),\n",
       "             ('citation', 1719),\n",
       "             ('comprehensive', 241),\n",
       "             ('dna', 192),\n",
       "             ('study', 964),\n",
       "             ('hammer', 96),\n",
       "             ('below', 2276),\n",
       "             ('our', 6925),\n",
       "             ('generarizations', 1),\n",
       "             ('speculation', 379),\n",
       "             ('yayoi', 4),\n",
       "             ('culture', 1266),\n",
       "             ('brought', 843),\n",
       "             ('japan', 575),\n",
       "             ('migrants', 10),\n",
       "             ('trace', 140),\n",
       "             ('roots', 184),\n",
       "             ('southeast', 72),\n",
       "             ('south', 1372),\n",
       "             ('china', 966),\n",
       "             ('hammer\\r', 1),\n",
       "             ('describes', 328),\n",
       "             ('migration', 69),\n",
       "             ('based', 3384),\n",
       "             ('o', 1112),\n",
       "             ('sry', 12),\n",
       "             ('465', 11),\n",
       "             ('genes', 71),\n",
       "             ('close', 1285),\n",
       "             ('lineage', 76),\n",
       "             ('haplogroups', 9),\n",
       "             ('m122', 1),\n",
       "             ('m95', 1),\n",
       "             ('reiterates', 7),\n",
       "             ('entire', 1756),\n",
       "             ('haplogroup', 24),\n",
       "             ('proposed', 1626),\n",
       "             ('asian', 414),\n",
       "             ('origin', 723),\n",
       "             ('definition', 1722),\n",
       "             ('southern', 413),\n",
       "             ('hypothesizes', 1),\n",
       "             ('dispersals', 3),\n",
       "             ('neolithic', 22),\n",
       "             ('farmers', 37),\n",
       "             ('eventually', 572),\n",
       "             ('concluding', 29),\n",
       "             ('states', 3462),\n",
       "             ('propose', 546),\n",
       "             ('y', 637),\n",
       "             ('chromosomes', 19),\n",
       "             ('descend', 27),\n",
       "             ('prehistoric', 39),\n",
       "             ('origins', 334),\n",
       "             ('southeastern', 17),\n",
       "             ('agriculture', 52),\n",
       "             ('region', 734),\n",
       "             (\"hammer's\", 3),\n",
       "             ('global', 647),\n",
       "             ('sample', 145),\n",
       "             ('consisted', 58),\n",
       "             ('500', 366),\n",
       "             ('males', 100),\n",
       "             ('39', 404),\n",
       "             ('populations', 137),\n",
       "             ('including', 2704),\n",
       "             ('sampled', 13),\n",
       "             ('across', 1043),\n",
       "             ('japanese', 808),\n",
       "             ('archipelago', 10),\n",
       "             ('pretty', 2191),\n",
       "             ('everyone', 2238),\n",
       "             ('warren', 106),\n",
       "             ('county', 731),\n",
       "             ('surrounding', 187),\n",
       "             ('regions', 249),\n",
       "             ('glens', 3),\n",
       "             ('falls', 241),\n",
       "             ('hospital', 178),\n",
       "             ('qualifies', 191),\n",
       "             ('native', 603),\n",
       "             ('rachel', 68),\n",
       "             ('ray', 183),\n",
       "             ('actually', 6038),\n",
       "             ('lake', 244),\n",
       "             ('luzerne', 1),\n",
       "             ('—the', 99),\n",
       "             ('preceding', 432),\n",
       "             ('unsigned', 1102),\n",
       "             ('comment', 6115),\n",
       "             ('added', 6873),\n",
       "             ('70', 596),\n",
       "             ('100', 2108),\n",
       "             ('229', 176),\n",
       "             ('154', 137),\n",
       "             ('04', 580),\n",
       "             ('28', 910),\n",
       "             ...])"
      ]
     },
     "execution_count": 9,
     "metadata": {
      "tags": []
     },
     "output_type": "execute_result"
    }
   ],
   "source": [
    "tokenizer.word_counts"
   ]
  },
  {
   "cell_type": "code",
   "execution_count": null,
   "id": "4458cf14",
   "metadata": {
    "colab": {
     "base_uri": "https://localhost:8080/"
    },
    "id": "DPDZ6njdy1-J",
    "outputId": "df8cb7db-3293-40e5-e79b-555514e44b44"
   },
   "outputs": [
    {
     "data": {
      "text/plain": [
       "{'the': 1,\n",
       " '\\r': 2,\n",
       " 'to': 3,\n",
       " 'of': 4,\n",
       " 'and': 5,\n",
       " 'a': 6,\n",
       " 'you': 7,\n",
       " 'i': 8,\n",
       " 'is': 9,\n",
       " 'that': 10,\n",
       " 'in': 11,\n",
       " 'it': 12,\n",
       " 'for': 13,\n",
       " 'this': 14,\n",
       " 'not': 15,\n",
       " 'on': 16,\n",
       " 'be': 17,\n",
       " 'as': 18,\n",
       " 'have': 19,\n",
       " 'are': 20,\n",
       " 'your': 21,\n",
       " 'with': 22,\n",
       " 'if': 23,\n",
       " 'article': 24,\n",
       " 'was': 25,\n",
       " 'or': 26,\n",
       " 'but': 27,\n",
       " 'my': 28,\n",
       " 'page': 29,\n",
       " 'an': 30,\n",
       " 'wikipedia': 31,\n",
       " 'from': 32,\n",
       " 'by': 33,\n",
       " 'do': 34,\n",
       " 'at': 35,\n",
       " 'about': 36,\n",
       " 'me': 37,\n",
       " 'so': 38,\n",
       " 'talk': 39,\n",
       " 'what': 40,\n",
       " 'can': 41,\n",
       " 'there': 42,\n",
       " 'all': 43,\n",
       " 'has': 44,\n",
       " 'will': 45,\n",
       " 'please': 46,\n",
       " 'no': 47,\n",
       " 'would': 48,\n",
       " 'one': 49,\n",
       " 'like': 50,\n",
       " 'just': 51,\n",
       " 'they': 52,\n",
       " 'he': 53,\n",
       " 'which': 54,\n",
       " 'any': 55,\n",
       " 'been': 56,\n",
       " 'should': 57,\n",
       " 'more': 58,\n",
       " 'we': 59,\n",
       " \"don't\": 60,\n",
       " 'some': 61,\n",
       " 'other': 62,\n",
       " 'who': 63,\n",
       " 'see': 64,\n",
       " 'here': 65,\n",
       " 'also': 66,\n",
       " 'his': 67,\n",
       " 'think': 68,\n",
       " 'because': 69,\n",
       " 'know': 70,\n",
       " 'how': 71,\n",
       " 'am': 72,\n",
       " 'edit': 73,\n",
       " \"i'm\": 74,\n",
       " 'why': 75,\n",
       " 'people': 76,\n",
       " 'up': 77,\n",
       " 'only': 78,\n",
       " \"it's\": 79,\n",
       " 'out': 80,\n",
       " 'use': 81,\n",
       " 'when': 82,\n",
       " 'articles': 83,\n",
       " 'then': 84,\n",
       " 'time': 85,\n",
       " 'may': 86,\n",
       " 'were': 87,\n",
       " 'did': 88,\n",
       " 'them': 89,\n",
       " 'now': 90,\n",
       " 'being': 91,\n",
       " 'user': 92,\n",
       " 'their': 93,\n",
       " 'than': 94,\n",
       " 'thanks': 95,\n",
       " 'even': 96,\n",
       " 'get': 97,\n",
       " 'make': 98,\n",
       " 'good': 99,\n",
       " 'had': 100,\n",
       " 'well': 101,\n",
       " 'very': 102,\n",
       " 'information': 103,\n",
       " 'does': 104,\n",
       " 'could': 105,\n",
       " 'want': 106,\n",
       " 'its': 107,\n",
       " 'deletion': 108,\n",
       " 'such': 109,\n",
       " 'way': 110,\n",
       " 'name': 111,\n",
       " 'sources': 112,\n",
       " 'these': 113,\n",
       " 'first': 114,\n",
       " 'wp': 115,\n",
       " 'new': 116,\n",
       " 'help': 117,\n",
       " 'image': 118,\n",
       " 'source': 119,\n",
       " 'go': 120,\n",
       " 'editing': 121,\n",
       " 'need': 122,\n",
       " 'say': 123,\n",
       " 'section': 124,\n",
       " 'pages': 125,\n",
       " 'again': 126,\n",
       " 'thank': 127,\n",
       " 'edits': 128,\n",
       " 'where': 129,\n",
       " 'made': 130,\n",
       " 'fuck': 131,\n",
       " 'many': 132,\n",
       " 'much': 133,\n",
       " 'really': 134,\n",
       " 'used': 135,\n",
       " 'most': 136,\n",
       " 'deleted': 137,\n",
       " 'discussion': 138,\n",
       " 'find': 139,\n",
       " 'same': 140,\n",
       " 'into': 141,\n",
       " 'work': 142,\n",
       " 'those': 143,\n",
       " 'since': 144,\n",
       " \"i've\": 145,\n",
       " 'point': 146,\n",
       " 'right': 147,\n",
       " 'before': 148,\n",
       " 'after': 149,\n",
       " 'add': 150,\n",
       " 'read': 151,\n",
       " 'look': 152,\n",
       " 'over': 153,\n",
       " 'him': 154,\n",
       " 'take': 155,\n",
       " 'two': 156,\n",
       " 'still': 157,\n",
       " 'back': 158,\n",
       " 'wiki': 159,\n",
       " 'someone': 160,\n",
       " 'fact': 161,\n",
       " 'too': 162,\n",
       " 'hi': 163,\n",
       " 'list': 164,\n",
       " 'link': 165,\n",
       " 'own': 166,\n",
       " 'said': 167,\n",
       " 'something': 168,\n",
       " 'going': 169,\n",
       " 'blocked': 170,\n",
       " 'stop': 171,\n",
       " \"you're\": 172,\n",
       " 'without': 173,\n",
       " 'content': 174,\n",
       " '1': 175,\n",
       " '2': 176,\n",
       " 'under': 177,\n",
       " 'block': 178,\n",
       " 'http': 179,\n",
       " 'our': 180,\n",
       " 'added': 181,\n",
       " 'history': 182,\n",
       " 'utc': 183,\n",
       " 'editors': 184,\n",
       " 'another': 185,\n",
       " 'removed': 186,\n",
       " 'her': 187,\n",
       " 'might': 188,\n",
       " 'note': 189,\n",
       " 'however': 190,\n",
       " 'free': 191,\n",
       " 'place': 192,\n",
       " 'sure': 193,\n",
       " 'welcome': 194,\n",
       " 'never': 195,\n",
       " \"doesn't\": 196,\n",
       " 'done': 197,\n",
       " 'case': 198,\n",
       " 'us': 199,\n",
       " 'put': 200,\n",
       " 'reason': 201,\n",
       " 'comment': 202,\n",
       " 'personal': 203,\n",
       " 'better': 204,\n",
       " \"that's\": 205,\n",
       " 'using': 206,\n",
       " 'seems': 207,\n",
       " 'yourself': 208,\n",
       " 'actually': 209,\n",
       " 'ask': 210,\n",
       " 'while': 211,\n",
       " 'vandalism': 212,\n",
       " 'feel': 213,\n",
       " 'off': 214,\n",
       " 'anything': 215,\n",
       " 'believe': 216,\n",
       " 'person': 217,\n",
       " 'question': 218,\n",
       " 'things': 219,\n",
       " 'both': 220,\n",
       " 'she': 221,\n",
       " 'links': 222,\n",
       " 'best': 223,\n",
       " 'part': 224,\n",
       " 'hope': 225,\n",
       " 'policy': 226,\n",
       " 'comments': 227,\n",
       " 'against': 228,\n",
       " \"can't\": 229,\n",
       " 'already': 230,\n",
       " 'keep': 231,\n",
       " 'thing': 232,\n",
       " \"didn't\": 233,\n",
       " \"i'll\": 234,\n",
       " 'u': 235,\n",
       " 'nothing': 236,\n",
       " 'change': 237,\n",
       " 'wrong': 238,\n",
       " 'though': 239,\n",
       " 'subject': 240,\n",
       " '3': 241,\n",
       " 'problem': 242,\n",
       " 'remove': 243,\n",
       " 'questions': 244,\n",
       " 'little': 245,\n",
       " 'copyright': 246,\n",
       " 'com': 247,\n",
       " 'tag': 248,\n",
       " '•': 249,\n",
       " 'trying': 250,\n",
       " 'long': 251,\n",
       " 'must': 252,\n",
       " 'understand': 253,\n",
       " 'above': 254,\n",
       " 'speedy': 255,\n",
       " 'anyone': 256,\n",
       " 'few': 257,\n",
       " 'world': 258,\n",
       " 'last': 259,\n",
       " 'issue': 260,\n",
       " 'give': 261,\n",
       " 'others': 262,\n",
       " 'editor': 263,\n",
       " 'agree': 264,\n",
       " 'reliable': 265,\n",
       " 'sorry': 266,\n",
       " 'let': 267,\n",
       " 'rather': 268,\n",
       " 'years': 269,\n",
       " 'fair': 270,\n",
       " 'different': 271,\n",
       " 'english': 272,\n",
       " 'making': 273,\n",
       " 'come': 274,\n",
       " 'reference': 275,\n",
       " 'text': 276,\n",
       " 'mean': 277,\n",
       " 'non': 278,\n",
       " 'try': 279,\n",
       " 'continue': 280,\n",
       " 'doing': 281,\n",
       " 'great': 282,\n",
       " 'found': 283,\n",
       " 'references': 284,\n",
       " 'leave': 285,\n",
       " 'word': 286,\n",
       " 'says': 287,\n",
       " 'got': 288,\n",
       " 'original': 289,\n",
       " \"isn't\": 290,\n",
       " 'state': 291,\n",
       " 'probably': 292,\n",
       " 'adding': 293,\n",
       " 'every': 294,\n",
       " 'check': 295,\n",
       " 'simply': 296,\n",
       " 'site': 297,\n",
       " 'created': 298,\n",
       " 'day': 299,\n",
       " 'top': 300,\n",
       " 'show': 301,\n",
       " 'either': 302,\n",
       " 'post': 303,\n",
       " 'life': 304,\n",
       " 'ip': 305,\n",
       " 'consensus': 306,\n",
       " 'least': 307,\n",
       " 'hello': 308,\n",
       " 'delete': 309,\n",
       " 'else': 310,\n",
       " 'e': 311,\n",
       " 'notable': 312,\n",
       " 'far': 313,\n",
       " 'enough': 314,\n",
       " 'war': 315,\n",
       " 'etc': 316,\n",
       " 'called': 317,\n",
       " 'example': 318,\n",
       " 'contributions': 319,\n",
       " 'opinion': 320,\n",
       " 'yes': 321,\n",
       " 'request': 322,\n",
       " 'around': 323,\n",
       " 'view': 324,\n",
       " 'through': 325,\n",
       " 'www': 326,\n",
       " 'between': 327,\n",
       " 'yet': 328,\n",
       " 'write': 329,\n",
       " 'real': 330,\n",
       " 'reverted': 331,\n",
       " 'matter': 332,\n",
       " 'book': 333,\n",
       " 'down': 334,\n",
       " 'admin': 335,\n",
       " 'shit': 336,\n",
       " 're': 337,\n",
       " 'given': 338,\n",
       " 'thought': 339,\n",
       " 'account': 340,\n",
       " 'material': 341,\n",
       " 'users': 342,\n",
       " 'style': 343,\n",
       " 'bad': 344,\n",
       " 'clearly': 345,\n",
       " 'having': 346,\n",
       " 'needs': 347,\n",
       " 'images': 348,\n",
       " 'support': 349,\n",
       " 'encyclopedia': 350,\n",
       " 'lot': 351,\n",
       " 'old': 352,\n",
       " 'title': 353,\n",
       " 'evidence': 354,\n",
       " 'message': 355,\n",
       " '—': 356,\n",
       " 'tell': 357,\n",
       " 'ever': 358,\n",
       " 'maybe': 359,\n",
       " 's': 360,\n",
       " 'revert': 361,\n",
       " 'seem': 362,\n",
       " 'instead': 363,\n",
       " 'language': 364,\n",
       " 'correct': 365,\n",
       " 'number': 366,\n",
       " 'clear': 367,\n",
       " 'important': 368,\n",
       " 'media': 369,\n",
       " 'template': 370,\n",
       " 'saying': 371,\n",
       " 'org': 372,\n",
       " 'always': 373,\n",
       " 'written': 374,\n",
       " 'pov': 375,\n",
       " 'oh': 376,\n",
       " 'true': 377,\n",
       " 'term': 378,\n",
       " 'further': 379,\n",
       " '5': 380,\n",
       " 'hate': 381,\n",
       " 'quite': 382,\n",
       " 'perhaps': 383,\n",
       " '4': 384,\n",
       " 'until': 385,\n",
       " 'bit': 386,\n",
       " 'states': 387,\n",
       " 'whether': 388,\n",
       " \"i'd\": 389,\n",
       " 'consider': 390,\n",
       " 'claim': 391,\n",
       " 'fucking': 392,\n",
       " 'once': 393,\n",
       " 'based': 394,\n",
       " 'guidelines': 395,\n",
       " 'version': 396,\n",
       " 'review': 397,\n",
       " 'criteria': 398,\n",
       " 'research': 399,\n",
       " 'times': 400,\n",
       " 'nigger': 401,\n",
       " 'getting': 402,\n",
       " 'suck': 403,\n",
       " 'mention': 404,\n",
       " 'website': 405,\n",
       " 'three': 406,\n",
       " 'several': 407,\n",
       " 'makes': 408,\n",
       " 'considered': 409,\n",
       " 'words': 410,\n",
       " 'year': 411,\n",
       " 'c': 412,\n",
       " \"there's\": 413,\n",
       " 'cannot': 414,\n",
       " 'idea': 415,\n",
       " 'changes': 416,\n",
       " 'ass': 417,\n",
       " 'hey': 418,\n",
       " 'address': 419,\n",
       " 'current': 420,\n",
       " 'group': 421,\n",
       " 'notice': 422,\n",
       " 'left': 423,\n",
       " 'following': 424,\n",
       " 'listed': 425,\n",
       " 'each': 426,\n",
       " 'second': 427,\n",
       " 'date': 428,\n",
       " 'means': 429,\n",
       " 'possible': 430,\n",
       " 'facts': 431,\n",
       " 'main': 432,\n",
       " 'general': 433,\n",
       " 'regarding': 434,\n",
       " 'rules': 435,\n",
       " 'care': 436,\n",
       " 'american': 437,\n",
       " 'start': 438,\n",
       " 'topic': 439,\n",
       " 'mentioned': 440,\n",
       " 'man': 441,\n",
       " 'course': 442,\n",
       " 'kind': 443,\n",
       " 'whole': 444,\n",
       " '10': 445,\n",
       " 'known': 446,\n",
       " 'statement': 447,\n",
       " 'attack': 448,\n",
       " 'seen': 449,\n",
       " 'include': 450,\n",
       " 'create': 451,\n",
       " 'dont': 452,\n",
       " 'end': 453,\n",
       " 'issues': 454,\n",
       " 'less': 455,\n",
       " 'en': 456,\n",
       " 'related': 457,\n",
       " 'call': 458,\n",
       " 'ok': 459,\n",
       " 'big': 460,\n",
       " 'sense': 461,\n",
       " 'suggest': 462,\n",
       " 'happy': 463,\n",
       " 'including': 464,\n",
       " 'category': 465,\n",
       " 'gay': 466,\n",
       " 'provide': 467,\n",
       " 'info': 468,\n",
       " 'days': 469,\n",
       " 'myself': 470,\n",
       " 'redirect': 471,\n",
       " \"wikipedia's\": 472,\n",
       " 'sentence': 473,\n",
       " 'four': 474,\n",
       " 'love': 475,\n",
       " 'move': 476,\n",
       " 'appropriate': 477,\n",
       " '2005': 478,\n",
       " 'changed': 479,\n",
       " 'explain': 480,\n",
       " 'project': 481,\n",
       " 'school': 482,\n",
       " 'neutral': 483,\n",
       " 'mind': 484,\n",
       " 'anyway': 485,\n",
       " 'started': 486,\n",
       " 'removing': 487,\n",
       " 'included': 488,\n",
       " 'next': 489,\n",
       " 'line': 490,\n",
       " 'contribs': 491,\n",
       " 'news': 492,\n",
       " 'notability': 493,\n",
       " 'looking': 494,\n",
       " 'specific': 495,\n",
       " 'although': 496,\n",
       " 't': 497,\n",
       " 'per': 498,\n",
       " 'relevant': 499,\n",
       " 'picture': 500,\n",
       " 'sign': 501,\n",
       " 'order': 502,\n",
       " 'answer': 503,\n",
       " 'away': 504,\n",
       " 'full': 505,\n",
       " 'recent': 506,\n",
       " 'summary': 507,\n",
       " 'lol': 508,\n",
       " 'interest': 509,\n",
       " 'later': 510,\n",
       " 'file': 511,\n",
       " 'warning': 512,\n",
       " \"you've\": 513,\n",
       " 'die': 514,\n",
       " 'policies': 515,\n",
       " 'discuss': 516,\n",
       " 'community': 517,\n",
       " 'claims': 518,\n",
       " 'currently': 519,\n",
       " 'faith': 520,\n",
       " 'wrote': 521,\n",
       " 'public': 522,\n",
       " 'writing': 523,\n",
       " 'especially': 524,\n",
       " 'interested': 525,\n",
       " 'attacks': 526,\n",
       " 'able': 527,\n",
       " 'wish': 528,\n",
       " 'taken': 529,\n",
       " '0': 530,\n",
       " 'position': 531,\n",
       " 'single': 532,\n",
       " 'within': 533,\n",
       " 'names': 534,\n",
       " '6': 535,\n",
       " 'during': 536,\n",
       " 'wanted': 537,\n",
       " 'below': 538,\n",
       " 'appears': 539,\n",
       " 'web': 540,\n",
       " 'stuff': 541,\n",
       " 'official': 542,\n",
       " 'certainly': 543,\n",
       " 'color': 544,\n",
       " 'nice': 545,\n",
       " 'self': 546,\n",
       " 'live': 547,\n",
       " 'itself': 548,\n",
       " '20': 549,\n",
       " 'everyone': 550,\n",
       " 'anti': 551,\n",
       " 'country': 552,\n",
       " 'background': 553,\n",
       " 'high': 554,\n",
       " 'report': 555,\n",
       " 'common': 556,\n",
       " 'lead': 557,\n",
       " 'unless': 558,\n",
       " 'god': 559,\n",
       " 'according': 560,\n",
       " 'completely': 561,\n",
       " 'hard': 562,\n",
       " 'pretty': 563,\n",
       " 'everything': 564,\n",
       " 'books': 565,\n",
       " 'published': 566,\n",
       " 'due': 567,\n",
       " 'looks': 568,\n",
       " 'edited': 569,\n",
       " '24': 570,\n",
       " 'involved': 571,\n",
       " 'process': 572,\n",
       " '7': 573,\n",
       " 'p': 574,\n",
       " 'jpg': 575,\n",
       " 'fat': 576,\n",
       " 'therefore': 577,\n",
       " \"won't\": 578,\n",
       " 'obviously': 579,\n",
       " 'remember': 580,\n",
       " 'nor': 581,\n",
       " '100': 582,\n",
       " 'future': 583,\n",
       " '2006': 584,\n",
       " 'came': 585,\n",
       " 'truth': 586,\n",
       " 'stay': 587,\n",
       " 'reading': 588,\n",
       " '11': 589,\n",
       " 'sandbox': 590,\n",
       " 'party': 591,\n",
       " 'past': 592,\n",
       " 'learn': 593,\n",
       " 'game': 594,\n",
       " 'd': 595,\n",
       " 'asked': 596,\n",
       " 'response': 597,\n",
       " \"wasn't\": 598,\n",
       " 'admins': 599,\n",
       " 'quote': 600,\n",
       " 'b': 601,\n",
       " 'entry': 602,\n",
       " \"he's\": 603,\n",
       " 'stupid': 604,\n",
       " 'posted': 605,\n",
       " 'power': 606,\n",
       " 'city': 607,\n",
       " 'whatever': 608,\n",
       " 'talking': 609,\n",
       " 'ago': 610,\n",
       " 'placed': 611,\n",
       " 'google': 612,\n",
       " 'political': 613,\n",
       " 'similar': 614,\n",
       " 'today': 615,\n",
       " 'administrator': 616,\n",
       " '8': 617,\n",
       " 'argument': 618,\n",
       " 'exactly': 619,\n",
       " 'working': 620,\n",
       " 'false': 621,\n",
       " 'system': 622,\n",
       " 'united': 623,\n",
       " 'paragraph': 624,\n",
       " 'guy': 625,\n",
       " 'took': 626,\n",
       " 'british': 627,\n",
       " 'faggot': 628,\n",
       " 'useful': 629,\n",
       " '12': 630,\n",
       " 'noticed': 631,\n",
       " 'government': 632,\n",
       " 'moron': 633,\n",
       " 'small': 634,\n",
       " 'reasons': 635,\n",
       " 'national': 636,\n",
       " 'search': 637,\n",
       " 'side': 638,\n",
       " 'form': 639,\n",
       " 'deleting': 640,\n",
       " 'five': 641,\n",
       " 'guess': 642,\n",
       " 'dispute': 643,\n",
       " 'appreciate': 644,\n",
       " 'particular': 645,\n",
       " 'regards': 646,\n",
       " 'reverting': 647,\n",
       " 'major': 648,\n",
       " '2007': 649,\n",
       " 'law': 650,\n",
       " 'often': 651,\n",
       " 'banned': 652,\n",
       " 'problems': 653,\n",
       " '000': 654,\n",
       " 'rule': 655,\n",
       " 'provided': 656,\n",
       " 'become': 657,\n",
       " '15': 658,\n",
       " 'npov': 659,\n",
       " '2008': 660,\n",
       " 'knowledge': 661,\n",
       " 'tried': 662,\n",
       " 'almost': 663,\n",
       " 'status': 664,\n",
       " 'bitch': 665,\n",
       " 'stated': 666,\n",
       " 'wikiproject': 667,\n",
       " 'music': 668,\n",
       " 'along': 669,\n",
       " 'username': 670,\n",
       " 'cheers': 671,\n",
       " 'film': 672,\n",
       " 'taking': 673,\n",
       " 'needed': 674,\n",
       " 'fine': 675,\n",
       " 'vandalize': 676,\n",
       " 'certain': 677,\n",
       " 'present': 678,\n",
       " '9': 679,\n",
       " 'follow': 680,\n",
       " 'reply': 681,\n",
       " 'company': 682,\n",
       " 'white': 683,\n",
       " 'sort': 684,\n",
       " 'otherwise': 685,\n",
       " '–': 686,\n",
       " 'terms': 687,\n",
       " 'uploaded': 688,\n",
       " \"haven't\": 689,\n",
       " 'points': 690,\n",
       " 'explanation': 691,\n",
       " 'description': 692,\n",
       " 'generally': 693,\n",
       " 'entire': 694,\n",
       " 'recently': 695,\n",
       " 'open': 696,\n",
       " 'shows': 697,\n",
       " 'story': 698,\n",
       " 'short': 699,\n",
       " 'ban': 700,\n",
       " 'likely': 701,\n",
       " 'alone': 702,\n",
       " 'cited': 703,\n",
       " 'aware': 704,\n",
       " '14': 705,\n",
       " 'definition': 706,\n",
       " 'citation': 707,\n",
       " 'saw': 708,\n",
       " 'tags': 709,\n",
       " 'soon': 710,\n",
       " 'class': 711,\n",
       " 'g': 712,\n",
       " 'type': 713,\n",
       " 'set': 714,\n",
       " 'indeed': 715,\n",
       " 'cite': 716,\n",
       " 'decide': 717,\n",
       " 'week': 718,\n",
       " 'mr': 719,\n",
       " 'band': 720,\n",
       " 'appear': 721,\n",
       " 'simple': 722,\n",
       " 'views': 723,\n",
       " 'contributing': 724,\n",
       " 'area': 725,\n",
       " 'guys': 726,\n",
       " 'family': 727,\n",
       " 'external': 728,\n",
       " 'contact': 729,\n",
       " '2004': 730,\n",
       " 'piece': 731,\n",
       " 'result': 732,\n",
       " 'actual': 733,\n",
       " 'internet': 734,\n",
       " 'interesting': 735,\n",
       " 'theory': 736,\n",
       " 'improve': 737,\n",
       " 'test': 738,\n",
       " 'unblock': 739,\n",
       " 'copy': 740,\n",
       " 'told': 741,\n",
       " 'sourced': 742,\n",
       " 'jew': 743,\n",
       " 'proposed': 744,\n",
       " '16': 745,\n",
       " 'moved': 746,\n",
       " 'obvious': 747,\n",
       " 'various': 748,\n",
       " 'email': 749,\n",
       " 'allowed': 750,\n",
       " 'themselves': 751,\n",
       " \"article's\": 752,\n",
       " 'context': 753,\n",
       " 'uk': 754,\n",
       " 'black': 755,\n",
       " 'conflict': 756,\n",
       " 'attention': 757,\n",
       " 'members': 758,\n",
       " 'thus': 759,\n",
       " 'disagree': 760,\n",
       " 'author': 761,\n",
       " 'university': 762,\n",
       " 'went': 763,\n",
       " 'john': 764,\n",
       " 'sites': 765,\n",
       " 'jews': 766,\n",
       " 'actions': 767,\n",
       " 'previous': 768,\n",
       " 'citations': 769,\n",
       " 'third': 770,\n",
       " 'hours': 771,\n",
       " 'human': 772,\n",
       " 'hand': 773,\n",
       " 'bias': 774,\n",
       " \"aren't\": 775,\n",
       " 'nonsense': 776,\n",
       " 'enjoy': 777,\n",
       " 'ones': 778,\n",
       " 'action': 779,\n",
       " '18': 780,\n",
       " 'works': 781,\n",
       " 'job': 782,\n",
       " 'proper': 783,\n",
       " '17': 784,\n",
       " 'longer': 785,\n",
       " 'science': 786,\n",
       " 'large': 787,\n",
       " 'death': 788,\n",
       " 'together': 789,\n",
       " \"wouldn't\": 790,\n",
       " 'avoid': 791,\n",
       " 'cunt': 792,\n",
       " 'creating': 793,\n",
       " 'addition': 794,\n",
       " 'happened': 795,\n",
       " 'valid': 796,\n",
       " '13': 797,\n",
       " 'jewish': 798,\n",
       " 'automatically': 799,\n",
       " 'deal': 800,\n",
       " 'german': 801,\n",
       " 'biased': 802,\n",
       " 'worked': 803,\n",
       " '19': 804,\n",
       " 'im': 805,\n",
       " 'goes': 806,\n",
       " '21': 807,\n",
       " \"what's\": 808,\n",
       " 'seriously': 809,\n",
       " 'proof': 810,\n",
       " 'himself': 811,\n",
       " 'level': 812,\n",
       " 'series': 813,\n",
       " 'accepted': 814,\n",
       " 'standard': 815,\n",
       " '23': 816,\n",
       " 'respect': 817,\n",
       " 'f': 818,\n",
       " 'exist': 819,\n",
       " 'available': 820,\n",
       " 'helpful': 821,\n",
       " \"shouldn't\": 822,\n",
       " 'comes': 823,\n",
       " 'de': 824,\n",
       " 'meaning': 825,\n",
       " 'manual': 826,\n",
       " 'video': 827,\n",
       " 'living': 828,\n",
       " 'opinions': 829,\n",
       " 'sex': 830,\n",
       " '22': 831,\n",
       " 'act': 832,\n",
       " 'tildes': 833,\n",
       " 'rights': 834,\n",
       " 'calling': 835,\n",
       " 'play': 836,\n",
       " 'accept': 837,\n",
       " 'criticism': 838,\n",
       " 'indicate': 839,\n",
       " 'necessary': 840,\n",
       " 'personally': 841,\n",
       " 'accurate': 842,\n",
       " 'assume': 843,\n",
       " 'statements': 844,\n",
       " 'sections': 845,\n",
       " 'attempt': 846,\n",
       " 'pig': 847,\n",
       " 'upon': 848,\n",
       " 'months': 849,\n",
       " 'july': 850,\n",
       " '\\xa0': 851,\n",
       " 'historical': 852,\n",
       " 'hell': 853,\n",
       " 'violation': 854,\n",
       " 'usually': 855,\n",
       " '30': 856,\n",
       " 'yeah': 857,\n",
       " \"let's\": 858,\n",
       " 'debate': 859,\n",
       " '2009': 860,\n",
       " 'afd': 861,\n",
       " 'pro': 862,\n",
       " 'dick': 863,\n",
       " 'multiple': 864,\n",
       " 'rest': 865,\n",
       " 'tagged': 866,\n",
       " 'width': 867,\n",
       " 'south': 868,\n",
       " '2010': 869,\n",
       " 'serious': 870,\n",
       " 'blocking': 871,\n",
       " 'doubt': 872,\n",
       " 'details': 873,\n",
       " 'record': 874,\n",
       " \"they're\": 875,\n",
       " 'greek': 876,\n",
       " 'separate': 877,\n",
       " 'cause': 878,\n",
       " 'situation': 879,\n",
       " \"you'll\": 880,\n",
       " 'r': 881,\n",
       " 'm': 882,\n",
       " 'v': 883,\n",
       " 'explaining': 884,\n",
       " 'space': 885,\n",
       " 'heard': 886,\n",
       " 'speak': 887,\n",
       " 'refer': 888,\n",
       " 'okay': 889,\n",
       " 'fix': 890,\n",
       " 'run': 891,\n",
       " 'quality': 892,\n",
       " 'sock': 893,\n",
       " 'penis': 894,\n",
       " 'messages': 895,\n",
       " 'w': 896,\n",
       " 'asking': 897,\n",
       " 'complete': 898,\n",
       " 'data': 899,\n",
       " 'church': 900,\n",
       " 'legal': 901,\n",
       " 'lack': 902,\n",
       " 'august': 903,\n",
       " 'online': 904,\n",
       " 'none': 905,\n",
       " 'military': 906,\n",
       " 'rationale': 907,\n",
       " 'prove': 908,\n",
       " 'apparently': 909,\n",
       " 'period': 910,\n",
       " 'freedom': 911,\n",
       " 'access': 912,\n",
       " 'special': 913,\n",
       " 'behavior': 914,\n",
       " 'team': 915,\n",
       " 'changing': 916,\n",
       " 'close': 917,\n",
       " 'india': 918,\n",
       " 'directly': 919,\n",
       " 'watch': 920,\n",
       " 'difference': 921,\n",
       " 'early': 922,\n",
       " 'march': 923,\n",
       " 'sucks': 924,\n",
       " 'contribute': 925,\n",
       " 'wikipedian': 926,\n",
       " 'culture': 927,\n",
       " 'existing': 928,\n",
       " 'huge': 929,\n",
       " 'gets': 930,\n",
       " 'couple': 931,\n",
       " 'among': 932,\n",
       " 'box': 933,\n",
       " 'supposed': 934,\n",
       " 'primary': 935,\n",
       " 'civil': 936,\n",
       " 'except': 937,\n",
       " '25': 938,\n",
       " 'warring': 939,\n",
       " 'countries': 940,\n",
       " 'meant': 941,\n",
       " 'born': 942,\n",
       " 'head': 943,\n",
       " 'modern': 944,\n",
       " 'described': 945,\n",
       " '50': 946,\n",
       " 'fish': 947,\n",
       " 'uses': 948,\n",
       " 'incorrect': 949,\n",
       " 'significant': 950,\n",
       " 'disruptive': 951,\n",
       " 'specifically': 952,\n",
       " 'red': 953,\n",
       " 'field': 954,\n",
       " 'pillars': 955,\n",
       " 'photo': 956,\n",
       " 'purpose': 957,\n",
       " 'friend': 958,\n",
       " 'release': 959,\n",
       " 'produce': 960,\n",
       " 'million': 961,\n",
       " 'archive': 962,\n",
       " 'earlier': 963,\n",
       " 'error': 964,\n",
       " 'june': 965,\n",
       " 'computer': 966,\n",
       " 'table': 967,\n",
       " 'sometimes': 968,\n",
       " 'tv': 969,\n",
       " 'half': 970,\n",
       " 'business': 971,\n",
       " 'outside': 972,\n",
       " 'cases': 973,\n",
       " 'vote': 974,\n",
       " 'force': 975,\n",
       " 'inclusion': 976,\n",
       " 'particularly': 977,\n",
       " 'x': 978,\n",
       " 'character': 979,\n",
       " 'gave': 980,\n",
       " 'linked': 981,\n",
       " 'possibly': 982,\n",
       " 'control': 983,\n",
       " 'abuse': 984,\n",
       " '27': 985,\n",
       " 'january': 986,\n",
       " 'pictures': 987,\n",
       " 'member': 988,\n",
       " 'scientific': 989,\n",
       " 'anonymous': 990,\n",
       " 'christian': 991,\n",
       " 'arguments': 992,\n",
       " 'numbers': 993,\n",
       " 'home': 994,\n",
       " 'wikipedia\\r': 995,\n",
       " 'reported': 996,\n",
       " 'shall': 997,\n",
       " 'border': 998,\n",
       " 'wait': 999,\n",
       " 'eat': 1000,\n",
       " ...}"
      ]
     },
     "execution_count": 17,
     "metadata": {
      "tags": []
     },
     "output_type": "execute_result"
    }
   ],
   "source": [
    "tokenizer.word_index"
   ]
  },
  {
   "cell_type": "code",
   "execution_count": null,
   "id": "a455c259",
   "metadata": {
    "colab": {
     "base_uri": "https://localhost:8080/"
    },
    "id": "XRs6b5rOzLc8",
    "outputId": "102e1033-6c1b-4ac1-cfc6-e1b9b6b6a2e6"
   },
   "outputs": [
    {
     "data": {
      "text/plain": [
       "[[75,\n",
       "  1,\n",
       "  128,\n",
       "  130,\n",
       "  177,\n",
       "  28,\n",
       "  670,\n",
       "  4510,\n",
       "  12133,\n",
       "  1115,\n",
       "  87,\n",
       "  331,\n",
       "  52,\n",
       "  2269,\n",
       "  11510,\n",
       "  51,\n",
       "  6926,\n",
       "  16,\n",
       "  61,\n",
       "  2747,\n",
       "  149,\n",
       "  8,\n",
       "  2933,\n",
       "  35,\n",
       "  116,\n",
       "  1235,\n",
       "  15747,\n",
       "  2859,\n",
       "  5,\n",
       "  46,\n",
       "  60,\n",
       "  243,\n",
       "  1,\n",
       "  370,\n",
       "  32,\n",
       "  1,\n",
       "  39,\n",
       "  29,\n",
       "  144,\n",
       "  74,\n",
       "  3474,\n",
       "  90,\n",
       "  3075,\n",
       "  4630,\n",
       "  2284,\n",
       "  985]]"
      ]
     },
     "execution_count": 18,
     "metadata": {
      "tags": []
     },
     "output_type": "execute_result"
    }
   ],
   "source": [
    "list_tokenized_train[:1]"
   ]
  },
  {
   "cell_type": "code",
   "execution_count": null,
   "id": "61e2cae3",
   "metadata": {
    "id": "7MN8EOBEz3zE"
   },
   "outputs": [],
   "source": [
    "from keras.preprocessing.sequence import pad_sequences"
   ]
  },
  {
   "cell_type": "code",
   "execution_count": null,
   "id": "f3f7a1b8",
   "metadata": {
    "id": "a9JCmeD_zhY5"
   },
   "outputs": [],
   "source": [
    "maxlen = 200\n",
    "X_t = pad_sequences(list_tokenized_train, maxlen=maxlen)\n",
    "X_te = pad_sequences(list_tokenized_test, maxlen=maxlen)"
   ]
  },
  {
   "cell_type": "code",
   "execution_count": null,
   "id": "68feb7c7",
   "metadata": {
    "id": "y1GDZknO0Vkr"
   },
   "outputs": [],
   "source": [
    "totalNumWords = [len(one_comment) for one_comment in list_tokenized_train]"
   ]
  },
  {
   "cell_type": "code",
   "execution_count": null,
   "id": "9bb4eb59",
   "metadata": {
    "id": "kVX46Fh60Zxt"
   },
   "outputs": [],
   "source": [
    "import matplotlib.pyplot as plt\n",
    "%matplotlib inline"
   ]
  },
  {
   "cell_type": "markdown",
   "id": "e2f12f52",
   "metadata": {
    "id": "47M6roBa0orT"
   },
   "source": [
    "Check which maxlen is better\n"
   ]
  },
  {
   "cell_type": "code",
   "execution_count": null,
   "id": "125f56d6",
   "metadata": {
    "colab": {
     "base_uri": "https://localhost:8080/",
     "height": 265
    },
    "id": "0j0nZf9W0ae4",
    "outputId": "7faca7e7-007e-48f9-c034-1cbedaf52cf0"
   },
   "outputs": [
    {
     "data": {
      "image/png": "[encoded data removed]",
      "text/plain": [
       "<Figure size 432x288 with 1 Axes>"
      ]
     },
     "metadata": {
      "needs_background": "light",
      "tags": []
     },
     "output_type": "display_data"
    }
   ],
   "source": [
    "plt.hist(totalNumWords,bins = np.arange(0,410,10))\n",
    "plt.show()"
   ]
  },
  {
   "cell_type": "code",
   "execution_count": null,
   "id": "ba0307a7",
   "metadata": {
    "id": "G_Xw4P9w1bbs"
   },
   "outputs": [],
   "source": [
    "from keras.layers import Dense, Input, LSTM, Embedding, Dropout, Activation"
   ]
  },
  {
   "cell_type": "code",
   "execution_count": null,
   "id": "1e69b996",
   "metadata": {
    "id": "bX442QFc1ccm"
   },
   "outputs": [],
   "source": [
    "inp = Input(shape=(maxlen, ))"
   ]
  },
  {
   "cell_type": "code",
   "execution_count": null,
   "id": "1263dd14",
   "metadata": {
    "id": "DvFI-Z9c1xcE"
   },
   "outputs": [],
   "source": [
    "embed_size = 128\n",
    "x = Embedding(max_features, embed_size)(inp)"
   ]
  },
  {
   "cell_type": "code",
   "execution_count": null,
   "id": "78309f60",
   "metadata": {
    "id": "UiXXb7lA2HZa"
   },
   "outputs": [],
   "source": [
    "x = LSTM(60, return_sequences=True,name='lstm_layer')(x)"
   ]
  },
  {
   "cell_type": "code",
   "execution_count": null,
   "id": "8cd2aea3",
   "metadata": {
    "id": "HceQPbYH2nYe"
   },
   "outputs": [],
   "source": [
    "from keras.layers import Bidirectional, GlobalMaxPool1D"
   ]
  },
  {
   "cell_type": "code",
   "execution_count": null,
   "id": "30037ca3",
   "metadata": {
    "id": "uP8Zhe0F2ix_"
   },
   "outputs": [],
   "source": [
    "x = GlobalMaxPool1D()(x)\n",
    "x = Dropout(0.1)(x)"
   ]
  },
  {
   "cell_type": "code",
   "execution_count": null,
   "id": "1badcc73",
   "metadata": {
    "id": "GZLbH6vI26SY"
   },
   "outputs": [],
   "source": [
    "x = Dense(50, activation=\"relu\")(x)\n",
    "x = Dropout(0.1)(x)\n",
    "x = Dense(6, activation=\"sigmoid\")(x)"
   ]
  },
  {
   "cell_type": "code",
   "execution_count": null,
   "id": "1968981f",
   "metadata": {
    "id": "PmRp59bk3Mk_"
   },
   "outputs": [],
   "source": [
    "from keras.models import Model\n",
    "import keras.metrics as metrics"
   ]
  },
  {
   "cell_type": "code",
   "execution_count": null,
   "id": "a5daeaa3",
   "metadata": {
    "id": "a60qSMRk3RTA"
   },
   "outputs": [],
   "source": [
    "model = Model(inputs=inp, outputs=x)\n",
    "model.compile(loss='binary_crossentropy',\n",
    "                  optimizer='adam',\n",
    "                  metrics=[\n",
    "                          metrics.MeanSquaredError(),\n",
    "                          metrics.AUC(),\n",
    "                  ])"
   ]
  },
  {
   "cell_type": "code",
   "execution_count": null,
   "id": "4d660eab",
   "metadata": {
    "colab": {
     "base_uri": "https://localhost:8080/"
    },
    "id": "O1Sjszd37UQT",
    "outputId": "782cbdb0-3e14-4a45-c739-c56143cc803c"
   },
   "outputs": [
    {
     "name": "stdout",
     "output_type": "stream",
     "text": [
      "Model: \"functional_1\"\n",
      "_________________________________________________________________\n",
      "Layer (type)                 Output Shape              Param #   \n",
      "=================================================================\n",
      "input_1 (InputLayer)         [(None, 200)]             0         \n",
      "_________________________________________________________________\n",
      "embedding (Embedding)        (None, 200, 128)          2560000   \n",
      "_________________________________________________________________\n",
      "lstm_layer (LSTM)            (None, 200, 60)           45360     \n",
      "_________________________________________________________________\n",
      "global_max_pooling1d (Global (None, 60)                0         \n",
      "_________________________________________________________________\n",
      "dropout (Dropout)            (None, 60)                0         \n",
      "_________________________________________________________________\n",
      "dense (Dense)                (None, 50)                3050      \n",
      "_________________________________________________________________\n",
      "dropout_1 (Dropout)          (None, 50)                0         \n",
      "_________________________________________________________________\n",
      "dense_1 (Dense)              (None, 6)                 306       \n",
      "=================================================================\n",
      "Total params: 2,608,716\n",
      "Trainable params: 2,608,716\n",
      "Non-trainable params: 0\n",
      "_________________________________________________________________\n"
     ]
    }
   ],
   "source": [
    "model.summary()"
   ]
  },
  {
   "cell_type": "code",
   "execution_count": null,
   "id": "a69a4c79",
   "metadata": {
    "id": "pDeViqacloVe"
   },
   "outputs": [],
   "source": [
    "from sklearn.model_selection import train_test_split\n",
    "X_train, X_val, y_train, y_val = train_test_split(X_t,y,test_size=0.1,random_state=1) "
   ]
  },
  {
   "cell_type": "code",
   "execution_count": null,
   "id": "22483775",
   "metadata": {
    "colab": {
     "base_uri": "https://localhost:8080/"
    },
    "id": "yo1OrPDI3p0R",
    "outputId": "c970ebf4-dfb8-47e8-f196-d1be15a57dbe"
   },
   "outputs": [
    {
     "name": "stdout",
     "output_type": "stream",
     "text": [
      "Epoch 1/2\n",
      "4488/4488 [==============================] - 173s 39ms/step - loss: 0.0683 - mean_squared_error: 0.0184 - auc: 0.9613\n",
      "Epoch 2/2\n",
      "4488/4488 [==============================] - 172s 38ms/step - loss: 0.0454 - mean_squared_error: 0.0128 - auc: 0.9838\n"
     ]
    },
    {
     "data": {
      "text/plain": [
       "<tensorflow.python.keras.callbacks.History at 0x7efe31c8e6a0>"
      ]
     },
     "execution_count": 29,
     "metadata": {
      "tags": []
     },
     "output_type": "execute_result"
    }
   ],
   "source": [
    "batch_size = 32\n",
    "epochs = 2\n",
    "model.fit(X_train,y_train, batch_size=batch_size, epochs=epochs)"
   ]
  },
  {
   "cell_type": "code",
   "execution_count": null,
   "id": "4564ddf4",
   "metadata": {
    "id": "II98WyoqiyMH"
   },
   "outputs": [],
   "source": [
    "preds_train = model.predict(X_train)"
   ]
  },
  {
   "cell_type": "code",
   "execution_count": null,
   "id": "47233e7a",
   "metadata": {
    "colab": {
     "base_uri": "https://localhost:8080/"
    },
    "id": "V7tkUOxIkw1I",
    "outputId": "91d2722f-8440-4f1e-f893-ad7a2daba7ce"
   },
   "outputs": [
    {
     "name": "stdout",
     "output_type": "stream",
     "text": [
      "0.9877859251140199\n"
     ]
    }
   ],
   "source": [
    "from sklearn.metrics import roc_auc_score, average_precision_score, accuracy_score\n",
    "\n",
    "print(roc_auc_score(y_train, preds_train))\n"
   ]
  },
  {
   "cell_type": "code",
   "execution_count": null,
   "id": "b343f51c",
   "metadata": {
    "colab": {
     "base_uri": "https://localhost:8080/"
    },
    "id": "knnVnuwC4Bla",
    "outputId": "ea9fdf61-4108-44c1-978b-284caddb2a9a"
   },
   "outputs": [
    {
     "name": "stdout",
     "output_type": "stream",
     "text": [
      "[[0 0 0 0 0 0]\n",
      " [0 0 0 0 0 0]\n",
      " [0 0 0 0 0 0]\n",
      " ...\n",
      " [0 0 0 0 0 0]\n",
      " [0 0 0 0 0 0]\n",
      " [1 1 1 0 0 0]]\n",
      "[[1.58875447e-03 5.73829652e-07 1.44560749e-04 3.38950304e-06\n",
      "  8.32082223e-05 7.67667734e-06]\n",
      " [1.30676432e-03 2.02101637e-06 2.71607947e-04 6.88714408e-06\n",
      "  1.11395195e-04 1.57726936e-05]\n",
      " [1.24347804e-04 4.31987317e-08 1.58412349e-05 2.56467217e-07\n",
      "  5.85646603e-06 5.59150408e-07]\n",
      " ...\n",
      " [8.69866181e-03 1.29650962e-05 1.12550077e-03 6.28937560e-05\n",
      "  7.24008307e-04 9.39095407e-05]\n",
      " [3.15113701e-02 4.72706452e-05 2.46283016e-03 3.86468862e-04\n",
      "  3.02377413e-03 5.57197200e-04]\n",
      " [9.92160976e-01 1.30405232e-01 9.68598783e-01 6.75370963e-03\n",
      "  7.08355546e-01 4.00505774e-02]]\n"
     ]
    }
   ],
   "source": [
    "print(y_train)\n",
    "print(preds_train)"
   ]
  },
  {
   "cell_type": "code",
   "execution_count": null,
   "id": "b9194765",
   "metadata": {
    "colab": {
     "base_uri": "https://localhost:8080/"
    },
    "id": "LlJNTOzilckW",
    "outputId": "90002704-16d0-4911-f1e9-c0357715cd41"
   },
   "outputs": [
    {
     "name": "stdout",
     "output_type": "stream",
     "text": [
      "0.9754874105887946\n"
     ]
    }
   ],
   "source": [
    "preds_val = model.predict(X_val)\n",
    "print(roc_auc_score(y_val, preds_val))\n"
   ]
  },
  {
   "cell_type": "code",
   "execution_count": null,
   "id": "eca9c4e3",
   "metadata": {
    "id": "Tqt7icfEDaLy"
   },
   "outputs": [],
   "source": [
    "labels = labels[classes]\n",
    "sum_labels=np.sum(labels.values,axis=1)\n",
    "# print(sum_labels)\n",
    "idx=sum_labels>=0\n",
    "y_test = labels[idx]"
   ]
  },
  {
   "cell_type": "code",
   "execution_count": null,
   "id": "b0900829",
   "metadata": {
    "id": "t9KsO3YwEq-r"
   },
   "outputs": [],
   "source": [
    "X_test = X_te[idx]"
   ]
  },
  {
   "cell_type": "code",
   "execution_count": null,
   "id": "bf67fd2f",
   "metadata": {
    "colab": {
     "base_uri": "https://localhost:8080/"
    },
    "id": "YDawtpIHFA8n",
    "outputId": "8bbd3e25-cd0f-499e-afc8-0afa7b951c4a"
   },
   "outputs": [
    {
     "name": "stdout",
     "output_type": "stream",
     "text": [
      "(63978, 200) (63978, 6)\n"
     ]
    }
   ],
   "source": [
    "print(X_test.shape, y_test.shape)"
   ]
  },
  {
   "cell_type": "code",
   "execution_count": null,
   "id": "754747d1",
   "metadata": {
    "id": "-R25kS_noI1Z"
   },
   "outputs": [],
   "source": [
    "preds_test = model.predict(X_test)"
   ]
  },
  {
   "cell_type": "code",
   "execution_count": null,
   "id": "e85076a1",
   "metadata": {
    "colab": {
     "base_uri": "https://localhost:8080/"
    },
    "id": "dlsjUeqkrnZ0",
    "outputId": "7c79dba3-a63e-45c4-f06b-ec100dae8542"
   },
   "outputs": [
    {
     "name": "stdout",
     "output_type": "stream",
     "text": [
      "0.9714832842713396\n"
     ]
    }
   ],
   "source": [
    "print(roc_auc_score(y_test, preds_test))\n"
   ]
  },
  {
   "cell_type": "code",
   "execution_count": null,
   "id": "2b0aa6bd",
   "metadata": {
    "id": "knx58ty-Szcn"
   },
   "outputs": [],
   "source": [
    "! pip install -q kaggle\n",
    "from google.colab import files"
   ]
  },
  {
   "cell_type": "code",
   "execution_count": null,
   "id": "156401dd",
   "metadata": {
    "colab": {
     "base_uri": "https://localhost:8080/",
     "height": 91,
     "resources": {
      "http://localhost:8080/nbextensions/google.colab/files.js": {
       "data": "Ly8gQ29weXJpZ2h0IDIwMTcgR29vZ2xlIExMQwovLwovLyBMaWNlbnNlZCB1bmRlciB0aGUgQXBhY2hlIExpY2Vuc2UsIFZlcnNpb24gMi4wICh0aGUgIkxpY2Vuc2UiKTsKLy8geW91IG1heSBub3QgdXNlIHRoaXMgZmlsZSBleGNlcHQgaW4gY29tcGxpYW5jZSB3aXRoIHRoZSBMaWNlbnNlLgovLyBZb3UgbWF5IG9idGFpbiBhIGNvcHkgb2YgdGhlIExpY2Vuc2UgYXQKLy8KLy8gICAgICBodHRwOi8vd3d3LmFwYWNoZS5vcmcvbGljZW5zZXMvTElDRU5TRS0yLjAKLy8KLy8gVW5sZXNzIHJlcXVpcmVkIGJ5IGFwcGxpY2FibGUgbGF3IG9yIGFncmVlZCB0byBpbiB3cml0aW5nLCBzb2Z0d2FyZQovLyBkaXN0cmlidXRlZCB1bmRlciB0aGUgTGljZW5zZSBpcyBkaXN0cmlidXRlZCBvbiBhbiAiQVMgSVMiIEJBU0lTLAovLyBXSVRIT1VUIFdBUlJBTlRJRVMgT1IgQ09ORElUSU9OUyBPRiBBTlkgS0lORCwgZWl0aGVyIGV4cHJlc3Mgb3IgaW1wbGllZC4KLy8gU2VlIHRoZSBMaWNlbnNlIGZvciB0aGUgc3BlY2lmaWMgbGFuZ3VhZ2UgZ292ZXJuaW5nIHBlcm1pc3Npb25zIGFuZAovLyBsaW1pdGF0aW9ucyB1bmRlciB0aGUgTGljZW5zZS4KCi8qKgogKiBAZmlsZW92ZXJ2aWV3IEhlbHBlcnMgZm9yIGdvb2dsZS5jb2xhYiBQeXRob24gbW9kdWxlLgogKi8KKGZ1bmN0aW9uKHNjb3BlKSB7CmZ1bmN0aW9uIHNwYW4odGV4dCwgc3R5bGVBdHRyaWJ1dGVzID0ge30pIHsKICBjb25zdCBlbGVtZW50ID0gZG9jdW1lbnQuY3JlYXRlRWxlbWVudCgnc3BhbicpOwogIGVsZW1lbnQudGV4dENvbnRlbnQgPSB0ZXh0OwogIGZvciAoY29uc3Qga2V5IG9mIE9iamVjdC5rZXlzKHN0eWxlQXR0cmlidXRlcykpIHsKICAgIGVsZW1lbnQuc3R5bGVba2V5XSA9IHN0eWxlQXR0cmlidXRlc1trZXldOwogIH0KICByZXR1cm4gZWxlbWVudDsKfQoKLy8gTWF4IG51bWJlciBvZiBieXRlcyB3aGljaCB3aWxsIGJlIHVwbG9hZGVkIGF0IGEgdGltZS4KY29uc3QgTUFYX1BBWUxPQURfU0laRSA9IDEwMCAqIDEwMjQ7CgpmdW5jdGlvbiBfdXBsb2FkRmlsZXMoaW5wdXRJZCwgb3V0cHV0SWQpIHsKICBjb25zdCBzdGVwcyA9IHVwbG9hZEZpbGVzU3RlcChpbnB1dElkLCBvdXRwdXRJZCk7CiAgY29uc3Qgb3V0cHV0RWxlbWVudCA9IGRvY3VtZW50LmdldEVsZW1lbnRCeUlkKG91dHB1dElkKTsKICAvLyBDYWNoZSBzdGVwcyBvbiB0aGUgb3V0cHV0RWxlbWVudCB0byBtYWtlIGl0IGF2YWlsYWJsZSBmb3IgdGhlIG5leHQgY2FsbAogIC8vIHRvIHVwbG9hZEZpbGVzQ29udGludWUgZnJvbSBQeXRob24uCiAgb3V0cHV0RWxlbWVudC5zdGVwcyA9IHN0ZXBzOwoKICByZXR1cm4gX3VwbG9hZEZpbGVzQ29udGludWUob3V0cHV0SWQpOwp9CgovLyBUaGlzIGlzIHJvdWdobHkgYW4gYXN5bmMgZ2VuZXJhdG9yIChub3Qgc3VwcG9ydGVkIGluIHRoZSBicm93c2VyIHlldCksCi8vIHdoZXJlIHRoZXJlIGFyZSBtdWx0aXBsZSBhc3luY2hyb25vdXMgc3RlcHMgYW5kIHRoZSBQeXRob24gc2lkZSBpcyBnb2luZwovLyB0byBwb2xsIGZvciBjb21wbGV0aW9uIG9mIGVhY2ggc3RlcC4KLy8gVGhpcyB1c2VzIGEgUHJvbWlzZSB0byBibG9jayB0aGUgcHl0aG9uIHNpZGUgb24gY29tcGxldGlvbiBvZiBlYWNoIHN0ZXAsCi8vIHRoZW4gcGFzc2VzIHRoZSByZXN1bHQgb2YgdGhlIHByZXZpb3VzIHN0ZXAgYXMgdGhlIGlucHV0IHRvIHRoZSBuZXh0IHN0ZXAuCmZ1bmN0aW9uIF91cGxvYWRGaWxlc0NvbnRpbnVlKG91dHB1dElkKSB7CiAgY29uc3Qgb3V0cHV0RWxlbWVudCA9IGRvY3VtZW50LmdldEVsZW1lbnRCeUlkKG91dHB1dElkKTsKICBjb25zdCBzdGVwcyA9IG91dHB1dEVsZW1lbnQuc3RlcHM7CgogIGNvbnN0IG5leHQgPSBzdGVwcy5uZXh0KG91dHB1dEVsZW1lbnQubGFzdFByb21pc2VWYWx1ZSk7CiAgcmV0dXJuIFByb21pc2UucmVzb2x2ZShuZXh0LnZhbHVlLnByb21pc2UpLnRoZW4oKHZhbHVlKSA9PiB7CiAgICAvLyBDYWNoZSB0aGUgbGFzdCBwcm9taXNlIHZhbHVlIHRvIG1ha2UgaXQgYXZhaWxhYmxlIHRvIHRoZSBuZXh0CiAgICAvLyBzdGVwIG9mIHRoZSBnZW5lcmF0b3IuCiAgICBvdXRwdXRFbGVtZW50Lmxhc3RQcm9taXNlVmFsdWUgPSB2YWx1ZTsKICAgIHJldHVybiBuZXh0LnZhbHVlLnJlc3BvbnNlOwogIH0pOwp9CgovKioKICogR2VuZXJhdG9yIGZ1bmN0aW9uIHdoaWNoIGlzIGNhbGxlZCBiZXR3ZWVuIGVhY2ggYXN5bmMgc3RlcCBvZiB0aGUgdXBsb2FkCiAqIHByb2Nlc3MuCiAqIEBwYXJhbSB7c3RyaW5nfSBpbnB1dElkIEVsZW1lbnQgSUQgb2YgdGhlIGlucHV0IGZpbGUgcGlja2VyIGVsZW1lbnQuCiAqIEBwYXJhbSB7c3RyaW5nfSBvdXRwdXRJZCBFbGVtZW50IElEIG9mIHRoZSBvdXRwdXQgZGlzcGxheS4KICogQHJldHVybiB7IUl0ZXJhYmxlPCFPYmplY3Q+fSBJdGVyYWJsZSBvZiBuZXh0IHN0ZXBzLgogKi8KZnVuY3Rpb24qIHVwbG9hZEZpbGVzU3RlcChpbnB1dElkLCBvdXRwdXRJZCkgewogIGNvbnN0IGlucHV0RWxlbWVudCA9IGRvY3VtZW50LmdldEVsZW1lbnRCeUlkKGlucHV0SWQpOwogIGlucHV0RWxlbWVudC5kaXNhYmxlZCA9IGZhbHNlOwoKICBjb25zdCBvdXRwdXRFbGVtZW50ID0gZG9jdW1lbnQuZ2V0RWxlbWVudEJ5SWQob3V0cHV0SWQpOwogIG91dHB1dEVsZW1lbnQuaW5uZXJIVE1MID0gJyc7CgogIGNvbnN0IHBpY2tlZFByb21pc2UgPSBuZXcgUHJvbWlzZSgocmVzb2x2ZSkgPT4gewogICAgaW5wdXRFbGVtZW50LmFkZEV2ZW50TGlzdGVuZXIoJ2NoYW5nZScsIChlKSA9PiB7CiAgICAgIHJlc29sdmUoZS50YXJnZXQuZmlsZXMpOwogICAgfSk7CiAgfSk7CgogIGNvbnN0IGNhbmNlbCA9IGRvY3VtZW50LmNyZWF0ZUVsZW1lbnQoJ2J1dHRvbicpOwogIGlucHV0RWxlbWVudC5wYXJlbnRFbGVtZW50LmFwcGVuZENoaWxkKGNhbmNlbCk7CiAgY2FuY2VsLnRleHRDb250ZW50ID0gJ0NhbmNlbCB1cGxvYWQnOwogIGNvbnN0IGNhbmNlbFByb21pc2UgPSBuZXcgUHJvbWlzZSgocmVzb2x2ZSkgPT4gewogICAgY2FuY2VsLm9uY2xpY2sgPSAoKSA9PiB7CiAgICAgIHJlc29sdmUobnVsbCk7CiAgICB9OwogIH0pOwoKICAvLyBXYWl0IGZvciB0aGUgdXNlciB0byBwaWNrIHRoZSBmaWxlcy4KICBjb25zdCBmaWxlcyA9IHlpZWxkIHsKICAgIHByb21pc2U6IFByb21pc2UucmFjZShbcGlja2VkUHJvbWlzZSwgY2FuY2VsUHJvbWlzZV0pLAogICAgcmVzcG9uc2U6IHsKICAgICAgYWN0aW9uOiAnc3RhcnRpbmcnLAogICAgfQogIH07CgogIGNhbmNlbC5yZW1vdmUoKTsKCiAgLy8gRGlzYWJsZSB0aGUgaW5wdXQgZWxlbWVudCBzaW5jZSBmdXJ0aGVyIHBpY2tzIGFyZSBub3QgYWxsb3dlZC4KICBpbnB1dEVsZW1lbnQuZGlzYWJsZWQgPSB0cnVlOwoKICBpZiAoIWZpbGVzKSB7CiAgICByZXR1cm4gewogICAgICByZXNwb25zZTogewogICAgICAgIGFjdGlvbjogJ2NvbXBsZXRlJywKICAgICAgfQogICAgfTsKICB9CgogIGZvciAoY29uc3QgZmlsZSBvZiBmaWxlcykgewogICAgY29uc3QgbGkgPSBkb2N1bWVudC5jcmVhdGVFbGVtZW50KCdsaScpOwogICAgbGkuYXBwZW5kKHNwYW4oZmlsZS5uYW1lLCB7Zm9udFdlaWdodDogJ2JvbGQnfSkpOwogICAgbGkuYXBwZW5kKHNwYW4oCiAgICAgICAgYCgke2ZpbGUudHlwZSB8fCAnbi9hJ30pIC0gJHtmaWxlLnNpemV9IGJ5dGVzLCBgICsKICAgICAgICBgbGFzdCBtb2RpZmllZDogJHsKICAgICAgICAgICAgZmlsZS5sYXN0TW9kaWZpZWREYXRlID8gZmlsZS5sYXN0TW9kaWZpZWREYXRlLnRvTG9jYWxlRGF0ZVN0cmluZygpIDoKICAgICAgICAgICAgICAgICAgICAgICAgICAgICAgICAgICAgJ24vYSd9IC0gYCkpOwogICAgY29uc3QgcGVyY2VudCA9IHNwYW4oJzAlIGRvbmUnKTsKICAgIGxpLmFwcGVuZENoaWxkKHBlcmNlbnQpOwoKICAgIG91dHB1dEVsZW1lbnQuYXBwZW5kQ2hpbGQobGkpOwoKICAgIGNvbnN0IGZpbGVEYXRhUHJvbWlzZSA9IG5ldyBQcm9taXNlKChyZXNvbHZlKSA9PiB7CiAgICAgIGNvbnN0IHJlYWRlciA9IG5ldyBGaWxlUmVhZGVyKCk7CiAgICAgIHJlYWRlci5vbmxvYWQgPSAoZSkgPT4gewogICAgICAgIHJlc29sdmUoZS50YXJnZXQucmVzdWx0KTsKICAgICAgfTsKICAgICAgcmVhZGVyLnJlYWRBc0FycmF5QnVmZmVyKGZpbGUpOwogICAgfSk7CiAgICAvLyBXYWl0IGZvciB0aGUgZGF0YSB0byBiZSByZWFkeS4KICAgIGxldCBmaWxlRGF0YSA9IHlpZWxkIHsKICAgICAgcHJvbWlzZTogZmlsZURhdGFQcm9taXNlLAogICAgICByZXNwb25zZTogewogICAgICAgIGFjdGlvbjogJ2NvbnRpbnVlJywKICAgICAgfQogICAgfTsKCiAgICAvLyBVc2UgYSBjaHVua2VkIHNlbmRpbmcgdG8gYXZvaWQgbWVzc2FnZSBzaXplIGxpbWl0cy4gU2VlIGIvNjIxMTU2NjAuCiAgICBsZXQgcG9zaXRpb24gPSAwOwogICAgd2hpbGUgKHBvc2l0aW9uIDwgZmlsZURhdGEuYnl0ZUxlbmd0aCkgewogICAgICBjb25zdCBsZW5ndGggPSBNYXRoLm1pbihmaWxlRGF0YS5ieXRlTGVuZ3RoIC0gcG9zaXRpb24sIE1BWF9QQVlMT0FEX1NJWkUpOwogICAgICBjb25zdCBjaHVuayA9IG5ldyBVaW50OEFycmF5KGZpbGVEYXRhLCBwb3NpdGlvbiwgbGVuZ3RoKTsKICAgICAgcG9zaXRpb24gKz0gbGVuZ3RoOwoKICAgICAgY29uc3QgYmFzZTY0ID0gYnRvYShTdHJpbmcuZnJvbUNoYXJDb2RlLmFwcGx5KG51bGwsIGNodW5rKSk7CiAgICAgIHlpZWxkIHsKICAgICAgICByZXNwb25zZTogewogICAgICAgICAgYWN0aW9uOiAnYXBwZW5kJywKICAgICAgICAgIGZpbGU6IGZpbGUubmFtZSwKICAgICAgICAgIGRhdGE6IGJhc2U2NCwKICAgICAgICB9LAogICAgICB9OwogICAgICBwZXJjZW50LnRleHRDb250ZW50ID0KICAgICAgICAgIGAke01hdGgucm91bmQoKHBvc2l0aW9uIC8gZmlsZURhdGEuYnl0ZUxlbmd0aCkgKiAxMDApfSUgZG9uZWA7CiAgICB9CiAgfQoKICAvLyBBbGwgZG9uZS4KICB5aWVsZCB7CiAgICByZXNwb25zZTogewogICAgICBhY3Rpb246ICdjb21wbGV0ZScsCiAgICB9CiAgfTsKfQoKc2NvcGUuZ29vZ2xlID0gc2NvcGUuZ29vZ2xlIHx8IHt9OwpzY29wZS5nb29nbGUuY29sYWIgPSBzY29wZS5nb29nbGUuY29sYWIgfHwge307CnNjb3BlLmdvb2dsZS5jb2xhYi5fZmlsZXMgPSB7CiAgX3VwbG9hZEZpbGVzLAogIF91cGxvYWRGaWxlc0NvbnRpbnVlLAp9Owp9KShzZWxmKTsK",
       "headers": [
        [
         "content-type",
         "application/javascript"
        ]
       ],
       "ok": true,
       "status": 200,
       "status_text": ""
      }
     }
    },
    "id": "o60sv_NKTK4h",
    "outputId": "2132f730-5592-4269-edbd-d9b412ca794c"
   },
   "outputs": [
    {
     "data": {
      "text/html": [
       "\n",
       "     <input type=\"file\" id=\"files-9abecb6a-05b6-4847-a111-b8947765fa39\" name=\"files[]\" multiple disabled\n",
       "        style=\"border:none\" />\n",
       "     <output id=\"result-9abecb6a-05b6-4847-a111-b8947765fa39\">\n",
       "      Upload widget is only available when the cell has been executed in the\n",
       "      current browser session. Please rerun this cell to enable.\n",
       "      </output>\n",
       "      <script src=\"/nbextensions/google.colab/files.js\"></script> "
      ],
      "text/plain": [
       "<IPython.core.display.HTML object>"
      ]
     },
     "metadata": {
      "tags": []
     },
     "output_type": "display_data"
    },
    {
     "name": "stdout",
     "output_type": "stream",
     "text": [
      "Saving kaggle.json to kaggle.json\n"
     ]
    },
    {
     "data": {
      "text/plain": [
       "{'kaggle.json': b'{\"username\":\"mrsac7\",\"key\":\"be4113ab127cc8c88b17f730d0bcf093\"}'}"
      ]
     },
     "execution_count": 18,
     "metadata": {
      "tags": []
     },
     "output_type": "execute_result"
    }
   ],
   "source": [
    "files.upload()"
   ]
  },
  {
   "cell_type": "code",
   "execution_count": null,
   "id": "64f03486",
   "metadata": {
    "id": "5Y4DVDTpTVSx"
   },
   "outputs": [],
   "source": [
    "! mkdir ~/.kaggle\n",
    "! cp kaggle.json ~/.kaggle/\n",
    "! chmod 600 ~/.kaggle/kaggle.json\n",
    "! kaggle datasets list"
   ]
  },
  {
   "cell_type": "code",
   "execution_count": null,
   "id": "0a4f9cfe",
   "metadata": {
    "colab": {
     "base_uri": "https://localhost:8080/"
    },
    "id": "Ai9NCpsCUiWH",
    "outputId": "78b112f4-76ec-4f68-b881-1a0dbeab1104"
   },
   "outputs": [
    {
     "name": "stdout",
     "output_type": "stream",
     "text": [
      "Downloading fasttext.zip to /content\n",
      " 99% 105M/107M [00:01<00:00, 77.2MB/s] \n",
      "100% 107M/107M [00:01<00:00, 81.7MB/s]\n"
     ]
    }
   ],
   "source": [
    "! kaggle datasets download -d vsmolyakov/fasttext"
   ]
  },
  {
   "cell_type": "code",
   "execution_count": null,
   "id": "0193f1e3",
   "metadata": {
    "colab": {
     "base_uri": "https://localhost:8080/"
    },
    "id": "ikS_s1etVKLB",
    "outputId": "1de9f714-ca35-4f65-ee9a-bbe7968f95bd"
   },
   "outputs": [
    {
     "name": "stdout",
     "output_type": "stream",
     "text": [
      "Archive:  fasttext.zip\n",
      "  inflating: /content/drive/My Drive/Colab_data/Data_Mining/Data-Mining-Project/embeddings/wiki.simple.vec  \n"
     ]
    }
   ],
   "source": [
    "! unzip fasttext.zip -d \"/content/drive/My Drive/Colab_data/Data_Mining/Data-Mining-Project/embeddings\""
   ]
  },
  {
   "cell_type": "code",
   "execution_count": 1,
   "id": "34b24b0f",
   "metadata": {
    "id": "W9pOCWgh8Sw7"
   },
   "outputs": [],
   "source": [
    "path='/content/drive/My Drive/Colab_data/Data_Mining/Data-Mining-Project/dataset/'"
   ]
  },
  {
   "cell_type": "code",
   "execution_count": null,
   "id": "7fd48bdd",
   "metadata": {
    "id": "6SUvRsF19hD3"
   },
   "outputs": [],
   "source": [
    "\"\"\"Un-Comment For Running locally out of colab\n",
    "path='./dataset'\n",
    "\"\"\"#Un-Comment For Running locally out of colab "
   ]
  },
  {
   "cell_type": "code",
   "execution_count": 2,
   "id": "c6fc4210",
   "metadata": {
    "id": "dP6ftkHZ9jCE"
   },
   "outputs": [],
   "source": [
    "import pandas as pd\n",
    "import numpy as np"
   ]
  },
  {
   "cell_type": "code",
   "execution_count": 67,
   "id": "c6489a2e",
   "metadata": {
    "id": "FQiSVjyj9luT"
   },
   "outputs": [],
   "source": [
    "train = pd.read_csv(path+\"train.csv\")\n",
    "test = pd.read_csv(path+\"test.csv\")\n",
    "labels = pd.read_csv(path+\"test_labels.csv\")"
   ]
  },
  {
   "cell_type": "code",
   "execution_count": 4,
   "id": "c095bf91",
   "metadata": {
    "colab": {
     "base_uri": "https://localhost:8080/",
     "height": 195
    },
    "id": "C1PUU_z_9pCR",
    "outputId": "dd5de290-35b9-4ca3-80c2-86534dbbcd7e"
   },
   "outputs": [
    {
     "data": {
      "text/html": [
       "<div>\n",
       "<style scoped>\n",
       "    .dataframe tbody tr th:only-of-type {\n",
       "        vertical-align: middle;\n",
       "    }\n",
       "\n",
       "    .dataframe tbody tr th {\n",
       "        vertical-align: top;\n",
       "    }\n",
       "\n",
       "    .dataframe thead th {\n",
       "        text-align: right;\n",
       "    }\n",
       "</style>\n",
       "<table border=\"1\" class=\"dataframe\">\n",
       "  <thead>\n",
       "    <tr style=\"text-align: right;\">\n",
       "      <th></th>\n",
       "      <th>id</th>\n",
       "      <th>comment_text</th>\n",
       "      <th>toxic</th>\n",
       "      <th>severe_toxic</th>\n",
       "      <th>obscene</th>\n",
       "      <th>threat</th>\n",
       "      <th>insult</th>\n",
       "      <th>identity_hate</th>\n",
       "    </tr>\n",
       "  </thead>\n",
       "  <tbody>\n",
       "    <tr>\n",
       "      <th>0</th>\n",
       "      <td>0000997932d777bf</td>\n",
       "      <td>Explanation\\r\\nWhy the edits made under my use...</td>\n",
       "      <td>0</td>\n",
       "      <td>0</td>\n",
       "      <td>0</td>\n",
       "      <td>0</td>\n",
       "      <td>0</td>\n",
       "      <td>0</td>\n",
       "    </tr>\n",
       "    <tr>\n",
       "      <th>1</th>\n",
       "      <td>000103f0d9cfb60f</td>\n",
       "      <td>D'aww! He matches this background colour I'm s...</td>\n",
       "      <td>0</td>\n",
       "      <td>0</td>\n",
       "      <td>0</td>\n",
       "      <td>0</td>\n",
       "      <td>0</td>\n",
       "      <td>0</td>\n",
       "    </tr>\n",
       "    <tr>\n",
       "      <th>2</th>\n",
       "      <td>000113f07ec002fd</td>\n",
       "      <td>Hey man, I'm really not trying to edit war. It...</td>\n",
       "      <td>0</td>\n",
       "      <td>0</td>\n",
       "      <td>0</td>\n",
       "      <td>0</td>\n",
       "      <td>0</td>\n",
       "      <td>0</td>\n",
       "    </tr>\n",
       "    <tr>\n",
       "      <th>3</th>\n",
       "      <td>0001b41b1c6bb37e</td>\n",
       "      <td>\"\\r\\nMore\\r\\nI can't make any real suggestions...</td>\n",
       "      <td>0</td>\n",
       "      <td>0</td>\n",
       "      <td>0</td>\n",
       "      <td>0</td>\n",
       "      <td>0</td>\n",
       "      <td>0</td>\n",
       "    </tr>\n",
       "    <tr>\n",
       "      <th>4</th>\n",
       "      <td>0001d958c54c6e35</td>\n",
       "      <td>You, sir, are my hero. Any chance you remember...</td>\n",
       "      <td>0</td>\n",
       "      <td>0</td>\n",
       "      <td>0</td>\n",
       "      <td>0</td>\n",
       "      <td>0</td>\n",
       "      <td>0</td>\n",
       "    </tr>\n",
       "  </tbody>\n",
       "</table>\n",
       "</div>"
      ],
      "text/plain": [
       "                 id  ... identity_hate\n",
       "0  0000997932d777bf  ...             0\n",
       "1  000103f0d9cfb60f  ...             0\n",
       "2  000113f07ec002fd  ...             0\n",
       "3  0001b41b1c6bb37e  ...             0\n",
       "4  0001d958c54c6e35  ...             0\n",
       "\n",
       "[5 rows x 8 columns]"
      ]
     },
     "execution_count": 4,
     "metadata": {
      "tags": []
     },
     "output_type": "execute_result"
    }
   ],
   "source": [
    "train.head()"
   ]
  },
  {
   "cell_type": "code",
   "execution_count": 5,
   "id": "432875c1",
   "metadata": {
    "colab": {
     "base_uri": "https://localhost:8080/"
    },
    "id": "tGUw11rI9q7S",
    "outputId": "6bd02d6a-ed6a-4a45-a8a5-22c8e61ab59f"
   },
   "outputs": [
    {
     "data": {
      "text/plain": [
       "(id               False\n",
       " comment_text     False\n",
       " toxic            False\n",
       " severe_toxic     False\n",
       " obscene          False\n",
       " threat           False\n",
       " insult           False\n",
       " identity_hate    False\n",
       " dtype: bool, id              False\n",
       " comment_text    False\n",
       " dtype: bool)"
      ]
     },
     "execution_count": 5,
     "metadata": {
      "tags": []
     },
     "output_type": "execute_result"
    }
   ],
   "source": [
    "train.isnull().any(),test.isnull().any()"
   ]
  },
  {
   "cell_type": "code",
   "execution_count": 6,
   "id": "e4c6a86a",
   "metadata": {
    "id": "NLlO7GHAFu6-"
   },
   "outputs": [],
   "source": [
    "classes = [\"toxic\", \"severe_toxic\", \"obscene\", \"threat\", \"insult\", \"identity_hate\"]\n",
    "y = train[classes].values\n",
    "list_sentences_train = train[\"comment_text\"]\n",
    "list_sentences_test = test[\"comment_text\"]"
   ]
  },
  {
   "cell_type": "code",
   "execution_count": 7,
   "id": "378521ad",
   "metadata": {
    "id": "s05dhgB-FiWX"
   },
   "outputs": [],
   "source": [
    "from keras.preprocessing.text import Tokenizer"
   ]
  },
  {
   "cell_type": "code",
   "execution_count": 8,
   "id": "e488c1f1",
   "metadata": {
    "id": "6baQPSdkFnEo"
   },
   "outputs": [],
   "source": [
    "max_features = 20000\n",
    "tokenizer = Tokenizer(num_words=max_features)\n",
    "tokenizer.fit_on_texts(list(list_sentences_train))\n",
    "list_tokenized_train = tokenizer.texts_to_sequences(list_sentences_train)\n",
    "list_tokenized_test = tokenizer.texts_to_sequences(list_sentences_test)"
   ]
  },
  {
   "cell_type": "code",
   "execution_count": 9,
   "id": "ebb5e498",
   "metadata": {
    "id": "0pRrAJ7pFxmX"
   },
   "outputs": [],
   "source": [
    "from keras.preprocessing.sequence import pad_sequences"
   ]
  },
  {
   "cell_type": "code",
   "execution_count": 10,
   "id": "8b3ada1c",
   "metadata": {
    "id": "UREu7LA_F4lU"
   },
   "outputs": [],
   "source": [
    "maxlen = 200\n",
    "X_t = pad_sequences(list_tokenized_train, maxlen=maxlen)\n",
    "X_te = pad_sequences(list_tokenized_test, maxlen=maxlen)"
   ]
  },
  {
   "cell_type": "code",
   "execution_count": 11,
   "id": "f6ca94c8",
   "metadata": {
    "id": "TMYlPdC4JzXL"
   },
   "outputs": [],
   "source": [
    "gl_path = '/content/drive/My Drive/Colab_data/Data_Mining/Data-Mining-Project/embeddings/glove.twitter.27B.25d.txt'\n",
    "ft_path = '/content/drive/My Drive/Colab_data/Data_Mining/Data-Mining-Project/embeddings/wiki.simple.vec'\n",
    "wv_path = '/content/drive/My Drive/Colab_data/Data_Mining/Data-Mining-Project/embeddings/GoogleNews-vectors-negative300.bin'"
   ]
  },
  {
   "cell_type": "code",
   "execution_count": 12,
   "id": "40f33a74",
   "metadata": {
    "id": "hZsMt6ihHS4i"
   },
   "outputs": [],
   "source": [
    "import gensim.models.keyedvectors as word2vec\n",
    "import gc"
   ]
  },
  {
   "cell_type": "code",
   "execution_count": 32,
   "id": "15b75f77",
   "metadata": {
    "id": "jHtWe2E1F7BB"
   },
   "outputs": [],
   "source": [
    "def loadEmbeddingMatrix(typeToLoad):\n",
    "        #load different embedding file from Kaggle depending on which embedding \n",
    "        #matrix we are going to experiment with\n",
    "        if(typeToLoad==\"glove\"):\n",
    "            EMBEDDING_FILE=gl_path\n",
    "            embed_size = 25\n",
    "        elif(typeToLoad==\"word2vec\"):\n",
    "            word2vecDict = word2vec.KeyedVectors.load_word2vec_format(wv_path, binary=True)\n",
    "            embed_size = 300\n",
    "        elif(typeToLoad==\"fasttext\"):\n",
    "            EMBEDDING_FILE=ft_path\n",
    "            embed_size = 300\n",
    "\n",
    "        if(typeToLoad==\"glove\" or typeToLoad==\"fasttext\" ):\n",
    "            embeddings_index = dict()\n",
    "            #Transfer the embedding weights into a dictionary by iterating through every line of the file.\n",
    "            f = open(EMBEDDING_FILE)\n",
    "            for line in f:\n",
    "                #split up line into an indexed array\n",
    "                values = line.split()\n",
    "                #first index is word\n",
    "                word = values[0]\n",
    "                #store the rest of the values in the array as a new array\n",
    "                try:\n",
    "                  coefs = np.asarray(values[1:], dtype='float32')\n",
    "                except:\n",
    "                  continue\n",
    "                if len(coefs) != 300:\n",
    "                  continue\n",
    "                embeddings_index[word] = coefs #50 dimensions\n",
    "                \n",
    "            f.close()\n",
    "            print('Loaded %s word vectors.' % len(embeddings_index))\n",
    "        else:\n",
    "            embeddings_index = dict()\n",
    "            for word in word2vecDict.wv.vocab:\n",
    "                embeddings_index[word] = word2vecDict.word_vec(word)\n",
    "            print('Loaded %s word vectors.' % len(embeddings_index))\n",
    "            \n",
    "        gc.collect()\n",
    "        #We get the mean and standard deviation of the embedding weights so that we could maintain the \n",
    "        #same statistics for the rest of our own random generated weights. \n",
    "        all_embs = np.stack(list(embeddings_index.values()))\n",
    "        emb_mean,emb_std = all_embs.mean(), all_embs.std()\n",
    "        \n",
    "        nb_words = len(tokenizer.word_index)\n",
    "        #We are going to set the embedding size to the pretrained dimension as we are replicating it.\n",
    "        #the size will be Number of Words in Vocab X Embedding Size\n",
    "        embedding_matrix = np.random.normal(emb_mean, emb_std, (nb_words, embed_size))\n",
    "        gc.collect()\n",
    "\n",
    "        #With the newly created embedding matrix, we'll fill it up with the words that we have in both \n",
    "        #our own dictionary and loaded pretrained embedding. \n",
    "        embeddedCount = 0\n",
    "        for word, i in tokenizer.word_index.items():\n",
    "            i-=1\n",
    "            #then we see if this word is in glove's dictionary, if yes, get the corresponding weights\n",
    "            embedding_vector = embeddings_index.get(word)\n",
    "            #and store inside the embedding matrix that we will train later on.\n",
    "            if embedding_vector is not None: \n",
    "                embedding_matrix[i] = embedding_vector\n",
    "                embeddedCount+=1\n",
    "        print('total embedded:',embeddedCount,'common words')\n",
    "        \n",
    "        del(embeddings_index)\n",
    "        gc.collect()\n",
    "        \n",
    "        #finally, return the embedding matrix\n",
    "        return embedding_matrix"
   ]
  },
  {
   "cell_type": "code",
   "execution_count": 33,
   "id": "f98dd88d",
   "metadata": {
    "colab": {
     "base_uri": "https://localhost:8080/"
    },
    "id": "m_LCBxmSEW95",
    "outputId": "e6dd12e2-cee7-49e9-8eb1-4338fc5111ba"
   },
   "outputs": [
    {
     "name": "stdout",
     "output_type": "stream",
     "text": [
      "Loaded 110995 word vectors.\n",
      "total embedded: 59312 common words\n"
     ]
    }
   ],
   "source": [
    "embedding_matrix = loadEmbeddingMatrix('fasttext')"
   ]
  },
  {
   "cell_type": "code",
   "execution_count": 34,
   "id": "53f247e8",
   "metadata": {
    "colab": {
     "base_uri": "https://localhost:8080/"
    },
    "id": "irUlyn37Gp0W",
    "outputId": "1e8276f8-0219-4200-dff7-b8558b1be064"
   },
   "outputs": [
    {
     "data": {
      "text/plain": [
       "(221341, 300)"
      ]
     },
     "execution_count": 34,
     "metadata": {
      "tags": []
     },
     "output_type": "execute_result"
    }
   ],
   "source": [
    "embedding_matrix.shape"
   ]
  },
  {
   "cell_type": "code",
   "execution_count": 36,
   "id": "cd27847e",
   "metadata": {
    "id": "XxN-0Icgbp5h"
   },
   "outputs": [],
   "source": [
    "from keras.layers import Dense, Input, LSTM, Embedding, Dropout, Activation\n",
    "from keras.layers import Bidirectional, GlobalMaxPool1D,Bidirectional\n",
    "from keras.models import Model"
   ]
  },
  {
   "cell_type": "code",
   "execution_count": 37,
   "id": "f808f770",
   "metadata": {
    "id": "BcdmD1FnbiRl"
   },
   "outputs": [],
   "source": [
    "inp = Input(shape=(maxlen, ))"
   ]
  },
  {
   "cell_type": "code",
   "execution_count": 39,
   "id": "f0e614ca",
   "metadata": {
    "colab": {
     "base_uri": "https://localhost:8080/"
    },
    "id": "cakxu8f2b1yY",
    "outputId": "d90f0a8f-ec7d-40ba-e658-734cfb29effc"
   },
   "outputs": [
    {
     "name": "stdout",
     "output_type": "stream",
     "text": [
      "WARNING:tensorflow:Layer lstm_layer will not use cuDNN kernel since it doesn't meet the cuDNN kernel criteria. It will use generic GPU kernel as fallback when running on GPU\n",
      "WARNING:tensorflow:Layer lstm_layer will not use cuDNN kernel since it doesn't meet the cuDNN kernel criteria. It will use generic GPU kernel as fallback when running on GPU\n",
      "WARNING:tensorflow:Layer lstm_layer will not use cuDNN kernel since it doesn't meet the cuDNN kernel criteria. It will use generic GPU kernel as fallback when running on GPU\n"
     ]
    }
   ],
   "source": [
    "x = Embedding(len(tokenizer.word_index), embedding_matrix.shape[1],weights=[embedding_matrix],trainable=False)(inp)\n",
    "x = Bidirectional(LSTM(60, return_sequences=True,name='lstm_layer',dropout=0.1,recurrent_dropout=0.1))(x)"
   ]
  },
  {
   "cell_type": "code",
   "execution_count": 40,
   "id": "de56af45",
   "metadata": {
    "id": "DZaoNGqdbr96"
   },
   "outputs": [],
   "source": [
    "x = GlobalMaxPool1D()(x)\n",
    "x = Dropout(0.1)(x)\n",
    "x = Dense(50, activation=\"relu\")(x)\n",
    "x = Dropout(0.1)(x)\n",
    "x = Dense(6, activation=\"sigmoid\")(x)"
   ]
  },
  {
   "cell_type": "code",
   "execution_count": 51,
   "id": "9c320a6a",
   "metadata": {
    "id": "PHhVSB7LelmI"
   },
   "outputs": [],
   "source": [
    "import keras.metrics as metrics"
   ]
  },
  {
   "cell_type": "code",
   "execution_count": 52,
   "id": "65bbfffd",
   "metadata": {
    "id": "PoeXgv3ZcGaF"
   },
   "outputs": [],
   "source": [
    "model = Model(inputs=inp, outputs=x)\n",
    "model.compile(loss='binary_crossentropy',\n",
    "                  optimizer='adam',\n",
    "                  metrics=[\n",
    "                          metrics.MeanSquaredError(),\n",
    "                          metrics.AUC(),\n",
    "                  ])"
   ]
  },
  {
   "cell_type": "code",
   "execution_count": 53,
   "id": "262e435b",
   "metadata": {
    "colab": {
     "base_uri": "https://localhost:8080/"
    },
    "id": "PW7dB94TcHw_",
    "outputId": "68fa9351-adbb-4d9b-a950-2b74b20acecb"
   },
   "outputs": [
    {
     "name": "stdout",
     "output_type": "stream",
     "text": [
      "Model: \"functional_11\"\n",
      "_________________________________________________________________\n",
      "Layer (type)                 Output Shape              Param #   \n",
      "=================================================================\n",
      "input_1 (InputLayer)         [(None, 200)]             0         \n",
      "_________________________________________________________________\n",
      "embedding (Embedding)        (None, 200, 300)          66402300  \n",
      "_________________________________________________________________\n",
      "bidirectional (Bidirectional (None, 200, 120)          173280    \n",
      "_________________________________________________________________\n",
      "global_max_pooling1d_1 (Glob (None, 120)               0         \n",
      "_________________________________________________________________\n",
      "dropout (Dropout)            (None, 120)               0         \n",
      "_________________________________________________________________\n",
      "dense (Dense)                (None, 50)                6050      \n",
      "_________________________________________________________________\n",
      "dropout_1 (Dropout)          (None, 50)                0         \n",
      "_________________________________________________________________\n",
      "dense_1 (Dense)              (None, 6)                 306       \n",
      "=================================================================\n",
      "Total params: 66,581,936\n",
      "Trainable params: 179,636\n",
      "Non-trainable params: 66,402,300\n",
      "_________________________________________________________________\n"
     ]
    }
   ],
   "source": [
    "model.summary()"
   ]
  },
  {
   "cell_type": "code",
   "execution_count": 62,
   "id": "8e86820e",
   "metadata": {
    "id": "xTcX5FYvmZHA"
   },
   "outputs": [],
   "source": [
    "from sklearn.model_selection import train_test_split\n",
    "X_train, X_val, y_train, y_val = train_test_split(X_t,y,test_size=0.2,random_state=1) "
   ]
  },
  {
   "cell_type": "code",
   "execution_count": 59,
   "id": "68867c10",
   "metadata": {
    "colab": {
     "base_uri": "https://localhost:8080/"
    },
    "id": "6ysgA5zncJqG",
    "outputId": "72fa8bee-7c88-4605-e996-b12381a89c14"
   },
   "outputs": [
    {
     "name": "stdout",
     "output_type": "stream",
     "text": [
      "Epoch 1/2\n",
      "998/998 [==============================] - 1347s 1s/step - loss: 0.0667 - mean_squared_error: 0.0173 - auc: 0.9593\n",
      "Epoch 2/2\n",
      "998/998 [==============================] - 1315s 1s/step - loss: 0.0587 - mean_squared_error: 0.0156 - auc: 0.9697\n"
     ]
    }
   ],
   "source": [
    "batch_size = 128\n",
    "epochs = 2\n",
    "hist = model.fit(X_train,y_train, batch_size=batch_size, epochs=epochs)"
   ]
  },
  {
   "cell_type": "code",
   "execution_count": 63,
   "id": "b1ab023d",
   "metadata": {
    "id": "IJdnXFKp1uO1"
   },
   "outputs": [],
   "source": [
    "preds_train = model.predict(X_train)"
   ]
  },
  {
   "cell_type": "code",
   "execution_count": 64,
   "id": "9d575bc5",
   "metadata": {
    "colab": {
     "base_uri": "https://localhost:8080/"
    },
    "id": "FcujEmttF9YV",
    "outputId": "466259f1-6844-40f0-f30e-d35043a51ad2"
   },
   "outputs": [
    {
     "name": "stdout",
     "output_type": "stream",
     "text": [
      "0.9749202734628901\n"
     ]
    }
   ],
   "source": [
    "from sklearn.metrics import roc_auc_score, average_precision_score, accuracy_score\n",
    "\n",
    "print(roc_auc_score(y_train, preds_train))\n"
   ]
  },
  {
   "cell_type": "code",
   "execution_count": 65,
   "id": "bc8bf156",
   "metadata": {
    "colab": {
     "base_uri": "https://localhost:8080/"
    },
    "id": "FVUhIPBGGQpv",
    "outputId": "5737c4e3-1f4c-459d-ddb4-b6a114d08c16"
   },
   "outputs": [
    {
     "name": "stdout",
     "output_type": "stream",
     "text": [
      "0.9693278025347044\n"
     ]
    }
   ],
   "source": [
    "preds_val = model.predict(X_val)\n",
    "print(roc_auc_score(y_val, preds_val))\n"
   ]
  },
  {
   "cell_type": "code",
   "execution_count": 68,
   "id": "63a4e84a",
   "metadata": {
    "id": "VTEKRPU8GR_-"
   },
   "outputs": [],
   "source": [
    "labels = labels[classes]\n",
    "sum_labels=np.sum(labels.values,axis=1)\n",
    "# print(sum_labels)\n",
    "idx=sum_labels>=0\n",
    "y_test = labels[idx]\n",
    "X_test = X_te[idx]"
   ]
  },
  {
   "cell_type": "code",
   "execution_count": 69,
   "id": "c372781d",
   "metadata": {
    "id": "dbNiGXHuGYpq"
   },
   "outputs": [],
   "source": [
    "preds_test = model.predict(X_test)"
   ]
  },
  {
   "cell_type": "code",
   "execution_count": 70,
   "id": "8ed22e21",
   "metadata": {
    "colab": {
     "base_uri": "https://localhost:8080/"
    },
    "id": "ojrhEz03GcM2",
    "outputId": "a4c6591c-a9b7-4fbd-931e-e8f01aa75bbe"
   },
   "outputs": [
    {
     "name": "stdout",
     "output_type": "stream",
     "text": [
      "0.9597581026908394\n"
     ]
    }
   ],
   "source": [
    "print(roc_auc_score(y_test, preds_test))"
   ]
  },
  {
   "cell_type": "code",
   "execution_count": null,
   "id": "fff14547",
   "metadata": {
    "id": "nEl9b6hZKfoB"
   },
   "outputs": [],
   "source": []
  },
  {
   "cell_type": "code",
   "execution_count": null,
   "id": "766c52ac",
   "metadata": {
    "id": "knx58ty-Szcn"
   },
   "outputs": [],
   "source": [
    "! pip install -q kaggle\n",
    "from google.colab import files"
   ]
  },
  {
   "cell_type": "code",
   "execution_count": null,
   "id": "66957aa4",
   "metadata": {
    "colab": {
     "base_uri": "https://localhost:8080/",
     "height": 91,
     "resources": {
      "http://localhost:8080/nbextensions/google.colab/files.js": {
       "data": "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",
       "headers": [
        [
         "content-type",
         "application/javascript"
        ]
       ],
       "ok": true,
       "status": 200,
       "status_text": ""
      }
     }
    },
    "id": "o60sv_NKTK4h",
    "outputId": "2132f730-5592-4269-edbd-d9b412ca794c"
   },
   "outputs": [
    {
     "data": {
      "text/html": [
       "\n",
       "     <input type=\"file\" id=\"files-9abecb6a-05b6-4847-a111-b8947765fa39\" name=\"files[]\" multiple disabled\n",
       "        style=\"border:none\" />\n",
       "     <output id=\"result-9abecb6a-05b6-4847-a111-b8947765fa39\">\n",
       "      Upload widget is only available when the cell has been executed in the\n",
       "      current browser session. Please rerun this cell to enable.\n",
       "      </output>\n",
       "      <script src=\"/nbextensions/google.colab/files.js\"></script> "
      ],
      "text/plain": [
       "<IPython.core.display.HTML object>"
      ]
     },
     "metadata": {
      "tags": []
     },
     "output_type": "display_data"
    },
    {
     "name": "stdout",
     "output_type": "stream",
     "text": [
      "Saving kaggle.json to kaggle.json\n"
     ]
    },
    {
     "data": {
      "text/plain": [
       "{'kaggle.json': b'{\"username\":\"mrsac7\",\"key\":\"be4113ab127cc8c88b17f730d0bcf093\"}'}"
      ]
     },
     "execution_count": 18,
     "metadata": {
      "tags": []
     },
     "output_type": "execute_result"
    }
   ],
   "source": [
    "files.upload()"
   ]
  },
  {
   "cell_type": "code",
   "execution_count": null,
   "id": "bcdec4ee",
   "metadata": {
    "id": "5Y4DVDTpTVSx"
   },
   "outputs": [],
   "source": [
    "! mkdir ~/.kaggle\n",
    "! cp kaggle.json ~/.kaggle/\n",
    "! chmod 600 ~/.kaggle/kaggle.json\n",
    "! kaggle datasets list"
   ]
  },
  {
   "cell_type": "code",
   "execution_count": null,
   "id": "9a7034a6",
   "metadata": {
    "colab": {
     "base_uri": "https://localhost:8080/"
    },
    "id": "Ai9NCpsCUiWH",
    "outputId": "78b112f4-76ec-4f68-b881-1a0dbeab1104"
   },
   "outputs": [
    {
     "name": "stdout",
     "output_type": "stream",
     "text": [
      "Downloading fasttext.zip to /content\n",
      " 99% 105M/107M [00:01<00:00, 77.2MB/s] \n",
      "100% 107M/107M [00:01<00:00, 81.7MB/s]\n"
     ]
    }
   ],
   "source": [
    "! kaggle datasets download -d vsmolyakov/fasttext"
   ]
  },
  {
   "cell_type": "code",
   "execution_count": 1,
   "id": "d8e7c97e",
   "metadata": {
    "colab": {
     "base_uri": "https://localhost:8080/"
    },
    "id": "ikS_s1etVKLB",
    "outputId": "aea77760-9cfb-4df1-8fb2-2176487a12cf"
   },
   "outputs": [
    {
     "name": "stdout",
     "output_type": "stream",
     "text": [
      "unzip:  cannot find or open fasttext.zip, fasttext.zip.zip or fasttext.zip.ZIP.\n"
     ]
    }
   ],
   "source": [
    "! unzip fasttext.zip -d \"/content/drive/My Drive/Colab_data/Data_Mining/Data-Mining-Project/embeddings\""
   ]
  },
  {
   "cell_type": "code",
   "execution_count": 7,
   "id": "8084f7b9",
   "metadata": {
    "id": "W9pOCWgh8Sw7"
   },
   "outputs": [],
   "source": [
    "path='/content/drive/My Drive/Colab_data/Data_Mining/Data-Mining-Project/dataset/'"
   ]
  },
  {
   "cell_type": "code",
   "execution_count": null,
   "id": "15d63563",
   "metadata": {
    "id": "6SUvRsF19hD3"
   },
   "outputs": [],
   "source": [
    "\"\"\"Un-Comment For Running locally out of colab\n",
    "path='./dataset'\n",
    "\"\"\"#Un-Comment For Running locally out of colab "
   ]
  },
  {
   "cell_type": "code",
   "execution_count": 8,
   "id": "d2f619a4",
   "metadata": {
    "id": "dP6ftkHZ9jCE"
   },
   "outputs": [],
   "source": [
    "import pandas as pd\n",
    "import numpy as np"
   ]
  },
  {
   "cell_type": "code",
   "execution_count": 9,
   "id": "df7a8afc",
   "metadata": {
    "id": "FQiSVjyj9luT"
   },
   "outputs": [],
   "source": [
    "train = pd.read_csv(path+\"train.csv\")\n",
    "test = pd.read_csv(path+\"test.csv\")\n",
    "labels = pd.read_csv(path+\"test_labels.csv\")"
   ]
  },
  {
   "cell_type": "code",
   "execution_count": null,
   "id": "3ececdaf",
   "metadata": {
    "colab": {
     "base_uri": "https://localhost:8080/",
     "height": 195
    },
    "id": "C1PUU_z_9pCR",
    "outputId": "dd5de290-35b9-4ca3-80c2-86534dbbcd7e"
   },
   "outputs": [
    {
     "data": {
      "text/html": [
       "<div>\n",
       "<style scoped>\n",
       "    .dataframe tbody tr th:only-of-type {\n",
       "        vertical-align: middle;\n",
       "    }\n",
       "\n",
       "    .dataframe tbody tr th {\n",
       "        vertical-align: top;\n",
       "    }\n",
       "\n",
       "    .dataframe thead th {\n",
       "        text-align: right;\n",
       "    }\n",
       "</style>\n",
       "<table border=\"1\" class=\"dataframe\">\n",
       "  <thead>\n",
       "    <tr style=\"text-align: right;\">\n",
       "      <th></th>\n",
       "      <th>id</th>\n",
       "      <th>comment_text</th>\n",
       "      <th>toxic</th>\n",
       "      <th>severe_toxic</th>\n",
       "      <th>obscene</th>\n",
       "      <th>threat</th>\n",
       "      <th>insult</th>\n",
       "      <th>identity_hate</th>\n",
       "    </tr>\n",
       "  </thead>\n",
       "  <tbody>\n",
       "    <tr>\n",
       "      <th>0</th>\n",
       "      <td>0000997932d777bf</td>\n",
       "      <td>Explanation\\r\\nWhy the edits made under my use...</td>\n",
       "      <td>0</td>\n",
       "      <td>0</td>\n",
       "      <td>0</td>\n",
       "      <td>0</td>\n",
       "      <td>0</td>\n",
       "      <td>0</td>\n",
       "    </tr>\n",
       "    <tr>\n",
       "      <th>1</th>\n",
       "      <td>000103f0d9cfb60f</td>\n",
       "      <td>D'aww! He matches this background colour I'm s...</td>\n",
       "      <td>0</td>\n",
       "      <td>0</td>\n",
       "      <td>0</td>\n",
       "      <td>0</td>\n",
       "      <td>0</td>\n",
       "      <td>0</td>\n",
       "    </tr>\n",
       "    <tr>\n",
       "      <th>2</th>\n",
       "      <td>000113f07ec002fd</td>\n",
       "      <td>Hey man, I'm really not trying to edit war. It...</td>\n",
       "      <td>0</td>\n",
       "      <td>0</td>\n",
       "      <td>0</td>\n",
       "      <td>0</td>\n",
       "      <td>0</td>\n",
       "      <td>0</td>\n",
       "    </tr>\n",
       "    <tr>\n",
       "      <th>3</th>\n",
       "      <td>0001b41b1c6bb37e</td>\n",
       "      <td>\"\\r\\nMore\\r\\nI can't make any real suggestions...</td>\n",
       "      <td>0</td>\n",
       "      <td>0</td>\n",
       "      <td>0</td>\n",
       "      <td>0</td>\n",
       "      <td>0</td>\n",
       "      <td>0</td>\n",
       "    </tr>\n",
       "    <tr>\n",
       "      <th>4</th>\n",
       "      <td>0001d958c54c6e35</td>\n",
       "      <td>You, sir, are my hero. Any chance you remember...</td>\n",
       "      <td>0</td>\n",
       "      <td>0</td>\n",
       "      <td>0</td>\n",
       "      <td>0</td>\n",
       "      <td>0</td>\n",
       "      <td>0</td>\n",
       "    </tr>\n",
       "  </tbody>\n",
       "</table>\n",
       "</div>"
      ],
      "text/plain": [
       "                 id  ... identity_hate\n",
       "0  0000997932d777bf  ...             0\n",
       "1  000103f0d9cfb60f  ...             0\n",
       "2  000113f07ec002fd  ...             0\n",
       "3  0001b41b1c6bb37e  ...             0\n",
       "4  0001d958c54c6e35  ...             0\n",
       "\n",
       "[5 rows x 8 columns]"
      ]
     },
     "execution_count": 4,
     "metadata": {
      "tags": []
     },
     "output_type": "execute_result"
    }
   ],
   "source": [
    "train.head()"
   ]
  },
  {
   "cell_type": "code",
   "execution_count": null,
   "id": "0e77a4d0",
   "metadata": {
    "colab": {
     "base_uri": "https://localhost:8080/"
    },
    "id": "tGUw11rI9q7S",
    "outputId": "6bd02d6a-ed6a-4a45-a8a5-22c8e61ab59f"
   },
   "outputs": [
    {
     "data": {
      "text/plain": [
       "(id               False\n",
       " comment_text     False\n",
       " toxic            False\n",
       " severe_toxic     False\n",
       " obscene          False\n",
       " threat           False\n",
       " insult           False\n",
       " identity_hate    False\n",
       " dtype: bool, id              False\n",
       " comment_text    False\n",
       " dtype: bool)"
      ]
     },
     "execution_count": 5,
     "metadata": {
      "tags": []
     },
     "output_type": "execute_result"
    }
   ],
   "source": [
    "train.isnull().any(),test.isnull().any()"
   ]
  },
  {
   "cell_type": "code",
   "execution_count": 10,
   "id": "c790a11a",
   "metadata": {
    "id": "NLlO7GHAFu6-"
   },
   "outputs": [],
   "source": [
    "classes = [\"toxic\", \"severe_toxic\", \"obscene\", \"threat\", \"insult\", \"identity_hate\"]\n",
    "y = train[classes].values\n",
    "list_sentences_train = train[\"comment_text\"]\n",
    "list_sentences_test = test[\"comment_text\"]"
   ]
  },
  {
   "cell_type": "code",
   "execution_count": 11,
   "id": "dee195b0",
   "metadata": {
    "id": "s05dhgB-FiWX"
   },
   "outputs": [],
   "source": [
    "from keras.preprocessing.text import Tokenizer"
   ]
  },
  {
   "cell_type": "code",
   "execution_count": 12,
   "id": "d1177e80",
   "metadata": {
    "id": "6baQPSdkFnEo"
   },
   "outputs": [],
   "source": [
    "max_features = 20000\n",
    "tokenizer = Tokenizer(num_words=max_features)\n",
    "tokenizer.fit_on_texts(list(list_sentences_train))\n",
    "list_tokenized_train = tokenizer.texts_to_sequences(list_sentences_train)\n",
    "list_tokenized_test = tokenizer.texts_to_sequences(list_sentences_test)"
   ]
  },
  {
   "cell_type": "code",
   "execution_count": 13,
   "id": "d2353801",
   "metadata": {
    "id": "0pRrAJ7pFxmX"
   },
   "outputs": [],
   "source": [
    "from keras.preprocessing.sequence import pad_sequences"
   ]
  },
  {
   "cell_type": "code",
   "execution_count": 14,
   "id": "6c0c58eb",
   "metadata": {
    "id": "UREu7LA_F4lU"
   },
   "outputs": [],
   "source": [
    "maxlen = 200\n",
    "X_t = pad_sequences(list_tokenized_train, maxlen=maxlen)\n",
    "X_te = pad_sequences(list_tokenized_test, maxlen=maxlen)"
   ]
  },
  {
   "cell_type": "code",
   "execution_count": 15,
   "id": "387db03b",
   "metadata": {
    "id": "TMYlPdC4JzXL"
   },
   "outputs": [],
   "source": [
    "gl_path = '/content/drive/My Drive/Colab_data/Data_Mining/Data-Mining-Project/embeddings/glove.twitter.27B.25d.txt'\n",
    "ft_path = '/content/drive/My Drive/Colab_data/Data_Mining/Data-Mining-Project/embeddings/wiki.simple.vec'\n",
    "wv_path = '/content/drive/My Drive/Colab_data/Data_Mining/Data-Mining-Project/embeddings/GoogleNews-vectors-negative300.bin'"
   ]
  },
  {
   "cell_type": "code",
   "execution_count": 16,
   "id": "41b385c9",
   "metadata": {
    "id": "hZsMt6ihHS4i"
   },
   "outputs": [],
   "source": [
    "import gensim.models.keyedvectors as word2vec\n",
    "import gc"
   ]
  },
  {
   "cell_type": "code",
   "execution_count": 21,
   "id": "63b57602",
   "metadata": {
    "id": "jHtWe2E1F7BB"
   },
   "outputs": [],
   "source": [
    "def loadEmbeddingMatrix(typeToLoad):\n",
    "        if(typeToLoad==\"glove\"):\n",
    "            EMBEDDING_FILE=gl_path\n",
    "            embed_size = 25\n",
    "        elif(typeToLoad==\"word2vec\"):\n",
    "            word2vecDict = word2vec.KeyedVectors.load_word2vec_format(wv_path, binary=True)\n",
    "            embed_size = 300\n",
    "        elif(typeToLoad==\"fasttext\"):\n",
    "            EMBEDDING_FILE=ft_path\n",
    "            embed_size = 300\n",
    "\n",
    "        if(typeToLoad==\"glove\" or typeToLoad==\"fasttext\" ):\n",
    "            embeddings_index = dict()\n",
    "            f = open(EMBEDDING_FILE)\n",
    "            for line in f:\n",
    "                values = line.split()\n",
    "                word = values[0]\n",
    "                coefs = np.asarray(values[1:], dtype='float32')            \n",
    "                if len(coefs) != 25:\n",
    "                  continue\n",
    "                embeddings_index[word] = coefs\n",
    "                \n",
    "            f.close()\n",
    "            print('Loaded %s word vectors.' % len(embeddings_index))\n",
    "        else:\n",
    "            embeddings_index = dict()\n",
    "            for word in word2vecDict.wv.vocab:\n",
    "                embeddings_index[word] = word2vecDict.word_vec(word)\n",
    "            print('Loaded %s word vectors.' % len(embeddings_index))\n",
    "            \n",
    "        gc.collect()\n",
    "        all_embs = np.stack(list(embeddings_index.values()))\n",
    "        emb_mean,emb_std = all_embs.mean(), all_embs.std()\n",
    "        \n",
    "        nb_words = len(tokenizer.word_index)\n",
    "        embedding_matrix = np.random.normal(emb_mean, emb_std, (nb_words, embed_size))\n",
    "        gc.collect()\n",
    "\n",
    "        embeddedCount = 0\n",
    "        for word, i in tokenizer.word_index.items():\n",
    "            i-=1\n",
    "            embedding_vector = embeddings_index.get(word)\n",
    "            if embedding_vector is not None: \n",
    "                embedding_matrix[i] = embedding_vector\n",
    "                embeddedCount+=1\n",
    "        print('total embedded:',embeddedCount,'common words')\n",
    "        \n",
    "        del(embeddings_index)\n",
    "        gc.collect()\n",
    "        \n",
    "        return embedding_matrix"
   ]
  },
  {
   "cell_type": "code",
   "execution_count": 22,
   "id": "94febc90",
   "metadata": {
    "colab": {
     "base_uri": "https://localhost:8080/"
    },
    "id": "m_LCBxmSEW95",
    "outputId": "9a1e55a8-0929-44a5-e9bc-31c4b62e9e7f"
   },
   "outputs": [
    {
     "name": "stdout",
     "output_type": "stream",
     "text": [
      "Loaded 1193514 word vectors.\n",
      "total embedded: 81129 common words\n"
     ]
    }
   ],
   "source": [
    "embedding_matrix = loadEmbeddingMatrix('glove')"
   ]
  },
  {
   "cell_type": "code",
   "execution_count": 23,
   "id": "e565a280",
   "metadata": {
    "colab": {
     "base_uri": "https://localhost:8080/"
    },
    "id": "irUlyn37Gp0W",
    "outputId": "d6f9103e-c4fb-4184-ead1-bab6be67fd6d"
   },
   "outputs": [
    {
     "data": {
      "text/plain": [
       "(221341, 25)"
      ]
     },
     "execution_count": 23,
     "metadata": {
      "tags": []
     },
     "output_type": "execute_result"
    }
   ],
   "source": [
    "embedding_matrix.shape"
   ]
  },
  {
   "cell_type": "code",
   "execution_count": 24,
   "id": "11d3c2cb",
   "metadata": {
    "id": "XxN-0Icgbp5h"
   },
   "outputs": [],
   "source": [
    "from keras.layers import Dense, Input, LSTM, Embedding, Dropout, Activation\n",
    "from keras.layers import Bidirectional, GlobalMaxPool1D,Bidirectional\n",
    "from keras.models import Model"
   ]
  },
  {
   "cell_type": "code",
   "execution_count": 25,
   "id": "230c957d",
   "metadata": {
    "id": "BcdmD1FnbiRl"
   },
   "outputs": [],
   "source": [
    "inp = Input(shape=(maxlen, ))"
   ]
  },
  {
   "cell_type": "code",
   "execution_count": 26,
   "id": "561dcb1d",
   "metadata": {
    "colab": {
     "base_uri": "https://localhost:8080/"
    },
    "id": "cakxu8f2b1yY",
    "outputId": "0ecf9e11-8b57-4882-978b-8bedeb9f410c"
   },
   "outputs": [
    {
     "name": "stdout",
     "output_type": "stream",
     "text": [
      "WARNING:tensorflow:Layer lstm_layer will not use cuDNN kernel since it doesn't meet the cuDNN kernel criteria. It will use generic GPU kernel as fallback when running on GPU\n",
      "WARNING:tensorflow:Layer lstm_layer will not use cuDNN kernel since it doesn't meet the cuDNN kernel criteria. It will use generic GPU kernel as fallback when running on GPU\n",
      "WARNING:tensorflow:Layer lstm_layer will not use cuDNN kernel since it doesn't meet the cuDNN kernel criteria. It will use generic GPU kernel as fallback when running on GPU\n"
     ]
    }
   ],
   "source": [
    "x = Embedding(len(tokenizer.word_index), embedding_matrix.shape[1],weights=[embedding_matrix],trainable=False)(inp)\n",
    "x = Bidirectional(LSTM(60, return_sequences=True,name='lstm_layer',dropout=0.1,recurrent_dropout=0.1))(x)"
   ]
  },
  {
   "cell_type": "code",
   "execution_count": 27,
   "id": "55bb446b",
   "metadata": {
    "id": "DZaoNGqdbr96"
   },
   "outputs": [],
   "source": [
    "x = GlobalMaxPool1D()(x)\n",
    "x = Dropout(0.1)(x)\n",
    "x = Dense(50, activation=\"relu\")(x)\n",
    "x = Dropout(0.1)(x)\n",
    "x = Dense(6, activation=\"sigmoid\")(x)"
   ]
  },
  {
   "cell_type": "code",
   "execution_count": 28,
   "id": "59027a48",
   "metadata": {
    "id": "PHhVSB7LelmI"
   },
   "outputs": [],
   "source": [
    "import keras.metrics as metrics"
   ]
  },
  {
   "cell_type": "code",
   "execution_count": 29,
   "id": "472699b1",
   "metadata": {
    "id": "PoeXgv3ZcGaF"
   },
   "outputs": [],
   "source": [
    "model = Model(inputs=inp, outputs=x)\n",
    "model.compile(loss='binary_crossentropy',\n",
    "                  optimizer='adam',\n",
    "                  metrics=[\n",
    "                          metrics.MeanSquaredError(),\n",
    "                          metrics.AUC(),\n",
    "                  ])"
   ]
  },
  {
   "cell_type": "code",
   "execution_count": 30,
   "id": "2a74b1af",
   "metadata": {
    "colab": {
     "base_uri": "https://localhost:8080/"
    },
    "id": "PW7dB94TcHw_",
    "outputId": "43cca106-5111-4b1a-d60e-ef30aa24fc50"
   },
   "outputs": [
    {
     "name": "stdout",
     "output_type": "stream",
     "text": [
      "Model: \"functional_1\"\n",
      "_________________________________________________________________\n",
      "Layer (type)                 Output Shape              Param #   \n",
      "=================================================================\n",
      "input_1 (InputLayer)         [(None, 200)]             0         \n",
      "_________________________________________________________________\n",
      "embedding (Embedding)        (None, 200, 25)           5533525   \n",
      "_________________________________________________________________\n",
      "bidirectional (Bidirectional (None, 200, 120)          41280     \n",
      "_________________________________________________________________\n",
      "global_max_pooling1d (Global (None, 120)               0         \n",
      "_________________________________________________________________\n",
      "dropout (Dropout)            (None, 120)               0         \n",
      "_________________________________________________________________\n",
      "dense (Dense)                (None, 50)                6050      \n",
      "_________________________________________________________________\n",
      "dropout_1 (Dropout)          (None, 50)                0         \n",
      "_________________________________________________________________\n",
      "dense_1 (Dense)              (None, 6)                 306       \n",
      "=================================================================\n",
      "Total params: 5,581,161\n",
      "Trainable params: 47,636\n",
      "Non-trainable params: 5,533,525\n",
      "_________________________________________________________________\n"
     ]
    }
   ],
   "source": [
    "model.summary()"
   ]
  },
  {
   "cell_type": "code",
   "execution_count": 31,
   "id": "55c98fcd",
   "metadata": {
    "id": "xTcX5FYvmZHA"
   },
   "outputs": [],
   "source": [
    "from sklearn.model_selection import train_test_split\n",
    "X_train, X_val, y_train, y_val = train_test_split(X_t,y,test_size=0.2,random_state=1) "
   ]
  },
  {
   "cell_type": "code",
   "execution_count": 32,
   "id": "13c329a7",
   "metadata": {
    "colab": {
     "base_uri": "https://localhost:8080/"
    },
    "id": "6ysgA5zncJqG",
    "outputId": "64f228eb-0709-4692-e3dc-4c612308871e"
   },
   "outputs": [
    {
     "name": "stdout",
     "output_type": "stream",
     "text": [
      "Epoch 1/2\n",
      "998/998 [==============================] - 1320s 1s/step - loss: 0.1332 - mean_squared_error: 0.0337 - auc: 0.8191\n",
      "Epoch 2/2\n",
      "998/998 [==============================] - 1316s 1s/step - loss: 0.1020 - mean_squared_error: 0.0261 - auc: 0.9009\n"
     ]
    }
   ],
   "source": [
    "batch_size = 128\n",
    "epochs = 2\n",
    "hist = model.fit(X_train,y_train, batch_size=batch_size, epochs=epochs)"
   ]
  },
  {
   "cell_type": "code",
   "execution_count": 33,
   "id": "c50ddca3",
   "metadata": {
    "id": "IJdnXFKp1uO1"
   },
   "outputs": [],
   "source": [
    "preds_train = model.predict(X_train)"
   ]
  },
  {
   "cell_type": "code",
   "execution_count": 40,
   "id": "39e2330c",
   "metadata": {
    "colab": {
     "base_uri": "https://localhost:8080/"
    },
    "id": "FcujEmttF9YV",
    "outputId": "cd59c66d-7863-414b-dfe8-4c837fcdf3da"
   },
   "outputs": [
    {
     "name": "stdout",
     "output_type": "stream",
     "text": [
      "0.9090511169025106\n"
     ]
    }
   ],
   "source": [
    "from sklearn.metrics import roc_auc_score, average_precision_score, accuracy_score\n",
    "\n",
    "print(roc_auc_score(y_train, preds_train))"
   ]
  },
  {
   "cell_type": "code",
   "execution_count": null,
   "id": "156ed3b8",
   "metadata": {
    "id": "FVUhIPBGGQpv"
   },
   "outputs": [],
   "source": [
    "preds_val = model.predict(X_val)\n",
    "print(roc_auc_score(y_val, preds_val))"
   ]
  },
  {
   "cell_type": "code",
   "execution_count": 36,
   "id": "3edd854b",
   "metadata": {
    "id": "VTEKRPU8GR_-"
   },
   "outputs": [],
   "source": [
    "labels = labels[classes]\n",
    "sum_labels=np.sum(labels.values,axis=1)\n",
    "# print(sum_labels)\n",
    "idx=sum_labels>=0\n",
    "y_test = labels[idx]\n",
    "X_test = X_te[idx]"
   ]
  },
  {
   "cell_type": "code",
   "execution_count": 37,
   "id": "eb63230d",
   "metadata": {
    "id": "dbNiGXHuGYpq"
   },
   "outputs": [],
   "source": [
    "preds_test = model.predict(X_test)"
   ]
  },
  {
   "cell_type": "code",
   "execution_count": 39,
   "id": "5b00dfe4",
   "metadata": {
    "colab": {
     "base_uri": "https://localhost:8080/"
    },
    "id": "ojrhEz03GcM2",
    "outputId": "a84bfcf4-b7f1-4c74-eaa7-865ab659513c"
   },
   "outputs": [
    {
     "name": "stdout",
     "output_type": "stream",
     "text": [
      "0.8811114910371503\n"
     ]
    }
   ],
   "source": [
    "print(roc_auc_score(y_test, preds_test))"
   ]
  },
  {
   "cell_type": "code",
   "execution_count": null,
   "id": "60769844",
   "metadata": {
    "id": "knx58ty-Szcn"
   },
   "outputs": [],
   "source": [
    "! pip install -q kaggle\n",
    "from google.colab import files"
   ]
  },
  {
   "cell_type": "code",
   "execution_count": 16,
   "id": "e5f534e7",
   "metadata": {
    "id": "cKNfHTmQTWAM"
   },
   "outputs": [],
   "source": [
    "import requests  \n",
    "file_url = \"http://vectors.nlpl.eu/repository/20/2.zip\"\n",
    "    \n",
    "r = requests.get(file_url, stream = True)  \n",
    "  \n",
    "with open(\"/content/drive/My Drive/2.zip\", \"wb\") as file:  \n",
    "    for block in r.iter_content(chunk_size = 1024): \n",
    "         if block:  \n",
    "             file.write(block)  "
   ]
  },
  {
   "cell_type": "code",
   "execution_count": null,
   "id": "2c9a5eec",
   "metadata": {
    "colab": {
     "base_uri": "https://localhost:8080/",
     "height": 91,
     "resources": {
      "http://localhost:8080/nbextensions/google.colab/files.js": {
       "data": "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",
       "headers": [
        [
         "content-type",
         "application/javascript"
        ]
       ],
       "ok": true,
       "status": 200,
       "status_text": ""
      }
     }
    },
    "id": "o60sv_NKTK4h",
    "outputId": "2132f730-5592-4269-edbd-d9b412ca794c"
   },
   "outputs": [
    {
     "data": {
      "text/html": [
       "\n",
       "     <input type=\"file\" id=\"files-9abecb6a-05b6-4847-a111-b8947765fa39\" name=\"files[]\" multiple disabled\n",
       "        style=\"border:none\" />\n",
       "     <output id=\"result-9abecb6a-05b6-4847-a111-b8947765fa39\">\n",
       "      Upload widget is only available when the cell has been executed in the\n",
       "      current browser session. Please rerun this cell to enable.\n",
       "      </output>\n",
       "      <script src=\"/nbextensions/google.colab/files.js\"></script> "
      ],
      "text/plain": [
       "<IPython.core.display.HTML object>"
      ]
     },
     "metadata": {
      "tags": []
     },
     "output_type": "display_data"
    },
    {
     "name": "stdout",
     "output_type": "stream",
     "text": [
      "Saving kaggle.json to kaggle.json\n"
     ]
    },
    {
     "data": {
      "text/plain": [
       "{'kaggle.json': b'{\"username\":\"mrsac7\",\"key\":\"be4113ab127cc8c88b17f730d0bcf093\"}'}"
      ]
     },
     "execution_count": 18,
     "metadata": {
      "tags": []
     },
     "output_type": "execute_result"
    }
   ],
   "source": [
    "files.upload()"
   ]
  },
  {
   "cell_type": "code",
   "execution_count": null,
   "id": "bf33777e",
   "metadata": {
    "id": "5Y4DVDTpTVSx"
   },
   "outputs": [],
   "source": [
    "! mkdir ~/.kaggle\n",
    "! cp kaggle.json ~/.kaggle/\n",
    "! chmod 600 ~/.kaggle/kaggle.json\n",
    "! kaggle datasets list"
   ]
  },
  {
   "cell_type": "code",
   "execution_count": null,
   "id": "eafb61ff",
   "metadata": {
    "colab": {
     "base_uri": "https://localhost:8080/"
    },
    "id": "Ai9NCpsCUiWH",
    "outputId": "78b112f4-76ec-4f68-b881-1a0dbeab1104"
   },
   "outputs": [
    {
     "name": "stdout",
     "output_type": "stream",
     "text": [
      "Downloading fasttext.zip to /content\n",
      " 99% 105M/107M [00:01<00:00, 77.2MB/s] \n",
      "100% 107M/107M [00:01<00:00, 81.7MB/s]\n"
     ]
    }
   ],
   "source": [
    "! kaggle datasets download -d vsmolyakov/fasttext"
   ]
  },
  {
   "cell_type": "code",
   "execution_count": 17,
   "id": "9cc9ed89",
   "metadata": {
    "colab": {
     "base_uri": "https://localhost:8080/"
    },
    "id": "ikS_s1etVKLB",
    "outputId": "5b508286-3e8d-4716-e223-1b095e1814b0"
   },
   "outputs": [
    {
     "name": "stdout",
     "output_type": "stream",
     "text": [
      "Archive:  /content/drive/My Drive/2.zip\n",
      "replace /content/drive/My Drive/Colab_data/Data_Mining/Data-Mining-Project/embeddings/meta.json? [y]es, [n]o, [A]ll, [N]one, [r]ename: y a\n",
      "  inflating: /content/drive/My Drive/Colab_data/Data_Mining/Data-Mining-Project/embeddings/meta.json  \n",
      "replace /content/drive/My Drive/Colab_data/Data_Mining/Data-Mining-Project/embeddings/model.bin? [y]es, [n]o, [A]ll, [N]one, [r]ename: a\n",
      "error:  invalid response [a]\n",
      "replace /content/drive/My Drive/Colab_data/Data_Mining/Data-Mining-Project/embeddings/model.bin? [y]es, [n]o, [A]ll, [N]one, [r]ename: y\n",
      "  inflating: /content/drive/My Drive/Colab_data/Data_Mining/Data-Mining-Project/embeddings/model.bin  y\n",
      "\n",
      "replace /content/drive/My Drive/Colab_data/Data_Mining/Data-Mining-Project/embeddings/model.txt? [y]es, [n]o, [A]ll, [N]one, [r]ename:   inflating: /content/drive/My Drive/Colab_data/Data_Mining/Data-Mining-Project/embeddings/model.txt  y\n",
      "y\n",
      "y\n",
      "\n",
      "\n",
      "replace /content/drive/My Drive/Colab_data/Data_Mining/Data-Mining-Project/embeddings/README? [y]es, [n]o, [A]ll, [N]one, [r]ename:   inflating: /content/drive/My Drive/Colab_data/Data_Mining/Data-Mining-Project/embeddings/README  \n"
     ]
    }
   ],
   "source": [
    "! unzip \"/content/drive/My Drive/2.zip\" -d \"/content/drive/My Drive/Colab_data/Data_Mining/Data-Mining-Project/embeddings\""
   ]
  },
  {
   "cell_type": "code",
   "execution_count": 18,
   "id": "03d5cfdb",
   "metadata": {
    "id": "W9pOCWgh8Sw7"
   },
   "outputs": [],
   "source": [
    "path='/content/drive/My Drive/Colab_data/Data_Mining/Data-Mining-Project/dataset/'"
   ]
  },
  {
   "cell_type": "code",
   "execution_count": null,
   "id": "73028699",
   "metadata": {
    "id": "6SUvRsF19hD3"
   },
   "outputs": [],
   "source": [
    "\"\"\"Un-Comment For Running locally out of colab\n",
    "path='./dataset'\n",
    "\"\"\"#Un-Comment For Running locally out of colab "
   ]
  },
  {
   "cell_type": "code",
   "execution_count": 6,
   "id": "5a3a9741",
   "metadata": {
    "id": "dP6ftkHZ9jCE"
   },
   "outputs": [],
   "source": [
    "import pandas as pd\n",
    "import numpy as np"
   ]
  },
  {
   "cell_type": "code",
   "execution_count": 8,
   "id": "8a10a0d7",
   "metadata": {
    "id": "FQiSVjyj9luT"
   },
   "outputs": [],
   "source": [
    "train = pd.read_csv(path+\"train.csv\")\n",
    "test = pd.read_csv(path+\"test.csv\")\n",
    "labels = pd.read_csv(path+\"test_labels.csv\")"
   ]
  },
  {
   "cell_type": "code",
   "execution_count": null,
   "id": "92a2377b",
   "metadata": {
    "colab": {
     "base_uri": "https://localhost:8080/",
     "height": 195
    },
    "id": "C1PUU_z_9pCR",
    "outputId": "dd5de290-35b9-4ca3-80c2-86534dbbcd7e"
   },
   "outputs": [
    {
     "data": {
      "text/html": [
       "<div>\n",
       "<style scoped>\n",
       "    .dataframe tbody tr th:only-of-type {\n",
       "        vertical-align: middle;\n",
       "    }\n",
       "\n",
       "    .dataframe tbody tr th {\n",
       "        vertical-align: top;\n",
       "    }\n",
       "\n",
       "    .dataframe thead th {\n",
       "        text-align: right;\n",
       "    }\n",
       "</style>\n",
       "<table border=\"1\" class=\"dataframe\">\n",
       "  <thead>\n",
       "    <tr style=\"text-align: right;\">\n",
       "      <th></th>\n",
       "      <th>id</th>\n",
       "      <th>comment_text</th>\n",
       "      <th>toxic</th>\n",
       "      <th>severe_toxic</th>\n",
       "      <th>obscene</th>\n",
       "      <th>threat</th>\n",
       "      <th>insult</th>\n",
       "      <th>identity_hate</th>\n",
       "    </tr>\n",
       "  </thead>\n",
       "  <tbody>\n",
       "    <tr>\n",
       "      <th>0</th>\n",
       "      <td>0000997932d777bf</td>\n",
       "      <td>Explanation\\r\\nWhy the edits made under my use...</td>\n",
       "      <td>0</td>\n",
       "      <td>0</td>\n",
       "      <td>0</td>\n",
       "      <td>0</td>\n",
       "      <td>0</td>\n",
       "      <td>0</td>\n",
       "    </tr>\n",
       "    <tr>\n",
       "      <th>1</th>\n",
       "      <td>000103f0d9cfb60f</td>\n",
       "      <td>D'aww! He matches this background colour I'm s...</td>\n",
       "      <td>0</td>\n",
       "      <td>0</td>\n",
       "      <td>0</td>\n",
       "      <td>0</td>\n",
       "      <td>0</td>\n",
       "      <td>0</td>\n",
       "    </tr>\n",
       "    <tr>\n",
       "      <th>2</th>\n",
       "      <td>000113f07ec002fd</td>\n",
       "      <td>Hey man, I'm really not trying to edit war. It...</td>\n",
       "      <td>0</td>\n",
       "      <td>0</td>\n",
       "      <td>0</td>\n",
       "      <td>0</td>\n",
       "      <td>0</td>\n",
       "      <td>0</td>\n",
       "    </tr>\n",
       "    <tr>\n",
       "      <th>3</th>\n",
       "      <td>0001b41b1c6bb37e</td>\n",
       "      <td>\"\\r\\nMore\\r\\nI can't make any real suggestions...</td>\n",
       "      <td>0</td>\n",
       "      <td>0</td>\n",
       "      <td>0</td>\n",
       "      <td>0</td>\n",
       "      <td>0</td>\n",
       "      <td>0</td>\n",
       "    </tr>\n",
       "    <tr>\n",
       "      <th>4</th>\n",
       "      <td>0001d958c54c6e35</td>\n",
       "      <td>You, sir, are my hero. Any chance you remember...</td>\n",
       "      <td>0</td>\n",
       "      <td>0</td>\n",
       "      <td>0</td>\n",
       "      <td>0</td>\n",
       "      <td>0</td>\n",
       "      <td>0</td>\n",
       "    </tr>\n",
       "  </tbody>\n",
       "</table>\n",
       "</div>"
      ],
      "text/plain": [
       "                 id  ... identity_hate\n",
       "0  0000997932d777bf  ...             0\n",
       "1  000103f0d9cfb60f  ...             0\n",
       "2  000113f07ec002fd  ...             0\n",
       "3  0001b41b1c6bb37e  ...             0\n",
       "4  0001d958c54c6e35  ...             0\n",
       "\n",
       "[5 rows x 8 columns]"
      ]
     },
     "execution_count": 4,
     "metadata": {
      "tags": []
     },
     "output_type": "execute_result"
    }
   ],
   "source": [
    "train.head()"
   ]
  },
  {
   "cell_type": "code",
   "execution_count": null,
   "id": "d5db6ba5",
   "metadata": {
    "colab": {
     "base_uri": "https://localhost:8080/"
    },
    "id": "tGUw11rI9q7S",
    "outputId": "6bd02d6a-ed6a-4a45-a8a5-22c8e61ab59f"
   },
   "outputs": [
    {
     "data": {
      "text/plain": [
       "(id               False\n",
       " comment_text     False\n",
       " toxic            False\n",
       " severe_toxic     False\n",
       " obscene          False\n",
       " threat           False\n",
       " insult           False\n",
       " identity_hate    False\n",
       " dtype: bool, id              False\n",
       " comment_text    False\n",
       " dtype: bool)"
      ]
     },
     "execution_count": 5,
     "metadata": {
      "tags": []
     },
     "output_type": "execute_result"
    }
   ],
   "source": [
    "train.isnull().any(),test.isnull().any()"
   ]
  },
  {
   "cell_type": "code",
   "execution_count": 9,
   "id": "2aab528c",
   "metadata": {
    "id": "NLlO7GHAFu6-"
   },
   "outputs": [],
   "source": [
    "classes = [\"toxic\", \"severe_toxic\", \"obscene\", \"threat\", \"insult\", \"identity_hate\"]\n",
    "y = train[classes].values\n",
    "list_sentences_train = train[\"comment_text\"]\n",
    "list_sentences_test = test[\"comment_text\"]"
   ]
  },
  {
   "cell_type": "code",
   "execution_count": 10,
   "id": "3697fa9e",
   "metadata": {
    "id": "s05dhgB-FiWX"
   },
   "outputs": [],
   "source": [
    "from keras.preprocessing.text import Tokenizer"
   ]
  },
  {
   "cell_type": "code",
   "execution_count": 11,
   "id": "c36cd3c4",
   "metadata": {
    "id": "6baQPSdkFnEo"
   },
   "outputs": [],
   "source": [
    "max_features = 20000\n",
    "tokenizer = Tokenizer(num_words=max_features)\n",
    "tokenizer.fit_on_texts(list(list_sentences_train))\n",
    "list_tokenized_train = tokenizer.texts_to_sequences(list_sentences_train)\n",
    "list_tokenized_test = tokenizer.texts_to_sequences(list_sentences_test)"
   ]
  },
  {
   "cell_type": "code",
   "execution_count": 12,
   "id": "14744329",
   "metadata": {
    "id": "0pRrAJ7pFxmX"
   },
   "outputs": [],
   "source": [
    "from keras.preprocessing.sequence import pad_sequences"
   ]
  },
  {
   "cell_type": "code",
   "execution_count": 13,
   "id": "9e8e02d5",
   "metadata": {
    "id": "UREu7LA_F4lU"
   },
   "outputs": [],
   "source": [
    "maxlen = 200\n",
    "X_t = pad_sequences(list_tokenized_train, maxlen=maxlen)\n",
    "X_te = pad_sequences(list_tokenized_test, maxlen=maxlen)"
   ]
  },
  {
   "cell_type": "code",
   "execution_count": 2,
   "id": "98273a58",
   "metadata": {
    "id": "TMYlPdC4JzXL"
   },
   "outputs": [],
   "source": [
    "gl_path = '/content/drive/My Drive/Colab_data/Data_Mining/Data-Mining-Project/embeddings/glove.twitter.27B.25d.txt'\n",
    "ft_path = '/content/drive/My Drive/Colab_data/Data_Mining/Data-Mining-Project/embeddings/wiki.simple.vec'\n",
    "wv_path = '/content/drive/My Drive/Colab_data/Data_Mining/Data-Mining-Project/embeddings/model.bin'"
   ]
  },
  {
   "cell_type": "code",
   "execution_count": 3,
   "id": "3a706102",
   "metadata": {
    "id": "hZsMt6ihHS4i"
   },
   "outputs": [],
   "source": [
    "import gensim.models.keyedvectors as word2vec\n",
    "import gc"
   ]
  },
  {
   "cell_type": "code",
   "execution_count": 19,
   "id": "3d8dd3eb",
   "metadata": {
    "id": "jHtWe2E1F7BB"
   },
   "outputs": [],
   "source": [
    "def loadEmbeddingMatrix(typeToLoad):\n",
    "        if(typeToLoad==\"glove\"):\n",
    "            EMBEDDING_FILE=gl_path\n",
    "            embed_size = 25\n",
    "        elif(typeToLoad==\"word2vec\"):\n",
    "            word2vecDict = word2vec.KeyedVectors.load_word2vec_format(wv_path, binary=True)\n",
    "            embed_size = 300\n",
    "        elif(typeToLoad==\"fasttext\"):\n",
    "            EMBEDDING_FILE=ft_path\n",
    "            embed_size = 300\n",
    "\n",
    "        if(typeToLoad==\"glove\" or typeToLoad==\"fasttext\" ):\n",
    "            embeddings_index = dict()\n",
    "            f = open(EMBEDDING_FILE)\n",
    "            for line in f:\n",
    "                values = line.split()\n",
    "                word = values[0]\n",
    "                try:\n",
    "                  coefs = np.asarray(values[1:], dtype='float32')\n",
    "                except:\n",
    "                  continue\n",
    "                if len(coefs) != 300:\n",
    "                  continue\n",
    "                embeddings_index[word] = coefs \n",
    "                \n",
    "            f.close()\n",
    "            print('Loaded %s word vectors.' % len(embeddings_index))\n",
    "        else:\n",
    "            embeddings_index = dict()\n",
    "            for word in word2vecDict.wv.vocab:\n",
    "                embeddings_index[word] = word2vecDict.word_vec(word)\n",
    "            print('Loaded %s word vectors.' % len(embeddings_index))\n",
    "            \n",
    "        gc.collect()\n",
    "        all_embs = np.stack(list(embeddings_index.values()))\n",
    "        emb_mean,emb_std = all_embs.mean(), all_embs.std()\n",
    "        \n",
    "        nb_words = len(tokenizer.word_index)\n",
    "        embedding_matrix = np.random.normal(emb_mean, emb_std, (nb_words, embed_size))\n",
    "        gc.collect()\n",
    "\n",
    "        embeddedCount = 0\n",
    "        for word, i in tokenizer.word_index.items():\n",
    "            i-=1\n",
    "            embedding_vector = embeddings_index.get(word)\n",
    "            if embedding_vector is not None: \n",
    "                embedding_matrix[i] = embedding_vector\n",
    "                embeddedCount+=1\n",
    "        print('total embedded:',embeddedCount,'common words')\n",
    "        \n",
    "        del(embeddings_index)\n",
    "        gc.collect()\n",
    "        \n",
    "        return embedding_matrix"
   ]
  },
  {
   "cell_type": "code",
   "execution_count": 20,
   "id": "8538abb8",
   "metadata": {
    "colab": {
     "base_uri": "https://localhost:8080/"
    },
    "id": "m_LCBxmSEW95",
    "outputId": "3b054ad6-ac8a-4c44-fcf8-f91c406899b0"
   },
   "outputs": [
    {
     "name": "stderr",
     "output_type": "stream",
     "text": [
      "/usr/local/lib/python3.6/dist-packages/ipykernel_launcher.py:36: DeprecationWarning: Call to deprecated `wv` (Attribute will be removed in 4.0.0, use self instead).\n"
     ]
    },
    {
     "name": "stdout",
     "output_type": "stream",
     "text": [
      "Loaded 306943 word vectors.\n",
      "total embedded: 0 common words\n"
     ]
    }
   ],
   "source": [
    "embedding_matrix = loadEmbeddingMatrix('word2vec')"
   ]
  },
  {
   "cell_type": "code",
   "execution_count": 21,
   "id": "5b3a3c80",
   "metadata": {
    "colab": {
     "base_uri": "https://localhost:8080/"
    },
    "id": "irUlyn37Gp0W",
    "outputId": "9b7b2765-b6fa-419d-dae3-fd22b602da2f"
   },
   "outputs": [
    {
     "data": {
      "text/plain": [
       "(221341, 300)"
      ]
     },
     "execution_count": 21,
     "metadata": {
      "tags": []
     },
     "output_type": "execute_result"
    }
   ],
   "source": [
    "embedding_matrix.shape"
   ]
  },
  {
   "cell_type": "code",
   "execution_count": 22,
   "id": "aa353088",
   "metadata": {
    "id": "XxN-0Icgbp5h"
   },
   "outputs": [],
   "source": [
    "from keras.layers import Dense, Input, LSTM, Embedding, Dropout, Activation\n",
    "from keras.layers import Bidirectional, GlobalMaxPool1D,Bidirectional\n",
    "from keras.models import Model"
   ]
  },
  {
   "cell_type": "code",
   "execution_count": 23,
   "id": "6b8e1ce8",
   "metadata": {
    "id": "BcdmD1FnbiRl"
   },
   "outputs": [],
   "source": [
    "inp = Input(shape=(maxlen, ))"
   ]
  },
  {
   "cell_type": "code",
   "execution_count": 24,
   "id": "f6a59b9b",
   "metadata": {
    "colab": {
     "base_uri": "https://localhost:8080/"
    },
    "id": "cakxu8f2b1yY",
    "outputId": "d410e93a-5cf3-4b8b-d6c7-bfd34d220ee8"
   },
   "outputs": [
    {
     "name": "stdout",
     "output_type": "stream",
     "text": [
      "WARNING:tensorflow:Layer lstm_layer will not use cuDNN kernel since it doesn't meet the cuDNN kernel criteria. It will use generic GPU kernel as fallback when running on GPU\n",
      "WARNING:tensorflow:Layer lstm_layer will not use cuDNN kernel since it doesn't meet the cuDNN kernel criteria. It will use generic GPU kernel as fallback when running on GPU\n",
      "WARNING:tensorflow:Layer lstm_layer will not use cuDNN kernel since it doesn't meet the cuDNN kernel criteria. It will use generic GPU kernel as fallback when running on GPU\n"
     ]
    }
   ],
   "source": [
    "x = Embedding(len(tokenizer.word_index), embedding_matrix.shape[1],weights=[embedding_matrix],trainable=False)(inp)\n",
    "x = Bidirectional(LSTM(60, return_sequences=True,name='lstm_layer',dropout=0.1,recurrent_dropout=0.1))(x)"
   ]
  },
  {
   "cell_type": "code",
   "execution_count": 25,
   "id": "f78f7f62",
   "metadata": {
    "id": "DZaoNGqdbr96"
   },
   "outputs": [],
   "source": [
    "x = GlobalMaxPool1D()(x)\n",
    "x = Dropout(0.1)(x)\n",
    "x = Dense(50, activation=\"relu\")(x)\n",
    "x = Dropout(0.1)(x)\n",
    "x = Dense(6, activation=\"sigmoid\")(x)"
   ]
  },
  {
   "cell_type": "code",
   "execution_count": 26,
   "id": "1943e533",
   "metadata": {
    "id": "PHhVSB7LelmI"
   },
   "outputs": [],
   "source": [
    "import keras.metrics as metrics"
   ]
  },
  {
   "cell_type": "code",
   "execution_count": 27,
   "id": "1039f024",
   "metadata": {
    "id": "PoeXgv3ZcGaF"
   },
   "outputs": [],
   "source": [
    "model = Model(inputs=inp, outputs=x)\n",
    "model.compile(loss='binary_crossentropy',\n",
    "                  optimizer='adam',\n",
    "                  metrics=[\n",
    "                          metrics.MeanSquaredError(),\n",
    "                          metrics.AUC(),\n",
    "                  ])"
   ]
  },
  {
   "cell_type": "code",
   "execution_count": 28,
   "id": "75d67caf",
   "metadata": {
    "colab": {
     "base_uri": "https://localhost:8080/"
    },
    "id": "PW7dB94TcHw_",
    "outputId": "d9b9d9a8-c196-4dde-acb1-c46505762473"
   },
   "outputs": [
    {
     "name": "stdout",
     "output_type": "stream",
     "text": [
      "Model: \"functional_1\"\n",
      "_________________________________________________________________\n",
      "Layer (type)                 Output Shape              Param #   \n",
      "=================================================================\n",
      "input_1 (InputLayer)         [(None, 200)]             0         \n",
      "_________________________________________________________________\n",
      "embedding (Embedding)        (None, 200, 300)          66402300  \n",
      "_________________________________________________________________\n",
      "bidirectional (Bidirectional (None, 200, 120)          173280    \n",
      "_________________________________________________________________\n",
      "global_max_pooling1d (Global (None, 120)               0         \n",
      "_________________________________________________________________\n",
      "dropout (Dropout)            (None, 120)               0         \n",
      "_________________________________________________________________\n",
      "dense (Dense)                (None, 50)                6050      \n",
      "_________________________________________________________________\n",
      "dropout_1 (Dropout)          (None, 50)                0         \n",
      "_________________________________________________________________\n",
      "dense_1 (Dense)              (None, 6)                 306       \n",
      "=================================================================\n",
      "Total params: 66,581,936\n",
      "Trainable params: 179,636\n",
      "Non-trainable params: 66,402,300\n",
      "_________________________________________________________________\n"
     ]
    }
   ],
   "source": [
    "model.summary()"
   ]
  },
  {
   "cell_type": "code",
   "execution_count": 29,
   "id": "a4653cea",
   "metadata": {
    "id": "xTcX5FYvmZHA"
   },
   "outputs": [],
   "source": [
    "from sklearn.model_selection import train_test_split\n",
    "X_train, X_val, y_train, y_val = train_test_split(X_t,y,test_size=0.2,random_state=1) "
   ]
  },
  {
   "cell_type": "code",
   "execution_count": 31,
   "id": "30a57e0d",
   "metadata": {
    "colab": {
     "base_uri": "https://localhost:8080/"
    },
    "id": "6ysgA5zncJqG",
    "outputId": "2708e25d-2c28-4581-cb4e-9520e580a59c"
   },
   "outputs": [
    {
     "name": "stdout",
     "output_type": "stream",
     "text": [
      "499/499 [==============================] - 692s 1s/step - loss: 0.1357 - mean_squared_error: 0.0343 - auc: 0.8116\n"
     ]
    }
   ],
   "source": [
    "batch_size = 256\n",
    "epochs = 1\n",
    "hist = model.fit(X_train,y_train, batch_size=batch_size, epochs=epochs)"
   ]
  },
  {
   "cell_type": "code",
   "execution_count": 32,
   "id": "c87c2b53",
   "metadata": {
    "id": "IJdnXFKp1uO1"
   },
   "outputs": [],
   "source": [
    "preds_train = model.predict(X_train)"
   ]
  },
  {
   "cell_type": "code",
   "execution_count": null,
   "id": "5770cb92",
   "metadata": {
    "id": "FcujEmttF9YV"
   },
   "outputs": [],
   "source": [
    "from sklearn.metrics import roc_auc_score, average_precision_score, accuracy_score\n",
    "\n",
    "print(roc_auc_score(y_train, preds_train))"
   ]
  },
  {
   "cell_type": "code",
   "execution_count": null,
   "id": "94fc4653",
   "metadata": {
    "id": "FVUhIPBGGQpv"
   },
   "outputs": [],
   "source": [
    "preds_val = model.predict(X_val)\n",
    "print(roc_auc_score(y_val, preds_val))\n",
    "print(average_precision_score(y_val, preds_val))"
   ]
  },
  {
   "cell_type": "code",
   "execution_count": 35,
   "id": "396b16a8",
   "metadata": {
    "id": "VTEKRPU8GR_-"
   },
   "outputs": [],
   "source": [
    "labels = labels[classes]\n",
    "sum_labels=np.sum(labels.values,axis=1)\n",
    "# print(sum_labels)\n",
    "idx=sum_labels>=0\n",
    "y_test = labels[idx]\n",
    "X_test = X_te[idx]"
   ]
  },
  {
   "cell_type": "code",
   "execution_count": 36,
   "id": "a6a3f99b",
   "metadata": {
    "id": "dbNiGXHuGYpq"
   },
   "outputs": [],
   "source": [
    "preds_test = model.predict(X_test)"
   ]
  },
  {
   "cell_type": "code",
   "execution_count": 38,
   "id": "9873cb7b",
   "metadata": {
    "colab": {
     "base_uri": "https://localhost:8080/"
    },
    "id": "ojrhEz03GcM2",
    "outputId": "e84fcb68-b259-4ba0-b483-25b6a61d330e"
   },
   "outputs": [
    {
     "name": "stdout",
     "output_type": "stream",
     "text": [
      "0.8564973871595932\n"
     ]
    }
   ],
   "source": [
    "print(roc_auc_score(y_test, preds_test))"
   ]
  },
  {
   "cell_type": "code",
   "execution_count": null,
   "id": "15c8a2ea",
   "metadata": {
    "id": "nEl9b6hZKfoB"
   },
   "outputs": [],
   "source": []
  },
  {
   "cell_type": "code",
   "execution_count": null,
   "id": "9d64a576",
   "metadata": {
    "id": "MpJvccJcUKkI"
   },
   "outputs": [],
   "source": [
    "path='/content/drive/My Drive/Colab_data/Data_Mining/Data-Mining-Project/dataset'"
   ]
  },
  {
   "cell_type": "code",
   "execution_count": null,
   "id": "848787e3",
   "metadata": {
    "id": "kHvhaGlYUVDy"
   },
   "outputs": [],
   "source": [
    "\"\"\"Un-Comment For Running locally out of colab\n",
    "path='./dataset'\n",
    "\"\"\"#Un-Comment For Running locally out of colab "
   ]
  },
  {
   "cell_type": "code",
   "execution_count": null,
   "id": "4dc402ea",
   "metadata": {
    "id": "4N217qwAK05s"
   },
   "outputs": [],
   "source": [
    "import pandas as pd"
   ]
  },
  {
   "cell_type": "code",
   "execution_count": null,
   "id": "45778049",
   "metadata": {
    "id": "l5kCw0RLMPXf"
   },
   "outputs": [],
   "source": [
    "train=pd.read_csv(path+\"train.csv\")\n",
    "test=pd.read_csv(path+\"test.csv\")"
   ]
  },
  {
   "cell_type": "code",
   "execution_count": null,
   "id": "09f28a29",
   "metadata": {
    "colab": {
     "base_uri": "https://localhost:8080/",
     "height": 411
    },
    "executionInfo": {
     "elapsed": 3560,
     "status": "ok",
     "timestamp": 1601062263542,
     "user": {
      "displayName": "Harshit Agrawal",
      "photoUrl": "",
      "userId": "04419704427221322184"
     },
     "user_tz": -330
    },
    "id": "U8SHCLKzMYw1",
    "outputId": "8bc4fc66-6316-47f0-c8e1-0d9684911ff3"
   },
   "outputs": [
    {
     "data": {
      "text/html": [
       "<div>\n",
       "<style scoped>\n",
       "    .dataframe tbody tr th:only-of-type {\n",
       "        vertical-align: middle;\n",
       "    }\n",
       "\n",
       "    .dataframe tbody tr th {\n",
       "        vertical-align: top;\n",
       "    }\n",
       "\n",
       "    .dataframe thead th {\n",
       "        text-align: right;\n",
       "    }\n",
       "</style>\n",
       "<table border=\"1\" class=\"dataframe\">\n",
       "  <thead>\n",
       "    <tr style=\"text-align: right;\">\n",
       "      <th></th>\n",
       "      <th>id</th>\n",
       "      <th>comment_text</th>\n",
       "      <th>toxic</th>\n",
       "      <th>severe_toxic</th>\n",
       "      <th>obscene</th>\n",
       "      <th>threat</th>\n",
       "      <th>insult</th>\n",
       "      <th>identity_hate</th>\n",
       "    </tr>\n",
       "  </thead>\n",
       "  <tbody>\n",
       "    <tr>\n",
       "      <th>0</th>\n",
       "      <td>0000997932d777bf</td>\n",
       "      <td>Explanation\\nWhy the edits made under my usern...</td>\n",
       "      <td>0</td>\n",
       "      <td>0</td>\n",
       "      <td>0</td>\n",
       "      <td>0</td>\n",
       "      <td>0</td>\n",
       "      <td>0</td>\n",
       "    </tr>\n",
       "    <tr>\n",
       "      <th>1</th>\n",
       "      <td>000103f0d9cfb60f</td>\n",
       "      <td>D'aww! He matches this background colour I'm s...</td>\n",
       "      <td>0</td>\n",
       "      <td>0</td>\n",
       "      <td>0</td>\n",
       "      <td>0</td>\n",
       "      <td>0</td>\n",
       "      <td>0</td>\n",
       "    </tr>\n",
       "    <tr>\n",
       "      <th>2</th>\n",
       "      <td>000113f07ec002fd</td>\n",
       "      <td>Hey man, I'm really not trying to edit war. It...</td>\n",
       "      <td>0</td>\n",
       "      <td>0</td>\n",
       "      <td>0</td>\n",
       "      <td>0</td>\n",
       "      <td>0</td>\n",
       "      <td>0</td>\n",
       "    </tr>\n",
       "    <tr>\n",
       "      <th>3</th>\n",
       "      <td>0001b41b1c6bb37e</td>\n",
       "      <td>\"\\nMore\\nI can't make any real suggestions on ...</td>\n",
       "      <td>0</td>\n",
       "      <td>0</td>\n",
       "      <td>0</td>\n",
       "      <td>0</td>\n",
       "      <td>0</td>\n",
       "      <td>0</td>\n",
       "    </tr>\n",
       "    <tr>\n",
       "      <th>4</th>\n",
       "      <td>0001d958c54c6e35</td>\n",
       "      <td>You, sir, are my hero. Any chance you remember...</td>\n",
       "      <td>0</td>\n",
       "      <td>0</td>\n",
       "      <td>0</td>\n",
       "      <td>0</td>\n",
       "      <td>0</td>\n",
       "      <td>0</td>\n",
       "    </tr>\n",
       "  </tbody>\n",
       "</table>\n",
       "</div>"
      ],
      "text/plain": [
       "                 id  ... identity_hate\n",
       "0  0000997932d777bf  ...             0\n",
       "1  000103f0d9cfb60f  ...             0\n",
       "2  000113f07ec002fd  ...             0\n",
       "3  0001b41b1c6bb37e  ...             0\n",
       "4  0001d958c54c6e35  ...             0\n",
       "\n",
       "[5 rows x 8 columns]"
      ]
     },
     "execution_count": 52,
     "metadata": {
      "tags": []
     },
     "output_type": "execute_result"
    }
   ],
   "source": [
    "train.head()"
   ]
  },
  {
   "cell_type": "code",
   "execution_count": null,
   "id": "c1f04f53",
   "metadata": {
    "colab": {
     "base_uri": "https://localhost:8080/",
     "height": 34
    },
    "executionInfo": {
     "elapsed": 3268,
     "status": "ok",
     "timestamp": 1601062263544,
     "user": {
      "displayName": "Harshit Agrawal",
      "photoUrl": "",
      "userId": "04419704427221322184"
     },
     "user_tz": -330
    },
    "id": "dUVdjqczM0aJ",
    "outputId": "f8b90a49-2808-4a9a-c51c-419c59b891f6"
   },
   "outputs": [
    {
     "name": "stdout",
     "output_type": "stream",
     "text": [
      "No. of rows: 159571\n"
     ]
    }
   ],
   "source": [
    "print(\"No. of rows:\", train.shape[0])"
   ]
  },
  {
   "cell_type": "code",
   "execution_count": null,
   "id": "cfa532ae",
   "metadata": {
    "colab": {
     "base_uri": "https://localhost:8080/",
     "height": 136
    },
    "executionInfo": {
     "elapsed": 2981,
     "status": "ok",
     "timestamp": 1601062263551,
     "user": {
      "displayName": "Harshit Agrawal",
      "photoUrl": "",
      "userId": "04419704427221322184"
     },
     "user_tz": -330
    },
    "id": "BAYU1mLNOATO",
    "outputId": "a707ed7c-6a2a-4b06-9b95-20581056c9c8"
   },
   "outputs": [
    {
     "data": {
      "text/plain": [
       "toxic            15294\n",
       "severe_toxic      1595\n",
       "obscene           8449\n",
       "threat             478\n",
       "insult            7877\n",
       "identity_hate     1405\n",
       "dtype: int64"
      ]
     },
     "execution_count": 54,
     "metadata": {
      "tags": []
     },
     "output_type": "execute_result"
    }
   ],
   "source": [
    "hate_tag_count=train.iloc[:,2:].sum()\n",
    "hate_tag_count"
   ]
  },
  {
   "cell_type": "code",
   "execution_count": null,
   "id": "14b0c31b",
   "metadata": {
    "id": "UUz7B4FFuS_N"
   },
   "outputs": [],
   "source": [
    "import matplotlib.pyplot as plt\n",
    "%matplotlib inline\n",
    "import seaborn as sns"
   ]
  },
  {
   "cell_type": "code",
   "execution_count": null,
   "id": "03f24e14",
   "metadata": {
    "colab": {
     "base_uri": "https://localhost:8080/",
     "height": 248
    },
    "executionInfo": {
     "elapsed": 2422,
     "status": "ok",
     "timestamp": 1601062263558,
     "user": {
      "displayName": "Harshit Agrawal",
      "photoUrl": "",
      "userId": "04419704427221322184"
     },
     "user_tz": -330
    },
    "id": "_Bu3FOBkugOL",
    "outputId": "13e53ec6-a4dd-4213-db2b-fc1962e503f7"
   },
   "outputs": [
    {
     "data": {
      "image/png": "[encoded data removed]",
      "text/plain": [
       "<Figure size 432x288 with 1 Axes>"
      ]
     },
     "metadata": {
      "tags": []
     },
     "output_type": "display_data"
    }
   ],
   "source": [
    "plt.pie(x=hate_tag_count.values,labels=hate_tag_count.index)\n",
    "plt.show()"
   ]
  },
  {
   "cell_type": "code",
   "execution_count": null,
   "id": "c2e2283c",
   "metadata": {
    "colab": {
     "base_uri": "https://localhost:8080/",
     "height": 313
    },
    "executionInfo": {
     "elapsed": 2125,
     "status": "ok",
     "timestamp": 1601062263563,
     "user": {
      "displayName": "Harshit Agrawal",
      "photoUrl": "",
      "userId": "04419704427221322184"
     },
     "user_tz": -330
    },
    "id": "YD56kAxgKWzU",
    "outputId": "ff49378c-ce59-4826-a50f-f2093cab2a1f"
   },
   "outputs": [
    {
     "data": {
      "text/plain": [
       "Text(0.5, 0, 'Tag type')"
      ]
     },
     "execution_count": 57,
     "metadata": {
      "tags": []
     },
     "output_type": "execute_result"
    },
    {
     "data": {
      "image/png": "[encoded data removed]",
      "text/plain": [
       "<Figure size 432x288 with 1 Axes>"
      ]
     },
     "metadata": {
      "needs_background": "light",
      "tags": []
     },
     "output_type": "display_data"
    }
   ],
   "source": [
    "sns.barplot(x=hate_tag_count.index, y=hate_tag_count.values)\n",
    "plt.title(\"Class Imbalance Visualisation\")\n",
    "plt.ylabel('Number of tags')\n",
    "plt.xlabel('Tag type')\n"
   ]
  },
  {
   "cell_type": "code",
   "execution_count": null,
   "id": "42fe295d",
   "metadata": {
    "id": "9IlbzcoBOGeX"
   },
   "outputs": [],
   "source": [
    "#Add an additional column for clean comments\n",
    "train['clean']=(train.iloc[:,2:].sum(axis=1)==0).astype(int)"
   ]
  },
  {
   "cell_type": "code",
   "execution_count": null,
   "id": "bdf4e514",
   "metadata": {
    "colab": {
     "base_uri": "https://localhost:8080/",
     "height": 813
    },
    "executionInfo": {
     "elapsed": 1538,
     "status": "ok",
     "timestamp": 1601062263570,
     "user": {
      "displayName": "Harshit Agrawal",
      "photoUrl": "",
      "userId": "04419704427221322184"
     },
     "user_tz": -330
    },
    "id": "00I4Fg8POfuj",
    "outputId": "3309cfe1-1cdf-408a-9fe5-00e2bca51b46"
   },
   "outputs": [
    {
     "data": {
      "text/html": [
       "<div>\n",
       "<style scoped>\n",
       "    .dataframe tbody tr th:only-of-type {\n",
       "        vertical-align: middle;\n",
       "    }\n",
       "\n",
       "    .dataframe tbody tr th {\n",
       "        vertical-align: top;\n",
       "    }\n",
       "\n",
       "    .dataframe thead th {\n",
       "        text-align: right;\n",
       "    }\n",
       "</style>\n",
       "<table border=\"1\" class=\"dataframe\">\n",
       "  <thead>\n",
       "    <tr style=\"text-align: right;\">\n",
       "      <th></th>\n",
       "      <th>id</th>\n",
       "      <th>comment_text</th>\n",
       "      <th>toxic</th>\n",
       "      <th>severe_toxic</th>\n",
       "      <th>obscene</th>\n",
       "      <th>threat</th>\n",
       "      <th>insult</th>\n",
       "      <th>identity_hate</th>\n",
       "      <th>clean</th>\n",
       "    </tr>\n",
       "  </thead>\n",
       "  <tbody>\n",
       "    <tr>\n",
       "      <th>0</th>\n",
       "      <td>0000997932d777bf</td>\n",
       "      <td>Explanation\\nWhy the edits made under my usern...</td>\n",
       "      <td>0</td>\n",
       "      <td>0</td>\n",
       "      <td>0</td>\n",
       "      <td>0</td>\n",
       "      <td>0</td>\n",
       "      <td>0</td>\n",
       "      <td>1</td>\n",
       "    </tr>\n",
       "    <tr>\n",
       "      <th>1</th>\n",
       "      <td>000103f0d9cfb60f</td>\n",
       "      <td>D'aww! He matches this background colour I'm s...</td>\n",
       "      <td>0</td>\n",
       "      <td>0</td>\n",
       "      <td>0</td>\n",
       "      <td>0</td>\n",
       "      <td>0</td>\n",
       "      <td>0</td>\n",
       "      <td>1</td>\n",
       "    </tr>\n",
       "    <tr>\n",
       "      <th>2</th>\n",
       "      <td>000113f07ec002fd</td>\n",
       "      <td>Hey man, I'm really not trying to edit war. It...</td>\n",
       "      <td>0</td>\n",
       "      <td>0</td>\n",
       "      <td>0</td>\n",
       "      <td>0</td>\n",
       "      <td>0</td>\n",
       "      <td>0</td>\n",
       "      <td>1</td>\n",
       "    </tr>\n",
       "    <tr>\n",
       "      <th>3</th>\n",
       "      <td>0001b41b1c6bb37e</td>\n",
       "      <td>\"\\nMore\\nI can't make any real suggestions on ...</td>\n",
       "      <td>0</td>\n",
       "      <td>0</td>\n",
       "      <td>0</td>\n",
       "      <td>0</td>\n",
       "      <td>0</td>\n",
       "      <td>0</td>\n",
       "      <td>1</td>\n",
       "    </tr>\n",
       "    <tr>\n",
       "      <th>4</th>\n",
       "      <td>0001d958c54c6e35</td>\n",
       "      <td>You, sir, are my hero. Any chance you remember...</td>\n",
       "      <td>0</td>\n",
       "      <td>0</td>\n",
       "      <td>0</td>\n",
       "      <td>0</td>\n",
       "      <td>0</td>\n",
       "      <td>0</td>\n",
       "      <td>1</td>\n",
       "    </tr>\n",
       "    <tr>\n",
       "      <th>...</th>\n",
       "      <td>...</td>\n",
       "      <td>...</td>\n",
       "      <td>...</td>\n",
       "      <td>...</td>\n",
       "      <td>...</td>\n",
       "      <td>...</td>\n",
       "      <td>...</td>\n",
       "      <td>...</td>\n",
       "      <td>...</td>\n",
       "    </tr>\n",
       "    <tr>\n",
       "      <th>159566</th>\n",
       "      <td>ffe987279560d7ff</td>\n",
       "      <td>\":::::And for the second time of asking, when ...</td>\n",
       "      <td>0</td>\n",
       "      <td>0</td>\n",
       "      <td>0</td>\n",
       "      <td>0</td>\n",
       "      <td>0</td>\n",
       "      <td>0</td>\n",
       "      <td>1</td>\n",
       "    </tr>\n",
       "    <tr>\n",
       "      <th>159567</th>\n",
       "      <td>ffea4adeee384e90</td>\n",
       "      <td>You should be ashamed of yourself \\n\\nThat is ...</td>\n",
       "      <td>0</td>\n",
       "      <td>0</td>\n",
       "      <td>0</td>\n",
       "      <td>0</td>\n",
       "      <td>0</td>\n",
       "      <td>0</td>\n",
       "      <td>1</td>\n",
       "    </tr>\n",
       "    <tr>\n",
       "      <th>159568</th>\n",
       "      <td>ffee36eab5c267c9</td>\n",
       "      <td>Spitzer \\n\\nUmm, theres no actual article for ...</td>\n",
       "      <td>0</td>\n",
       "      <td>0</td>\n",
       "      <td>0</td>\n",
       "      <td>0</td>\n",
       "      <td>0</td>\n",
       "      <td>0</td>\n",
       "      <td>1</td>\n",
       "    </tr>\n",
       "    <tr>\n",
       "      <th>159569</th>\n",
       "      <td>fff125370e4aaaf3</td>\n",
       "      <td>And it looks like it was actually you who put ...</td>\n",
       "      <td>0</td>\n",
       "      <td>0</td>\n",
       "      <td>0</td>\n",
       "      <td>0</td>\n",
       "      <td>0</td>\n",
       "      <td>0</td>\n",
       "      <td>1</td>\n",
       "    </tr>\n",
       "    <tr>\n",
       "      <th>159570</th>\n",
       "      <td>fff46fc426af1f9a</td>\n",
       "      <td>\"\\nAnd ... I really don't think you understand...</td>\n",
       "      <td>0</td>\n",
       "      <td>0</td>\n",
       "      <td>0</td>\n",
       "      <td>0</td>\n",
       "      <td>0</td>\n",
       "      <td>0</td>\n",
       "      <td>1</td>\n",
       "    </tr>\n",
       "  </tbody>\n",
       "</table>\n",
       "<p>159571 rows × 9 columns</p>\n",
       "</div>"
      ],
      "text/plain": [
       "                      id  ... clean\n",
       "0       0000997932d777bf  ...     1\n",
       "1       000103f0d9cfb60f  ...     1\n",
       "2       000113f07ec002fd  ...     1\n",
       "3       0001b41b1c6bb37e  ...     1\n",
       "4       0001d958c54c6e35  ...     1\n",
       "...                  ...  ...   ...\n",
       "159566  ffe987279560d7ff  ...     1\n",
       "159567  ffea4adeee384e90  ...     1\n",
       "159568  ffee36eab5c267c9  ...     1\n",
       "159569  fff125370e4aaaf3  ...     1\n",
       "159570  fff46fc426af1f9a  ...     1\n",
       "\n",
       "[159571 rows x 9 columns]"
      ]
     },
     "execution_count": 59,
     "metadata": {
      "tags": []
     },
     "output_type": "execute_result"
    }
   ],
   "source": [
    "train"
   ]
  },
  {
   "cell_type": "code",
   "execution_count": null,
   "id": "d553ab48",
   "metadata": {
    "colab": {
     "base_uri": "https://localhost:8080/",
     "height": 153
    },
    "executionInfo": {
     "elapsed": 1270,
     "status": "ok",
     "timestamp": 1601062263574,
     "user": {
      "displayName": "Harshit Agrawal",
      "photoUrl": "",
      "userId": "04419704427221322184"
     },
     "user_tz": -330
    },
    "id": "RMl7uRhTO_3g",
    "outputId": "5b209981-8fea-477a-810b-70549c1f0b91"
   },
   "outputs": [
    {
     "data": {
      "text/plain": [
       "toxic             15294\n",
       "severe_toxic       1595\n",
       "obscene            8449\n",
       "threat              478\n",
       "insult             7877\n",
       "identity_hate      1405\n",
       "clean            143346\n",
       "dtype: int64"
      ]
     },
     "execution_count": 60,
     "metadata": {
      "tags": []
     },
     "output_type": "execute_result"
    }
   ],
   "source": [
    "tag_count=train.iloc[:,2:].sum()\n",
    "tag_count"
   ]
  },
  {
   "cell_type": "code",
   "execution_count": null,
   "id": "a7ca05c5",
   "metadata": {
    "colab": {
     "base_uri": "https://localhost:8080/",
     "height": 85
    },
    "executionInfo": {
     "elapsed": 1652,
     "status": "ok",
     "timestamp": 1601062264255,
     "user": {
      "displayName": "Harshit Agrawal",
      "photoUrl": "",
      "userId": "04419704427221322184"
     },
     "user_tz": -330
    },
    "id": "EZqkiKWDNbgo",
    "outputId": "637eceee-16a1-4c65-bb99-a304cd1074c1"
   },
   "outputs": [
    {
     "name": "stdout",
     "output_type": "stream",
     "text": [
      "Total comments =  159571\n",
      "Total clean comments =  143346\n",
      "Total hate tags = 35098\n",
      "Total hate comments = 16225\n"
     ]
    }
   ],
   "source": [
    "print(\"Total comments = \",len(train))\n",
    "print(\"Total clean comments = \",train['clean'].sum())\n",
    "print(\"Total hate tags =\",hate_tag_count.sum())\n",
    "print(\"Total hate comments =\",len(train)-train['clean'].sum())"
   ]
  },
  {
   "cell_type": "code",
   "execution_count": null,
   "id": "4202c268",
   "metadata": {
    "colab": {
     "base_uri": "https://localhost:8080/",
     "height": 34
    },
    "executionInfo": {
     "elapsed": 1384,
     "status": "ok",
     "timestamp": 1601062264258,
     "user": {
      "displayName": "Harshit Agrawal",
      "photoUrl": "",
      "userId": "04419704427221322184"
     },
     "user_tz": -330
    },
    "id": "yyWxA-lJNuWb",
    "outputId": "17a4ff53-9d0f-42b1-a398-03794bc52e12"
   },
   "outputs": [
    {
     "name": "stdout",
     "output_type": "stream",
     "text": [
      "No. of null values = 0\n"
     ]
    }
   ],
   "source": [
    "#Check for missing values in Train dataset\n",
    "nulls=train.isnull().sum().sum()\n",
    "print('No. of null values =', nulls)"
   ]
  },
  {
   "cell_type": "code",
   "execution_count": null,
   "id": "d923d029",
   "metadata": {
    "colab": {
     "base_uri": "https://localhost:8080/",
     "height": 351
    },
    "executionInfo": {
     "elapsed": 2016,
     "status": "ok",
     "timestamp": 1601062265145,
     "user": {
      "displayName": "Harshit Agrawal",
      "photoUrl": "",
      "userId": "04419704427221322184"
     },
     "user_tz": -330
    },
    "id": "pLJzcD_pPfFL",
    "outputId": "38de6b6b-c2f0-48ae-a1f6-f03a1727de62"
   },
   "outputs": [
    {
     "data": {
      "image/png": "[encoded data removed]",
      "text/plain": [
       "<Figure size 504x360 with 1 Axes>"
      ]
     },
     "metadata": {
      "needs_background": "light",
      "tags": []
     },
     "output_type": "display_data"
    }
   ],
   "source": [
    "#plot\n",
    "plt.figure(figsize=(7,5))\n",
    "ax= sns.barplot(tag_count.index, tag_count.values)\n",
    "plt.title(\"Class Imbalance Visualisation\")\n",
    "plt.ylabel('Number of tags')\n",
    "plt.xlabel('Tag type')\n",
    "plt.show()"
   ]
  },
  {
   "cell_type": "code",
   "execution_count": null,
   "id": "1c7a7a46",
   "metadata": {
    "colab": {
     "base_uri": "https://localhost:8080/",
     "height": 136
    },
    "executionInfo": {
     "elapsed": 1780,
     "status": "ok",
     "timestamp": 1601062265153,
     "user": {
      "displayName": "Harshit Agrawal",
      "photoUrl": "",
      "userId": "04419704427221322184"
     },
     "user_tz": -330
    },
    "id": "v-ZHzuRKRjfw",
    "outputId": "bae6ec4c-5611-4699-b4c6-b6c5e41c4a63"
   },
   "outputs": [
    {
     "data": {
      "text/plain": [
       "1    149706\n",
       "3      4209\n",
       "2      3480\n",
       "4      1760\n",
       "5       385\n",
       "6        31\n",
       "dtype: int64"
      ]
     },
     "execution_count": 64,
     "metadata": {
      "tags": []
     },
     "output_type": "execute_result"
    }
   ],
   "source": [
    "multi_tag=train.iloc[:,2:].sum(axis=1).value_counts()\n",
    "multi_tag"
   ]
  },
  {
   "cell_type": "code",
   "execution_count": null,
   "id": "dd7ab325",
   "metadata": {
    "colab": {
     "base_uri": "https://localhost:8080/",
     "height": 350
    },
    "executionInfo": {
     "elapsed": 2029,
     "status": "ok",
     "timestamp": 1601062265760,
     "user": {
      "displayName": "Harshit Agrawal",
      "photoUrl": "",
      "userId": "04419704427221322184"
     },
     "user_tz": -330
    },
    "id": "ibhbASVHP7eS",
    "outputId": "29c32a2b-5f9d-4ac0-b69a-4d33c724f4c5"
   },
   "outputs": [
    {
     "data": {
      "image/png": "[encoded data removed]",
      "text/plain": [
       "<Figure size 504x360 with 1 Axes>"
      ]
     },
     "metadata": {
      "needs_background": "light",
      "tags": []
     },
     "output_type": "display_data"
    }
   ],
   "source": [
    "plt.figure(figsize=(7,5))\n",
    "ax= sns.barplot(multi_tag.index, multi_tag.values)\n",
    "plt.title(\"Multi Class Classification\")\n",
    "plt.ylabel('Number of comments')\n",
    "plt.xlabel('Number of tags')\n",
    "plt.show()"
   ]
  },
  {
   "cell_type": "code",
   "execution_count": null,
   "id": "74176994",
   "metadata": {
    "colab": {
     "base_uri": "https://localhost:8080/",
     "height": 342
    },
    "executionInfo": {
     "elapsed": 2628,
     "status": "ok",
     "timestamp": 1601062266547,
     "user": {
      "displayName": "Harshit Agrawal",
      "photoUrl": "",
      "userId": "04419704427221322184"
     },
     "user_tz": -330
    },
    "id": "HhNbATTuRbwv",
    "outputId": "5df27a1e-41bd-47ba-eaff-dbc4c2f20c13"
   },
   "outputs": [
    {
     "data": {
      "text/plain": [
       "<matplotlib.axes._subplots.AxesSubplot at 0x7fa52f57a5c0>"
      ]
     },
     "execution_count": 66,
     "metadata": {
      "tags": []
     },
     "output_type": "execute_result"
    },
    {
     "data": {
      "image/png": "[encoded data removed]",
      "text/plain": [
       "<Figure size 432x288 with 2 Axes>"
      ]
     },
     "metadata": {
      "needs_background": "light",
      "tags": []
     },
     "output_type": "display_data"
    }
   ],
   "source": [
    "corr=train.iloc[:,2:].corr()\n",
    "sns.heatmap(corr,annot=True)"
   ]
  },
  {
   "cell_type": "code",
   "execution_count": null,
   "id": "c883dff2",
   "metadata": {
    "colab": {
     "base_uri": "https://localhost:8080/",
     "height": 88
    },
    "executionInfo": {
     "elapsed": 2328,
     "status": "ok",
     "timestamp": 1601062266551,
     "user": {
      "displayName": "Harshit Agrawal",
      "photoUrl": "",
      "userId": "04419704427221322184"
     },
     "user_tz": -330
    },
    "id": "xNPc4qUrSLlK",
    "outputId": "71831685-1c08-4139-ffaf-2c0d450667dd"
   },
   "outputs": [
    {
     "name": "stdout",
     "output_type": "stream",
     "text": [
      "identity_hate:\n",
      "\"\n",
      "Actually I am fully Arabic and Islamic and the correct spelling unlike how you stupid christians have been spelling it is \"\"Mou'ammar Al Qadhdhaffy\"\". But you are all too racist and white and stupid too accept that124.180.159.192  \"\n"
     ]
    }
   ],
   "source": [
    "print(\"identity_hate:\")\n",
    "print(train[train.identity_hate==1].iloc[28,1])"
   ]
  },
  {
   "cell_type": "code",
   "execution_count": null,
   "id": "1b0a8726",
   "metadata": {
    "id": "SjqZUruQqgbX"
   },
   "outputs": [],
   "source": [
    "import re\n",
    "df=train.copy()\n",
    "df['count_sent']=df[\"comment_text\"].apply(lambda x: len(re.findall(\"\\n\",str(x)))+1)\n",
    "df['count_word']=df[\"comment_text\"].apply(lambda x: len(str(x).split()))\n",
    "df['count_unique_word']=df[\"comment_text\"].apply(lambda x: len(set(str(x).split())))\n",
    "df['count_letters']=df[\"comment_text\"].apply(lambda x: len(str(x)))"
   ]
  },
  {
   "cell_type": "code",
   "execution_count": null,
   "id": "770eff93",
   "metadata": {
    "id": "raM-ya03I4o5"
   },
   "outputs": [],
   "source": [
    "df_counts=df[['count_sent','count_word','count_unique_word','count_letters']]\n"
   ]
  },
  {
   "cell_type": "code",
   "execution_count": null,
   "id": "bb6f1539",
   "metadata": {
    "colab": {
     "base_uri": "https://localhost:8080/",
     "height": 297
    },
    "executionInfo": {
     "elapsed": 4260,
     "status": "ok",
     "timestamp": 1601062269349,
     "user": {
      "displayName": "Harshit Agrawal",
      "photoUrl": "",
      "userId": "04419704427221322184"
     },
     "user_tz": -330
    },
    "id": "jmIt6TM_I_nq",
    "outputId": "bae1b392-9870-4921-9ffb-f032afeb4f81"
   },
   "outputs": [
    {
     "data": {
      "text/html": [
       "<div>\n",
       "<style scoped>\n",
       "    .dataframe tbody tr th:only-of-type {\n",
       "        vertical-align: middle;\n",
       "    }\n",
       "\n",
       "    .dataframe tbody tr th {\n",
       "        vertical-align: top;\n",
       "    }\n",
       "\n",
       "    .dataframe thead th {\n",
       "        text-align: right;\n",
       "    }\n",
       "</style>\n",
       "<table border=\"1\" class=\"dataframe\">\n",
       "  <thead>\n",
       "    <tr style=\"text-align: right;\">\n",
       "      <th></th>\n",
       "      <th>count_sent</th>\n",
       "      <th>count_word</th>\n",
       "      <th>count_unique_word</th>\n",
       "      <th>count_letters</th>\n",
       "    </tr>\n",
       "  </thead>\n",
       "  <tbody>\n",
       "    <tr>\n",
       "      <th>count</th>\n",
       "      <td>159571.00000</td>\n",
       "      <td>159571.000000</td>\n",
       "      <td>159571.000000</td>\n",
       "      <td>159571.000000</td>\n",
       "    </tr>\n",
       "    <tr>\n",
       "      <th>mean</th>\n",
       "      <td>3.52074</td>\n",
       "      <td>67.273527</td>\n",
       "      <td>48.097323</td>\n",
       "      <td>394.073221</td>\n",
       "    </tr>\n",
       "    <tr>\n",
       "      <th>std</th>\n",
       "      <td>5.96225</td>\n",
       "      <td>99.230702</td>\n",
       "      <td>54.436443</td>\n",
       "      <td>590.720282</td>\n",
       "    </tr>\n",
       "    <tr>\n",
       "      <th>min</th>\n",
       "      <td>1.00000</td>\n",
       "      <td>1.000000</td>\n",
       "      <td>1.000000</td>\n",
       "      <td>6.000000</td>\n",
       "    </tr>\n",
       "    <tr>\n",
       "      <th>25%</th>\n",
       "      <td>1.00000</td>\n",
       "      <td>17.000000</td>\n",
       "      <td>16.000000</td>\n",
       "      <td>96.000000</td>\n",
       "    </tr>\n",
       "    <tr>\n",
       "      <th>50%</th>\n",
       "      <td>2.00000</td>\n",
       "      <td>36.000000</td>\n",
       "      <td>31.000000</td>\n",
       "      <td>205.000000</td>\n",
       "    </tr>\n",
       "    <tr>\n",
       "      <th>75%</th>\n",
       "      <td>3.00000</td>\n",
       "      <td>75.000000</td>\n",
       "      <td>59.000000</td>\n",
       "      <td>435.000000</td>\n",
       "    </tr>\n",
       "    <tr>\n",
       "      <th>max</th>\n",
       "      <td>313.00000</td>\n",
       "      <td>1411.000000</td>\n",
       "      <td>816.000000</td>\n",
       "      <td>5000.000000</td>\n",
       "    </tr>\n",
       "  </tbody>\n",
       "</table>\n",
       "</div>"
      ],
      "text/plain": [
       "         count_sent     count_word  count_unique_word  count_letters\n",
       "count  159571.00000  159571.000000      159571.000000  159571.000000\n",
       "mean        3.52074      67.273527          48.097323     394.073221\n",
       "std         5.96225      99.230702          54.436443     590.720282\n",
       "min         1.00000       1.000000           1.000000       6.000000\n",
       "25%         1.00000      17.000000          16.000000      96.000000\n",
       "50%         2.00000      36.000000          31.000000     205.000000\n",
       "75%         3.00000      75.000000          59.000000     435.000000\n",
       "max       313.00000    1411.000000         816.000000    5000.000000"
      ]
     },
     "execution_count": 70,
     "metadata": {
      "tags": []
     },
     "output_type": "execute_result"
    }
   ],
   "source": [
    "df_counts.describe()"
   ]
  },
  {
   "cell_type": "code",
   "execution_count": null,
   "id": "1d24a7ef",
   "metadata": {
    "colab": {
     "base_uri": "https://localhost:8080/",
     "height": 478
    },
    "executionInfo": {
     "elapsed": 4722,
     "status": "ok",
     "timestamp": 1601062270111,
     "user": {
      "displayName": "Harshit Agrawal",
      "photoUrl": "",
      "userId": "04419704427221322184"
     },
     "user_tz": -330
    },
    "id": "TbC2u4kpJWh3",
    "outputId": "925b425b-2db3-41ea-f252-99d6465806b1"
   },
   "outputs": [
    {
     "data": {
      "image/png": "[encoded data removed]",
      "text/plain": [
       "<Figure size 1440x1080 with 4 Axes>"
      ]
     },
     "metadata": {
      "needs_background": "light",
      "tags": []
     },
     "output_type": "display_data"
    }
   ],
   "source": [
    "ax=df_counts.hist(figsize=(20,15))"
   ]
  },
  {
   "cell_type": "code",
   "execution_count": null,
   "id": "7a9f8d7f",
   "metadata": {
    "colab": {
     "base_uri": "https://localhost:8080/",
     "height": 541
    },
    "executionInfo": {
     "elapsed": 5144,
     "status": "ok",
     "timestamp": 1601062270836,
     "user": {
      "displayName": "Harshit Agrawal",
      "photoUrl": "",
      "userId": "04419704427221322184"
     },
     "user_tz": -330
    },
    "id": "LnfhE_X0qBsd",
    "outputId": "78b1c9ae-e6d8-465a-ff9e-3c3afff2af80"
   },
   "outputs": [
    {
     "data": {
      "image/png": "[encoded data removed]",
      "text/plain": [
       "<Figure size 432x288 with 1 Axes>"
      ]
     },
     "metadata": {
      "needs_background": "light",
      "tags": []
     },
     "output_type": "display_data"
    },
    {
     "data": {
      "image/png": "[encoded data removed]",
      "text/plain": [
       "<Figure size 432x288 with 1 Axes>"
      ]
     },
     "metadata": {
      "needs_background": "light",
      "tags": []
     },
     "output_type": "display_data"
    }
   ],
   "source": [
    "sns.violinplot(y='count_sent',x='clean', data=df)\n",
    "plt.show()\n",
    "sns.boxplot(y='count_sent',x='clean', data=df)\n",
    "plt.show()\n"
   ]
  },
  {
   "cell_type": "code",
   "execution_count": null,
   "id": "dd2f0492",
   "metadata": {
    "colab": {
     "base_uri": "https://localhost:8080/",
     "height": 646
    },
    "executionInfo": {
     "elapsed": 6003,
     "status": "ok",
     "timestamp": 1601062272052,
     "user": {
      "displayName": "Harshit Agrawal",
      "photoUrl": "",
      "userId": "04419704427221322184"
     },
     "user_tz": -330
    },
    "id": "Tqgq_iq-qqgb",
    "outputId": "b18c290e-3ebc-4525-fe7f-a1a0be58503d"
   },
   "outputs": [
    {
     "name": "stderr",
     "output_type": "stream",
     "text": [
      "/usr/local/lib/python3.6/dist-packages/pandas/core/indexing.py:671: SettingWithCopyWarning: \n",
      "A value is trying to be set on a copy of a slice from a DataFrame\n",
      "\n",
      "See the caveats in the documentation: https://pandas.pydata.org/pandas-docs/stable/user_guide/indexing.html#returning-a-view-versus-a-copy\n",
      "  self._setitem_with_indexer(indexer, value)\n"
     ]
    },
    {
     "data": {
      "image/png": "[encoded data removed]",
      "text/plain": [
       "<Figure size 432x288 with 1 Axes>"
      ]
     },
     "metadata": {
      "needs_background": "light",
      "tags": []
     },
     "output_type": "display_data"
    },
    {
     "data": {
      "image/png": "[encoded data removed]",
      "text/plain": [
       "<Figure size 432x288 with 1 Axes>"
      ]
     },
     "metadata": {
      "needs_background": "light",
      "tags": []
     },
     "output_type": "display_data"
    }
   ],
   "source": [
    "df1=df.copy()\n",
    "df1['count_sent'].loc[df1['count_sent']>7]=7\n",
    "sns.violinplot(y='count_sent',x='clean', data=df1)\n",
    "plt.show()\n",
    "sns.boxplot(y='count_sent',x='clean', data=df1)\n",
    "plt.show()\n"
   ]
  },
  {
   "cell_type": "code",
   "execution_count": null,
   "id": "4e74354d",
   "metadata": {
    "colab": {
     "base_uri": "https://localhost:8080/",
     "height": 646
    },
    "executionInfo": {
     "elapsed": 6575,
     "status": "ok",
     "timestamp": 1601062272962,
     "user": {
      "displayName": "Harshit Agrawal",
      "photoUrl": "",
      "userId": "04419704427221322184"
     },
     "user_tz": -330
    },
    "id": "BXs5AAiVrU5J",
    "outputId": "37eecc80-c0b2-4071-869a-7b59b43c0a0c"
   },
   "outputs": [
    {
     "name": "stderr",
     "output_type": "stream",
     "text": [
      "/usr/local/lib/python3.6/dist-packages/pandas/core/indexing.py:671: SettingWithCopyWarning: \n",
      "A value is trying to be set on a copy of a slice from a DataFrame\n",
      "\n",
      "See the caveats in the documentation: https://pandas.pydata.org/pandas-docs/stable/user_guide/indexing.html#returning-a-view-versus-a-copy\n",
      "  self._setitem_with_indexer(indexer, value)\n"
     ]
    },
    {
     "data": {
      "image/png": "[encoded data removed]",
      "text/plain": [
       "<Figure size 432x288 with 1 Axes>"
      ]
     },
     "metadata": {
      "needs_background": "light",
      "tags": []
     },
     "output_type": "display_data"
    },
    {
     "data": {
      "image/png": "[encoded data removed]",
      "text/plain": [
       "<Figure size 432x288 with 1 Axes>"
      ]
     },
     "metadata": {
      "needs_background": "light",
      "tags": []
     },
     "output_type": "display_data"
    }
   ],
   "source": [
    "df1=df.copy()\n",
    "df1['count_word'].loc[df1['count_word']>200]=200\n",
    "sns.violinplot(y='count_word',x='clean', data=df1)\n",
    "plt.show()\n",
    "sns.boxplot(y='count_word',x='clean', data=df1)\n",
    "plt.show()\n"
   ]
  },
  {
   "cell_type": "code",
   "execution_count": null,
   "id": "abf21886",
   "metadata": {
    "colab": {
     "base_uri": "https://localhost:8080/",
     "height": 646
    },
    "executionInfo": {
     "elapsed": 7211,
     "status": "ok",
     "timestamp": 1601062273920,
     "user": {
      "displayName": "Harshit Agrawal",
      "photoUrl": "",
      "userId": "04419704427221322184"
     },
     "user_tz": -330
    },
    "id": "MvXrMZ6NsNkf",
    "outputId": "0ea20f48-a065-4803-e1c2-9e33bfb9a5af"
   },
   "outputs": [
    {
     "name": "stderr",
     "output_type": "stream",
     "text": [
      "/usr/local/lib/python3.6/dist-packages/pandas/core/indexing.py:671: SettingWithCopyWarning: \n",
      "A value is trying to be set on a copy of a slice from a DataFrame\n",
      "\n",
      "See the caveats in the documentation: https://pandas.pydata.org/pandas-docs/stable/user_guide/indexing.html#returning-a-view-versus-a-copy\n",
      "  self._setitem_with_indexer(indexer, value)\n"
     ]
    },
    {
     "data": {
      "image/png": "[encoded data removed]",
      "text/plain": [
       "<Figure size 432x288 with 1 Axes>"
      ]
     },
     "metadata": {
      "needs_background": "light",
      "tags": []
     },
     "output_type": "display_data"
    },
    {
     "data": {
      "image/png": "[encoded data removed]",
      "text/plain": [
       "<Figure size 432x288 with 1 Axes>"
      ]
     },
     "metadata": {
      "needs_background": "light",
      "tags": []
     },
     "output_type": "display_data"
    }
   ],
   "source": [
    "df1=df.copy()\n",
    "df1['count_letters'].loc[df1['count_letters']>1000]=1000\n",
    "sns.violinplot(y='count_letters',x='clean', data=df1)\n",
    "plt.show()\n",
    "sns.boxplot(y='count_letters',x='clean', data=df1)\n",
    "plt.show()\n"
   ]
  },
  {
   "cell_type": "code",
   "execution_count": null,
   "id": "ea83e0fb",
   "metadata": {
    "colab": {
     "base_uri": "https://localhost:8080/",
     "height": 373
    },
    "executionInfo": {
     "elapsed": 7805,
     "status": "ok",
     "timestamp": 1601062274820,
     "user": {
      "displayName": "Harshit Agrawal",
      "photoUrl": "",
      "userId": "04419704427221322184"
     },
     "user_tz": -330
    },
    "id": "_qma5gNisc1t",
    "outputId": "db3bd668-43b6-4482-a666-3db6b86e0b52"
   },
   "outputs": [
    {
     "data": {
      "text/plain": [
       "<matplotlib.axes._subplots.AxesSubplot at 0x7fa536d26780>"
      ]
     },
     "execution_count": 76,
     "metadata": {
      "tags": []
     },
     "output_type": "execute_result"
    },
    {
     "data": {
      "image/png": "[encoded data removed]",
      "text/plain": [
       "<Figure size 432x288 with 2 Axes>"
      ]
     },
     "metadata": {
      "needs_background": "light",
      "tags": []
     },
     "output_type": "display_data"
    }
   ],
   "source": [
    "corr=df.iloc[:,-4:].corr()\n",
    "sns.heatmap(corr,annot=True)"
   ]
  },
  {
   "cell_type": "code",
   "execution_count": null,
   "id": "2e001128",
   "metadata": {
    "colab": {
     "base_uri": "https://localhost:8080/",
     "height": 748
    },
    "executionInfo": {
     "elapsed": 7515,
     "status": "ok",
     "timestamp": 1601062274822,
     "user": {
      "displayName": "Harshit Agrawal",
      "photoUrl": "",
      "userId": "04419704427221322184"
     },
     "user_tz": -330
    },
    "id": "_LiX-HKnLqk-",
    "outputId": "f1fb57a9-ddb5-46d6-ad4b-f6c93618bafd"
   },
   "outputs": [
    {
     "name": "stderr",
     "output_type": "stream",
     "text": [
      "/usr/local/lib/python3.6/dist-packages/pandas/core/indexing.py:671: SettingWithCopyWarning: \n",
      "A value is trying to be set on a copy of a slice from a DataFrame\n",
      "\n",
      "See the caveats in the documentation: https://pandas.pydata.org/pandas-docs/stable/user_guide/indexing.html#returning-a-view-versus-a-copy\n",
      "  self._setitem_with_indexer(indexer, value)\n",
      "/usr/local/lib/python3.6/dist-packages/pandas/core/indexing.py:671: SettingWithCopyWarning: \n",
      "A value is trying to be set on a copy of a slice from a DataFrame\n",
      "\n",
      "See the caveats in the documentation: https://pandas.pydata.org/pandas-docs/stable/user_guide/indexing.html#returning-a-view-versus-a-copy\n",
      "  self._setitem_with_indexer(indexer, value)\n"
     ]
    },
    {
     "data": {
      "image/png": "[encoded data removed]",
      "text/plain": [
       "<Figure size 432x288 with 1 Axes>"
      ]
     },
     "metadata": {
      "needs_background": "light",
      "tags": []
     },
     "output_type": "display_data"
    },
    {
     "data": {
      "text/plain": [
       "<matplotlib.axes._subplots.AxesSubplot at 0x7fa536d6b1d0>"
      ]
     },
     "execution_count": 77,
     "metadata": {
      "tags": []
     },
     "output_type": "execute_result"
    },
    {
     "data": {
      "image/png": "[encoded data removed]",
      "text/plain": [
       "<Figure size 432x288 with 1 Axes>"
      ]
     },
     "metadata": {
      "needs_background": "light",
      "tags": []
     },
     "output_type": "display_data"
    }
   ],
   "source": [
    "df1=df.copy()\n",
    "df1['count_word'].loc[df1['count_word']>200]=200\n",
    "sns.boxplot(y='count_word',x='clean', data=df1)\n",
    "df1['count_unique_word'].loc[df1['count_unique_word']>200]=200\n",
    "plt.show()\n",
    "sns.boxplot(y='count_unique_word',x='clean', data=df1)"
   ]
  },
  {
   "cell_type": "code",
   "execution_count": null,
   "id": "05b4e340",
   "metadata": {
    "colab": {
     "base_uri": "https://localhost:8080/",
     "height": 266
    },
    "executionInfo": {
     "elapsed": 7161,
     "status": "ok",
     "timestamp": 1601062274824,
     "user": {
      "displayName": "Harshit Agrawal",
      "photoUrl": "",
      "userId": "04419704427221322184"
     },
     "user_tz": -330
    },
    "id": "eGNisc5WslIs",
    "outputId": "160f7e1e-4dfa-41ef-d5be-3d314beb9738"
   },
   "outputs": [
    {
     "data": {
      "image/png": "[encoded data removed]",
      "text/plain": [
       "<Figure size 432x288 with 1 Axes>"
      ]
     },
     "metadata": {
      "needs_background": "light",
      "tags": []
     },
     "output_type": "display_data"
    }
   ],
   "source": [
    "#Spammers more toxic?\n",
    "df['word_unique_percent']=df['count_unique_word']*100/df['count_word']\n",
    "spammers=df[df['word_unique_percent']<25]\n",
    "x=spammers.iloc[:,2:9].sum()\n",
    "ax=sns.barplot(x=x.index, y=x.values)"
   ]
  },
  {
   "cell_type": "code",
   "execution_count": null,
   "id": "430bb0bd",
   "metadata": {
    "colab": {
     "base_uri": "https://localhost:8080/",
     "height": 298
    },
    "executionInfo": {
     "elapsed": 7910,
     "status": "ok",
     "timestamp": 1601062275995,
     "user": {
      "displayName": "Harshit Agrawal",
      "photoUrl": "",
      "userId": "04419704427221322184"
     },
     "user_tz": -330
    },
    "id": "L4UuOxlcOm8x",
    "outputId": "93ab76a9-30cc-4609-fd2c-eeeaa0a1179f"
   },
   "outputs": [
    {
     "data": {
      "text/plain": [
       "Text(0.5, 0, 'Number of letters')"
      ]
     },
     "execution_count": 79,
     "metadata": {
      "tags": []
     },
     "output_type": "execute_result"
    },
    {
     "data": {
      "image/png": "[encoded data removed]",
      "text/plain": [
       "<Figure size 720x288 with 1 Axes>"
      ]
     },
     "metadata": {
      "needs_background": "light",
      "tags": []
     },
     "output_type": "display_data"
    }
   ],
   "source": [
    "plt.figure(figsize=(10,4))\n",
    "ax=sns.kdeplot(df[df.clean == 0].count_letters, label=\"toxic\",shade=True,color='r')\n",
    "ax=sns.kdeplot(df[df.clean == 1].count_letters, label=\"clean\")\n",
    "plt.legend()\n",
    "plt.ylabel('Number of occurances')\n",
    "plt.xlabel('Number of letters')"
   ]
  },
  {
   "cell_type": "code",
   "execution_count": null,
   "id": "97786cb7",
   "metadata": {
    "colab": {
     "base_uri": "https://localhost:8080/",
     "height": 296
    },
    "executionInfo": {
     "elapsed": 7354,
     "status": "ok",
     "timestamp": 1601062275997,
     "user": {
      "displayName": "Harshit Agrawal",
      "photoUrl": "",
      "userId": "04419704427221322184"
     },
     "user_tz": -330
    },
    "id": "c0LTDtrGRGJN",
    "outputId": "b5e4970a-32c6-4315-db64-af8d22c0d78d"
   },
   "outputs": [
    {
     "data": {
      "text/plain": [
       "Text(0.5, 0, 'Number of words')"
      ]
     },
     "execution_count": 80,
     "metadata": {
      "tags": []
     },
     "output_type": "execute_result"
    },
    {
     "data": {
      "image/png": "[encoded data removed]",
      "text/plain": [
       "<Figure size 720x288 with 1 Axes>"
      ]
     },
     "metadata": {
      "needs_background": "light",
      "tags": []
     },
     "output_type": "display_data"
    }
   ],
   "source": [
    "plt.figure(figsize=(10,4))\n",
    "ax=sns.kdeplot(df[df.clean == 0].count_word, label=\"toxic\",shade=True,color='r')\n",
    "ax=sns.kdeplot(df[df.clean == 1].count_word, label=\"clean\")\n",
    "plt.legend()\n",
    "plt.ylabel('Number of occurances')\n",
    "plt.xlabel('Number of words')"
   ]
  },
  {
   "cell_type": "code",
   "execution_count": null,
   "id": "a32e0d1a",
   "metadata": {
    "colab": {
     "base_uri": "https://localhost:8080/",
     "height": 296
    },
    "executionInfo": {
     "elapsed": 6939,
     "status": "ok",
     "timestamp": 1601062275999,
     "user": {
      "displayName": "Harshit Agrawal",
      "photoUrl": "",
      "userId": "04419704427221322184"
     },
     "user_tz": -330
    },
    "id": "KlIFm4ckRONc",
    "outputId": "eb92e91a-2836-47ec-c743-4ef4a0ef812c"
   },
   "outputs": [
    {
     "data": {
      "text/plain": [
       "Text(0.5, 0, 'Number of sentences')"
      ]
     },
     "execution_count": 81,
     "metadata": {
      "tags": []
     },
     "output_type": "execute_result"
    },
    {
     "data": {
      "image/png": "[encoded data removed]",
      "text/plain": [
       "<Figure size 720x288 with 1 Axes>"
      ]
     },
     "metadata": {
      "needs_background": "light",
      "tags": []
     },
     "output_type": "display_data"
    }
   ],
   "source": [
    "plt.figure(figsize=(10,4))\n",
    "ax=sns.kdeplot(df[df.clean == 0].count_sent, label=\"toxic\",shade=True,color='r')\n",
    "ax=sns.kdeplot(df[df.clean == 1].count_sent, label=\"clean\")\n",
    "plt.legend()\n",
    "plt.ylabel('Number of occurances')\n",
    "plt.xlabel('Number of sentences')"
   ]
  },
  {
   "cell_type": "code",
   "execution_count": null,
   "id": "4d39ab2b",
   "metadata": {
    "id": "PjeQnhOBROH9"
   },
   "outputs": [],
   "source": []
  },
  {
   "cell_type": "code",
   "execution_count": null,
   "id": "f4c05c58",
   "metadata": {
    "id": "nPBb2bxXUhub"
   },
   "outputs": [],
   "source": [
    "path='/content/drive/My Drive/Colab_data/Data_Mining/Data-Mining-Project/dataset'"
   ]
  },
  {
   "cell_type": "code",
   "execution_count": null,
   "id": "0c5426c9",
   "metadata": {
    "id": "Yky6T5jDUhZQ"
   },
   "outputs": [],
   "source": [
    "\"\"\"Un-Comment For Running locally out of colab\n",
    "path='./dataset'\n",
    "\"\"\"#Un-Comment For Running locally out of colab "
   ]
  },
  {
   "cell_type": "code",
   "execution_count": null,
   "id": "37e9adc2",
   "metadata": {
    "id": "RUkF3GOswM81"
   },
   "outputs": [],
   "source": [
    "import pandas as pd\n",
    "import numpy as np"
   ]
  },
  {
   "cell_type": "code",
   "execution_count": null,
   "id": "803eaf7d",
   "metadata": {
    "id": "OksAIRhEv9zx"
   },
   "outputs": [],
   "source": [
    "train=pd.read_csv(path+\"train.csv\")\n",
    "test=pd.read_csv(path+\"test.csv\")\n",
    "train=train[:100000]"
   ]
  },
  {
   "cell_type": "code",
   "execution_count": null,
   "id": "3e2deab7",
   "metadata": {
    "colab": {
     "base_uri": "https://localhost:8080/",
     "height": 204
    },
    "executionInfo": {
     "elapsed": 4169,
     "status": "ok",
     "timestamp": 1601072589961,
     "user": {
      "displayName": "Harshit Agrawal",
      "photoUrl": "",
      "userId": "04419704427221322184"
     },
     "user_tz": -330
    },
    "id": "dgnpGKjrwObO",
    "outputId": "b14c2388-9f7f-4c65-fe34-238e42e403e1"
   },
   "outputs": [
    {
     "data": {
      "text/html": [
       "<div>\n",
       "<style scoped>\n",
       "    .dataframe tbody tr th:only-of-type {\n",
       "        vertical-align: middle;\n",
       "    }\n",
       "\n",
       "    .dataframe tbody tr th {\n",
       "        vertical-align: top;\n",
       "    }\n",
       "\n",
       "    .dataframe thead th {\n",
       "        text-align: right;\n",
       "    }\n",
       "</style>\n",
       "<table border=\"1\" class=\"dataframe\">\n",
       "  <thead>\n",
       "    <tr style=\"text-align: right;\">\n",
       "      <th></th>\n",
       "      <th>id</th>\n",
       "      <th>comment_text</th>\n",
       "      <th>toxic</th>\n",
       "      <th>severe_toxic</th>\n",
       "      <th>obscene</th>\n",
       "      <th>threat</th>\n",
       "      <th>insult</th>\n",
       "      <th>identity_hate</th>\n",
       "    </tr>\n",
       "  </thead>\n",
       "  <tbody>\n",
       "    <tr>\n",
       "      <th>0</th>\n",
       "      <td>0000997932d777bf</td>\n",
       "      <td>Explanation\\nWhy the edits made under my usern...</td>\n",
       "      <td>0</td>\n",
       "      <td>0</td>\n",
       "      <td>0</td>\n",
       "      <td>0</td>\n",
       "      <td>0</td>\n",
       "      <td>0</td>\n",
       "    </tr>\n",
       "    <tr>\n",
       "      <th>1</th>\n",
       "      <td>000103f0d9cfb60f</td>\n",
       "      <td>D'aww! He matches this background colour I'm s...</td>\n",
       "      <td>0</td>\n",
       "      <td>0</td>\n",
       "      <td>0</td>\n",
       "      <td>0</td>\n",
       "      <td>0</td>\n",
       "      <td>0</td>\n",
       "    </tr>\n",
       "    <tr>\n",
       "      <th>2</th>\n",
       "      <td>000113f07ec002fd</td>\n",
       "      <td>Hey man, I'm really not trying to edit war. It...</td>\n",
       "      <td>0</td>\n",
       "      <td>0</td>\n",
       "      <td>0</td>\n",
       "      <td>0</td>\n",
       "      <td>0</td>\n",
       "      <td>0</td>\n",
       "    </tr>\n",
       "    <tr>\n",
       "      <th>3</th>\n",
       "      <td>0001b41b1c6bb37e</td>\n",
       "      <td>\"\\nMore\\nI can't make any real suggestions on ...</td>\n",
       "      <td>0</td>\n",
       "      <td>0</td>\n",
       "      <td>0</td>\n",
       "      <td>0</td>\n",
       "      <td>0</td>\n",
       "      <td>0</td>\n",
       "    </tr>\n",
       "    <tr>\n",
       "      <th>4</th>\n",
       "      <td>0001d958c54c6e35</td>\n",
       "      <td>You, sir, are my hero. Any chance you remember...</td>\n",
       "      <td>0</td>\n",
       "      <td>0</td>\n",
       "      <td>0</td>\n",
       "      <td>0</td>\n",
       "      <td>0</td>\n",
       "      <td>0</td>\n",
       "    </tr>\n",
       "  </tbody>\n",
       "</table>\n",
       "</div>"
      ],
      "text/plain": [
       "                 id  ... identity_hate\n",
       "0  0000997932d777bf  ...             0\n",
       "1  000103f0d9cfb60f  ...             0\n",
       "2  000113f07ec002fd  ...             0\n",
       "3  0001b41b1c6bb37e  ...             0\n",
       "4  0001d958c54c6e35  ...             0\n",
       "\n",
       "[5 rows x 8 columns]"
      ]
     },
     "execution_count": 3,
     "metadata": {
      "tags": []
     },
     "output_type": "execute_result"
    }
   ],
   "source": [
    "train.head()"
   ]
  },
  {
   "cell_type": "code",
   "execution_count": null,
   "id": "46904f87",
   "metadata": {
    "id": "aRgpzKrG25_x"
   },
   "outputs": [],
   "source": [
    "import re"
   ]
  },
  {
   "cell_type": "code",
   "execution_count": null,
   "id": "0a10b69e",
   "metadata": {
    "colab": {
     "base_uri": "https://localhost:8080/",
     "height": 51
    },
    "executionInfo": {
     "elapsed": 4144,
     "status": "ok",
     "timestamp": 1601072589965,
     "user": {
      "displayName": "Harshit Agrawal",
      "photoUrl": "",
      "userId": "04419704427221322184"
     },
     "user_tz": -330
    },
    "id": "VJtBFfW049tf",
    "outputId": "9ad2b460-9e47-412a-b79a-2e1b342fb60e"
   },
   "outputs": [
    {
     "name": "stdout",
     "output_type": "stream",
     "text": [
      "[nltk_data] Downloading package stopwords to /root/nltk_data...\n",
      "[nltk_data]   Package stopwords is already up-to-date!\n"
     ]
    }
   ],
   "source": [
    "import nltk\n",
    "nltk.download('stopwords')\n",
    "from nltk.corpus import stopwords\n",
    "from nltk.stem.porter import PorterStemmer\n",
    "from sklearn.feature_extraction.text import CountVectorizer"
   ]
  },
  {
   "cell_type": "code",
   "execution_count": null,
   "id": "29046ead",
   "metadata": {
    "id": "ZPp9W4cpzd3Z"
   },
   "outputs": [],
   "source": [
    "def clean(comment):\n",
    "  comment = comment.lower()\n",
    "  comment = re.sub('[^a-zA-Z]',' ', comment)\n",
    "  comment = comment.strip()\n",
    "  comment = comment.split()\n",
    "  stop_words = set(stopwords.words('english'))\n",
    "  stemmer = PorterStemmer()\n",
    "  comment = [stemmer.stem(word) for word in comment if word not in stop_words and len(word)<30]\n",
    "  comment = ' '.join(comment)\n",
    "  return comment"
   ]
  },
  {
   "cell_type": "code",
   "execution_count": null,
   "id": "5301a253",
   "metadata": {
    "id": "QKhDcLbK_iDr"
   },
   "outputs": [],
   "source": [
    "def vectorise(comments):\n",
    "  vectorizer = CountVectorizer(max_features=5000)\n",
    "  X = vectorizer.fit_transform(comments)\n",
    "  return X.toarray()"
   ]
  },
  {
   "cell_type": "code",
   "execution_count": null,
   "id": "4b2d7dd9",
   "metadata": {
    "colab": {
     "base_uri": "https://localhost:8080/",
     "height": 34
    },
    "executionInfo": {
     "elapsed": 4891,
     "status": "ok",
     "timestamp": 1601072590763,
     "user": {
      "displayName": "Harshit Agrawal",
      "photoUrl": "",
      "userId": "04419704427221322184"
     },
     "user_tz": -330
    },
    "id": "4V3qgcDI9480",
    "outputId": "e82d70a9-e61b-4b7b-808a-d239c4d6d482"
   },
   "outputs": [
    {
     "data": {
      "text/plain": [
       "100000"
      ]
     },
     "execution_count": 8,
     "metadata": {
      "tags": []
     },
     "output_type": "execute_result"
    }
   ],
   "source": [
    "raw_comments= list(train['comment_text'])\n",
    "len(raw_comments)"
   ]
  },
  {
   "cell_type": "code",
   "execution_count": null,
   "id": "c2c5c9a4",
   "metadata": {
    "id": "4tyxvwNLTCap"
   },
   "outputs": [],
   "source": [
    "# raw_comments[5606+110000] #Led to recursion error while stemming!!!!!"
   ]
  },
  {
   "cell_type": "code",
   "execution_count": null,
   "id": "bb8de8d6",
   "metadata": {
    "colab": {
     "base_uri": "https://localhost:8080/",
     "height": 187
    },
    "executionInfo": {
     "elapsed": 91691,
     "status": "ok",
     "timestamp": 1601072677588,
     "user": {
      "displayName": "Harshit Agrawal",
      "photoUrl": "",
      "userId": "04419704427221322184"
     },
     "user_tz": -330
    },
    "id": "gRa7RcXC_1bp",
    "outputId": "6f337194-d0d0-4c34-cde8-ce8a5fbd37ad"
   },
   "outputs": [
    {
     "name": "stdout",
     "output_type": "stream",
     "text": [
      "0\n",
      "10000\n",
      "20000\n",
      "30000\n",
      "40000\n",
      "50000\n",
      "60000\n",
      "70000\n",
      "80000\n",
      "90000\n"
     ]
    }
   ],
   "source": [
    "comments=[]\n",
    "for i,com in enumerate(raw_comments):\n",
    "  if(i%10000==0): print(i)\n",
    "  try:\n",
    "    comments.append(clean(com))\n",
    "  except:\n",
    "    print(i,com)"
   ]
  },
  {
   "cell_type": "code",
   "execution_count": null,
   "id": "6515a2c7",
   "metadata": {
    "colab": {
     "base_uri": "https://localhost:8080/",
     "height": 34
    },
    "executionInfo": {
     "elapsed": 15118,
     "status": "ok",
     "timestamp": 1601072750706,
     "user": {
      "displayName": "Harshit Agrawal",
      "photoUrl": "",
      "userId": "04419704427221322184"
     },
     "user_tz": -330
    },
    "id": "Ws4a2FjvAOAW",
    "outputId": "c81c1cdc-6897-411b-d9aa-da6bc3371772"
   },
   "outputs": [
    {
     "data": {
      "text/plain": [
       "(100000, 5000)"
      ]
     },
     "execution_count": 20,
     "metadata": {
      "tags": []
     },
     "output_type": "execute_result"
    }
   ],
   "source": [
    "x=vectorise(comments)\n",
    "x.shape"
   ]
  },
  {
   "cell_type": "code",
   "execution_count": null,
   "id": "3281e8a4",
   "metadata": {
    "id": "rDR1SIICDCer"
   },
   "outputs": [],
   "source": [
    "from sklearn.naive_bayes import MultinomialNB\n",
    "from sklearn.multiclass import OneVsRestClassifier"
   ]
  },
  {
   "cell_type": "code",
   "execution_count": null,
   "id": "6ddadbd1",
   "metadata": {
    "colab": {
     "base_uri": "https://localhost:8080/",
     "height": 359
    },
    "executionInfo": {
     "elapsed": 98978,
     "status": "ok",
     "timestamp": 1601072684923,
     "user": {
      "displayName": "Harshit Agrawal",
      "photoUrl": "",
      "userId": "04419704427221322184"
     },
     "user_tz": -330
    },
    "id": "wl4w1o7FDTZz",
    "outputId": "bdf7320a-2558-4f82-846a-03e23494e42d"
   },
   "outputs": [
    {
     "data": {
      "text/html": [
       "<div>\n",
       "<style scoped>\n",
       "    .dataframe tbody tr th:only-of-type {\n",
       "        vertical-align: middle;\n",
       "    }\n",
       "\n",
       "    .dataframe tbody tr th {\n",
       "        vertical-align: top;\n",
       "    }\n",
       "\n",
       "    .dataframe thead th {\n",
       "        text-align: right;\n",
       "    }\n",
       "</style>\n",
       "<table border=\"1\" class=\"dataframe\">\n",
       "  <thead>\n",
       "    <tr style=\"text-align: right;\">\n",
       "      <th></th>\n",
       "      <th>toxic</th>\n",
       "      <th>severe_toxic</th>\n",
       "      <th>obscene</th>\n",
       "      <th>threat</th>\n",
       "      <th>insult</th>\n",
       "      <th>identity_hate</th>\n",
       "    </tr>\n",
       "  </thead>\n",
       "  <tbody>\n",
       "    <tr>\n",
       "      <th>0</th>\n",
       "      <td>0</td>\n",
       "      <td>0</td>\n",
       "      <td>0</td>\n",
       "      <td>0</td>\n",
       "      <td>0</td>\n",
       "      <td>0</td>\n",
       "    </tr>\n",
       "    <tr>\n",
       "      <th>1</th>\n",
       "      <td>0</td>\n",
       "      <td>0</td>\n",
       "      <td>0</td>\n",
       "      <td>0</td>\n",
       "      <td>0</td>\n",
       "      <td>0</td>\n",
       "    </tr>\n",
       "    <tr>\n",
       "      <th>2</th>\n",
       "      <td>0</td>\n",
       "      <td>0</td>\n",
       "      <td>0</td>\n",
       "      <td>0</td>\n",
       "      <td>0</td>\n",
       "      <td>0</td>\n",
       "    </tr>\n",
       "    <tr>\n",
       "      <th>3</th>\n",
       "      <td>0</td>\n",
       "      <td>0</td>\n",
       "      <td>0</td>\n",
       "      <td>0</td>\n",
       "      <td>0</td>\n",
       "      <td>0</td>\n",
       "    </tr>\n",
       "    <tr>\n",
       "      <th>4</th>\n",
       "      <td>0</td>\n",
       "      <td>0</td>\n",
       "      <td>0</td>\n",
       "      <td>0</td>\n",
       "      <td>0</td>\n",
       "      <td>0</td>\n",
       "    </tr>\n",
       "    <tr>\n",
       "      <th>5</th>\n",
       "      <td>0</td>\n",
       "      <td>0</td>\n",
       "      <td>0</td>\n",
       "      <td>0</td>\n",
       "      <td>0</td>\n",
       "      <td>0</td>\n",
       "    </tr>\n",
       "    <tr>\n",
       "      <th>6</th>\n",
       "      <td>1</td>\n",
       "      <td>1</td>\n",
       "      <td>1</td>\n",
       "      <td>0</td>\n",
       "      <td>1</td>\n",
       "      <td>0</td>\n",
       "    </tr>\n",
       "    <tr>\n",
       "      <th>7</th>\n",
       "      <td>0</td>\n",
       "      <td>0</td>\n",
       "      <td>0</td>\n",
       "      <td>0</td>\n",
       "      <td>0</td>\n",
       "      <td>0</td>\n",
       "    </tr>\n",
       "    <tr>\n",
       "      <th>8</th>\n",
       "      <td>0</td>\n",
       "      <td>0</td>\n",
       "      <td>0</td>\n",
       "      <td>0</td>\n",
       "      <td>0</td>\n",
       "      <td>0</td>\n",
       "    </tr>\n",
       "    <tr>\n",
       "      <th>9</th>\n",
       "      <td>0</td>\n",
       "      <td>0</td>\n",
       "      <td>0</td>\n",
       "      <td>0</td>\n",
       "      <td>0</td>\n",
       "      <td>0</td>\n",
       "    </tr>\n",
       "  </tbody>\n",
       "</table>\n",
       "</div>"
      ],
      "text/plain": [
       "   toxic  severe_toxic  obscene  threat  insult  identity_hate\n",
       "0      0             0        0       0       0              0\n",
       "1      0             0        0       0       0              0\n",
       "2      0             0        0       0       0              0\n",
       "3      0             0        0       0       0              0\n",
       "4      0             0        0       0       0              0\n",
       "5      0             0        0       0       0              0\n",
       "6      1             1        1       0       1              0\n",
       "7      0             0        0       0       0              0\n",
       "8      0             0        0       0       0              0\n",
       "9      0             0        0       0       0              0"
      ]
     },
     "execution_count": 13,
     "metadata": {
      "tags": []
     },
     "output_type": "execute_result"
    }
   ],
   "source": [
    "labels=train.iloc[:,2:]\n",
    "labels.head(10)"
   ]
  },
  {
   "cell_type": "code",
   "execution_count": null,
   "id": "31725be6",
   "metadata": {
    "colab": {
     "base_uri": "https://localhost:8080/",
     "height": 34
    },
    "executionInfo": {
     "elapsed": 98964,
     "status": "ok",
     "timestamp": 1601072684925,
     "user": {
      "displayName": "Harshit Agrawal",
      "photoUrl": "",
      "userId": "04419704427221322184"
     },
     "user_tz": -330
    },
    "id": "Rfi_YZf9DuQZ",
    "outputId": "9c772248-2bd4-45c9-e8bf-48ab8bffd15d"
   },
   "outputs": [
    {
     "data": {
      "text/plain": [
       "['toxic', 'severe_toxic', 'obscene', 'threat', 'insult', 'identity_hate']"
      ]
     },
     "execution_count": 14,
     "metadata": {
      "tags": []
     },
     "output_type": "execute_result"
    }
   ],
   "source": [
    "classes=list(labels.columns)\n",
    "classes"
   ]
  },
  {
   "cell_type": "code",
   "execution_count": null,
   "id": "c37ee0d8",
   "metadata": {
    "colab": {
     "base_uri": "https://localhost:8080/",
     "height": 359
    },
    "executionInfo": {
     "elapsed": 98948,
     "status": "ok",
     "timestamp": 1601072684927,
     "user": {
      "displayName": "Harshit Agrawal",
      "photoUrl": "",
      "userId": "04419704427221322184"
     },
     "user_tz": -330
    },
    "id": "1XWEtBQ4HuvV",
    "outputId": "22db1a58-03b2-428c-a87e-bac3e7a10f46"
   },
   "outputs": [
    {
     "data": {
      "text/html": [
       "<div>\n",
       "<style scoped>\n",
       "    .dataframe tbody tr th:only-of-type {\n",
       "        vertical-align: middle;\n",
       "    }\n",
       "\n",
       "    .dataframe tbody tr th {\n",
       "        vertical-align: top;\n",
       "    }\n",
       "\n",
       "    .dataframe thead th {\n",
       "        text-align: right;\n",
       "    }\n",
       "</style>\n",
       "<table border=\"1\" class=\"dataframe\">\n",
       "  <thead>\n",
       "    <tr style=\"text-align: right;\">\n",
       "      <th></th>\n",
       "      <th>toxic</th>\n",
       "      <th>severe_toxic</th>\n",
       "      <th>obscene</th>\n",
       "      <th>threat</th>\n",
       "      <th>insult</th>\n",
       "      <th>identity_hate</th>\n",
       "    </tr>\n",
       "  </thead>\n",
       "  <tbody>\n",
       "    <tr>\n",
       "      <th>0</th>\n",
       "      <td>0</td>\n",
       "      <td>0</td>\n",
       "      <td>0</td>\n",
       "      <td>0</td>\n",
       "      <td>0</td>\n",
       "      <td>0</td>\n",
       "    </tr>\n",
       "    <tr>\n",
       "      <th>1</th>\n",
       "      <td>0</td>\n",
       "      <td>0</td>\n",
       "      <td>0</td>\n",
       "      <td>0</td>\n",
       "      <td>0</td>\n",
       "      <td>0</td>\n",
       "    </tr>\n",
       "    <tr>\n",
       "      <th>2</th>\n",
       "      <td>0</td>\n",
       "      <td>0</td>\n",
       "      <td>0</td>\n",
       "      <td>0</td>\n",
       "      <td>0</td>\n",
       "      <td>0</td>\n",
       "    </tr>\n",
       "    <tr>\n",
       "      <th>3</th>\n",
       "      <td>0</td>\n",
       "      <td>0</td>\n",
       "      <td>0</td>\n",
       "      <td>0</td>\n",
       "      <td>0</td>\n",
       "      <td>0</td>\n",
       "    </tr>\n",
       "    <tr>\n",
       "      <th>4</th>\n",
       "      <td>0</td>\n",
       "      <td>0</td>\n",
       "      <td>0</td>\n",
       "      <td>0</td>\n",
       "      <td>0</td>\n",
       "      <td>0</td>\n",
       "    </tr>\n",
       "    <tr>\n",
       "      <th>5</th>\n",
       "      <td>0</td>\n",
       "      <td>0</td>\n",
       "      <td>0</td>\n",
       "      <td>0</td>\n",
       "      <td>0</td>\n",
       "      <td>0</td>\n",
       "    </tr>\n",
       "    <tr>\n",
       "      <th>6</th>\n",
       "      <td>1</td>\n",
       "      <td>1</td>\n",
       "      <td>1</td>\n",
       "      <td>0</td>\n",
       "      <td>1</td>\n",
       "      <td>0</td>\n",
       "    </tr>\n",
       "    <tr>\n",
       "      <th>7</th>\n",
       "      <td>0</td>\n",
       "      <td>0</td>\n",
       "      <td>0</td>\n",
       "      <td>0</td>\n",
       "      <td>0</td>\n",
       "      <td>0</td>\n",
       "    </tr>\n",
       "    <tr>\n",
       "      <th>8</th>\n",
       "      <td>0</td>\n",
       "      <td>0</td>\n",
       "      <td>0</td>\n",
       "      <td>0</td>\n",
       "      <td>0</td>\n",
       "      <td>0</td>\n",
       "    </tr>\n",
       "    <tr>\n",
       "      <th>9</th>\n",
       "      <td>0</td>\n",
       "      <td>0</td>\n",
       "      <td>0</td>\n",
       "      <td>0</td>\n",
       "      <td>0</td>\n",
       "      <td>0</td>\n",
       "    </tr>\n",
       "  </tbody>\n",
       "</table>\n",
       "</div>"
      ],
      "text/plain": [
       "   toxic  severe_toxic  obscene  threat  insult  identity_hate\n",
       "0      0             0        0       0       0              0\n",
       "1      0             0        0       0       0              0\n",
       "2      0             0        0       0       0              0\n",
       "3      0             0        0       0       0              0\n",
       "4      0             0        0       0       0              0\n",
       "5      0             0        0       0       0              0\n",
       "6      1             1        1       0       1              0\n",
       "7      0             0        0       0       0              0\n",
       "8      0             0        0       0       0              0\n",
       "9      0             0        0       0       0              0"
      ]
     },
     "execution_count": 15,
     "metadata": {
      "tags": []
     },
     "output_type": "execute_result"
    }
   ],
   "source": [
    "labels.head(10)"
   ]
  },
  {
   "cell_type": "code",
   "execution_count": null,
   "id": "83a7d177",
   "metadata": {
    "id": "cv6nFCTcLZvH"
   },
   "outputs": [],
   "source": [
    "y=[]\n",
    "for idx,row in labels.iterrows():\n",
    "  y.append(row.values)\n",
    "y=np.array(y)"
   ]
  },
  {
   "cell_type": "code",
   "execution_count": null,
   "id": "d4d421ff",
   "metadata": {
    "id": "IWRKN8qTBJHI"
   },
   "outputs": [],
   "source": [
    "from sklearn.model_selection import train_test_split\n",
    "X_train, X_val, y_train, y_val = train_test_split(x,y,test_size=0.2,random_state=1)"
   ]
  },
  {
   "cell_type": "code",
   "execution_count": null,
   "id": "63911328",
   "metadata": {
    "id": "iRFXgwFeI48q"
   },
   "outputs": [],
   "source": [
    "from sklearn.metrics import confusion_matrix\n",
    "from sklearn.metrics import accuracy_score"
   ]
  },
  {
   "cell_type": "code",
   "execution_count": null,
   "id": "417d5600",
   "metadata": {
    "colab": {
     "base_uri": "https://localhost:8080/",
     "height": 782
    },
    "executionInfo": {
     "elapsed": 149507,
     "status": "ok",
     "timestamp": 1601072735549,
     "user": {
      "displayName": "Harshit Agrawal",
      "photoUrl": "",
      "userId": "04419704427221322184"
     },
     "user_tz": -330
    },
    "id": "Dpkchy6eBJDe",
    "outputId": "eb11d5b1-cd4f-480d-fab8-a973507842c7"
   },
   "outputs": [
    {
     "name": "stdout",
     "output_type": "stream",
     "text": [
      "Class:  toxic\n",
      "Train Accuracy: 0.95235\n",
      "Val Accuracy: 0.94945\n",
      "[[17648   402]\n",
      " [  609  1341]]\n",
      "precision 0.7694 recall 0.6877 F1 score 0.7262:\n",
      "\n",
      "Class:  severe_toxic\n",
      "Train Accuracy: 0.984325\n",
      "Val Accuracy: 0.9826\n",
      "[[19508   287]\n",
      " [   61   144]]\n",
      "precision 0.3341 recall 0.7024 F1 score 0.4528:\n",
      "\n",
      "Class:  obscene\n",
      "Train Accuracy: 0.9713875\n",
      "Val Accuracy: 0.9685\n",
      "[[18559   380]\n",
      " [  250   811]]\n",
      "precision 0.6809 recall 0.7644 F1 score 0.7202:\n",
      "\n",
      "Class:  threat\n",
      "Train Accuracy: 0.99025\n",
      "Val Accuracy: 0.9891\n",
      "[[19754   185]\n",
      " [   33    28]]\n",
      "precision 0.1315 recall 0.4590 F1 score 0.2044:\n",
      "\n",
      "Class:  insult\n",
      "Train Accuracy: 0.964775\n",
      "Val Accuracy: 0.96215\n",
      "[[18561   465]\n",
      " [  292   682]]\n",
      "precision 0.5946 recall 0.7002 F1 score 0.6431:\n",
      "\n",
      "Class:  identity_hate\n",
      "Train Accuracy: 0.98105\n",
      "Val Accuracy: 0.97945\n",
      "[[19490   352]\n",
      " [   59    99]]\n",
      "precision 0.2195 recall 0.6266 F1 score 0.3251:\n",
      "\n",
      "mean train accuracy :  0.9740229166666667\n",
      "mean val accuracy : 0.9718749999999999\n",
      "mean val F1 score : 0.5119811032175334\n"
     ]
    }
   ],
   "source": [
    "model = MultinomialNB()\n",
    "\n",
    "train_acc = []\n",
    "val_acc = []\n",
    "\n",
    "preds_train = []\n",
    "preds_val = []\n",
    "\n",
    "f1_val = []\n",
    "\n",
    "for i, label_name in enumerate(classes):\n",
    "    print('Class: ',label_name)\n",
    "    model.fit(X_train,y_train[:,i])\n",
    "  \n",
    "    preds_train_class = model.predict(X_train)\n",
    "    train_acc_class = accuracy_score(y_train[:,i], preds_train_class)\n",
    "    print('Train Accuracy:', train_acc_class)\n",
    "    train_acc.append(train_acc_class)\n",
    "    preds_train.append(preds_train_class)\n",
    "\n",
    "    preds_val_class = model.predict(X_val)\n",
    "    val_acc_class = accuracy_score(y_val[:,i], preds_val_class)\n",
    "    print('Val Accuracy:', val_acc_class)\n",
    "    val_acc.append(val_acc_class)\n",
    "    preds_val.append(preds_val_class)\n",
    "\n",
    "    cm = confusion_matrix(y_val[:,i], preds_val_class)\n",
    "    print(cm)\n",
    "\n",
    "    tn, fp, fn, tp = cm.ravel()\n",
    "    precision= tp/(tp+fp+1e-5)\n",
    "    recall= tp/(tp+fn+1e-5)\n",
    "    f1_score= (2*precision*recall)/(precision+recall+1e-5)\n",
    "    print('precision {:.4f} recall {:.4f} F1 score {:.4f}:'.format(precision,recall,f1_score))\n",
    "    f1_val.append(f1_score)\n",
    "\n",
    "    print()\n",
    "    \n",
    "print('mean train accuracy : ', np.mean(train_acc))\n",
    "print('mean val accuracy :', np.mean(val_acc))\n",
    "print('mean val F1 score :', np.mean(f1_val))"
   ]
  },
  {
   "cell_type": "code",
   "execution_count": null,
   "id": "fab3b357",
   "metadata": {
    "id": "jSXMn8rnQ-fF"
   },
   "outputs": [],
   "source": []
  }
 ],
 "metadata": {},
 "nbformat": 4,
 "nbformat_minor": 5
}
